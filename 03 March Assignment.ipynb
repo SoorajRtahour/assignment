{
 "cells": [
  {
   "cell_type": "markdown",
   "id": "7b867d2f-dad5-4223-b7e6-b5c4edc6a347",
   "metadata": {},
   "source": [
    "Que 1: Name any five plots that we can plot using the Seaborn library. Also, state the uses of each plot."
   ]
  },
  {
   "cell_type": "code",
   "execution_count": null,
   "id": "3e382635-029b-4e59-8a81-a44a9a128239",
   "metadata": {},
   "outputs": [],
   "source": [
    "Seaborn is a popular Python data visualization library that is built on top of Matplotlib. It provides a high-level interface for creating informative and attractive statistical graphics. Here are five common plots you can create using Seaborn and their typical uses:\n",
    "\n",
    "1. Scatter Plot:\n",
    "   Use: A scatter plot is used to visualize the relationship between two numerical variables. Each point on the plot represents a data point, making it easy to identify patterns or correlations between the variables.\n",
    "\n",
    "2. Bar Plot:\n",
    "   Use: Bar plots are used to display categorical data with rectangular bars. They are great for showing comparisons between different categories or groups. For example, you can use bar plots to compare sales figures for different products.\n",
    "\n",
    "3. Histogram:\n",
    "   Use: Histograms are used to display the distribution of a single numerical variable. They divide the data into bins and display the frequency or density of data points within each bin, making it easy to understand the data's underlying distribution.\n",
    "\n",
    "4. Box Plot (Box-and-Whisker Plot):\n",
    "   Use: Box plots are useful for visualizing the distribution and summary statistics of a numerical variable. They show the median, quartiles, and potential outliers in the data. Box plots are especially helpful for identifying the spread and skewness of the data.\n",
    "\n",
    "5. Heatmap:\n",
    "   Use: Heatmaps are great for displaying the relationships between two categorical variables. They use color to represent the strength of the relationship or correlation between variables. Heatmaps are commonly used in data analysis and correlation matrices.\n",
    "\n",
    "These are just a few of the many types of plots you can create using Seaborn. Seaborn provides a variety of other plots, such as line plots, violin plots, pair plots, and more, which can be valuable for different data analysis and visualization needs."
   ]
  },
  {
   "cell_type": "markdown",
   "id": "cf8ed242-69bc-4325-851a-37c967bb1834",
   "metadata": {},
   "source": [
    "Que 2: Load the \"fmri\" dataset using the load_dataset function of seaborn. Plot a line plot using x =\n",
    "\"timepoint\" and y = \"signal\" for different events and regions.\n",
    "Note: timepoint, signal, event, and region are columns in the fmri dataset."
   ]
  },
  {
   "cell_type": "code",
   "execution_count": null,
   "id": "5b13f1c2-e5f4-4e46-b38b-dc38256f028f",
   "metadata": {},
   "outputs": [],
   "source": [
    "To create a line plot using the \"fmri\" dataset from Seaborn, you can follow these steps:\n",
    "\n",
    "1. First, make sure you have Seaborn and other necessary libraries installed. You can install Seaborn using pip if you haven't already:\n",
    "\n",
    "```bash\n",
    "pip install seaborn\n",
    "```\n",
    "\n",
    "2. Import the required libraries and load the \"fmri\" dataset:\n",
    "\n",
    "import seaborn as sns\n",
    "import matplotlib.pyplot as plt\n",
    "\n",
    "# Load the \"fmri\" dataset\n",
    "fmri_data = sns.load_dataset(\"fmri\")\n",
    "```\n",
    "\n",
    "3. Create a line plot using the \"timepoint\" on the x-axis and \"signal\" on the y-axis, with different lines representing different \"events\" and \"regions.\" You can use the `hue` parameter to differentiate lines by \"event\" and the `style` parameter to differentiate lines by \"region.\" Here's how you can create the line plot:\n",
    "\n",
    "# Create the line plot\n",
    "sns.lineplot(x=\"timepoint\", y=\"signal\", hue=\"event\", style=\"region\", data=fmri_data)\n",
    "\n",
    "# Customize the plot\n",
    "plt.title(\"FMRI Signal over Time\")\n",
    "plt.xlabel(\"Timepoint\")\n",
    "plt.ylabel(\"Signal\")\n",
    "plt.legend(title=\"Event\", loc=\"best\")\n",
    "\n",
    "# Show the plot\n",
    "plt.show()\n",
    "```\n",
    "\n",
    "This code will load the \"fmri\" dataset, create a line plot with \"timepoint\" on the x-axis and \"signal\" on the y-axis, and use different colors and line styles to represent different \"events\" and \"regions.\" The legend will provide information about the events, and the plot will be displayed using Matplotlib."
   ]
  },
  {
   "cell_type": "markdown",
   "id": "35efeb81-5013-43b7-93b4-8f2bef503802",
   "metadata": {},
   "source": [
    "Que 3: Load the \"titanic\" dataset using the load_dataset function of seaborn. Plot two box plots using x =\n",
    "'pclass', y = 'age' and y = 'fare'.\n",
    "Note: pclass, age, and fare are columns in the titanic dataset."
   ]
  },
  {
   "cell_type": "code",
   "execution_count": null,
   "id": "dcea7505-edbe-4841-9e92-83fe720161dd",
   "metadata": {},
   "outputs": [],
   "source": [
    "To create two box plots using the \"titanic\" dataset in Seaborn, one for \"age\" and one for \"fare\" with \"pclass\" on the x-axis, you can follow these steps:\n",
    "\n",
    "1. Import the required libraries and load the \"titanic\" dataset:\n",
    "\n",
    "import seaborn as sns\n",
    "import matplotlib.pyplot as plt\n",
    "\n",
    "# Load the \"titanic\" dataset\n",
    "titanic_data = sns.load_dataset(\"titanic\")\n",
    "```\n",
    "\n",
    "2. Create the first box plot for \"age\" using \"pclass\" on the x-axis:\n",
    "\n",
    "# Create the box plot for 'age'\n",
    "sns.boxplot(x=\"pclass\", y=\"age\", data=titanic_data)\n",
    "\n",
    "# Customize the plot\n",
    "plt.title(\"Age Distribution by Passenger Class\")\n",
    "plt.xlabel(\"Passenger Class (Pclass)\")\n",
    "plt.ylabel(\"Age\")\n",
    "\n",
    "# Show the plot\n",
    "plt.show()\n",
    "```\n",
    "\n",
    "3. Create the second box plot for \"fare\" using \"pclass\" on the x-axis:\n",
    "\n",
    "# Create the box plot for 'fare'\n",
    "sns.boxplot(x=\"pclass\", y=\"fare\", data=titanic_data)\n",
    "\n",
    "# Customize the plot\n",
    "plt.title(\"Fare Distribution by Passenger Class\")\n",
    "plt.xlabel(\"Passenger Class (Pclass)\")\n",
    "plt.ylabel(\"Fare\")\n",
    "\n",
    "# Show the plot\n",
    "plt.show()\n",
    "```\n",
    "\n",
    "These two sets of code will create separate box plots for \"age\" and \"fare,\" each with \"pclass\" on the x-axis, showing the distribution of age and fare across different passenger classes. The plots will be displayed using Matplotlib."
   ]
  },
  {
   "cell_type": "markdown",
   "id": "de5e84ac-adb3-435a-9091-a5cf58be753b",
   "metadata": {},
   "source": [
    "Que 4: Use the \"diamonds\" dataset from seaborn to plot a histogram for the 'price' column. Use the hue\n",
    "parameter for the 'cut' column of the diamonds dataset."
   ]
  },
  {
   "cell_type": "code",
   "execution_count": null,
   "id": "ed81f633-86c6-485c-b92d-fef2c1d03b22",
   "metadata": {},
   "outputs": [],
   "source": [
    "To create a histogram for the 'price' column of the \"diamonds\" dataset using Seaborn and color the bars by the 'cut' column, you can use the `sns.histplot()` function with the `hue` parameter. Here's how you can do it:\n",
    "\n",
    "import seaborn as sns\n",
    "import matplotlib.pyplot as plt\n",
    "\n",
    "# Load the \"diamonds\" dataset\n",
    "diamonds_data = sns.load_dataset(\"diamonds\")\n",
    "\n",
    "# Create a histogram with 'price' column and color bars by 'cut'\n",
    "sns.histplot(data=diamonds_data, x=\"price\", hue=\"cut\", kde=True)\n",
    "\n",
    "# Customize the plot\n",
    "plt.title(\"Price Distribution by Cut\")\n",
    "plt.xlabel(\"Price\")\n",
    "plt.ylabel(\"Frequency\")\n",
    "\n",
    "# Show the plot\n",
    "plt.show()\n",
    "```\n",
    "\n",
    "In this code, we load the \"diamonds\" dataset, create a histogram using the 'price' column, and use the `hue` parameter to color the bars by the 'cut' column. The `kde=True` option adds a Kernel Density Estimation curve to the histogram for a smoother view of the data. The plot is then customized with a title, axis labels, and displayed using Matplotlib."
   ]
  },
  {
   "cell_type": "markdown",
   "id": "1a67b19a-05f8-4bea-aa76-792756840967",
   "metadata": {},
   "source": [
    "Que 5: Use the \"iris\" dataset from seaborn to plot a pair plot. Use the hue parameter for the \"species\" column\n",
    "of the iris dataset."
   ]
  },
  {
   "cell_type": "code",
   "execution_count": null,
   "id": "0646ecac-c94e-42ce-9a94-2e958727e801",
   "metadata": {},
   "outputs": [],
   "source": [
    "You can create a pair plot for the \"iris\" dataset using Seaborn and color the data points by the \"species\" column by specifying the `hue` parameter. Here's how you can do it:\n",
    "\n",
    "import seaborn as sns\n",
    "import matplotlib.pyplot as plt\n",
    "\n",
    "# Load the \"iris\" dataset\n",
    "iris_data = sns.load_dataset(\"iris\")\n",
    "\n",
    "# Create a pair plot with 'species' as the hue\n",
    "sns.pairplot(iris_data, hue=\"species\")\n",
    "\n",
    "# Show the plot\n",
    "plt.show()\n",
    "```\n",
    "\n",
    "In this code, we load the \"iris\" dataset, create a pair plot using `sns.pairplot()`, and specify the `hue` parameter as \"species\" to color the data points by the different species of iris flowers. The result is a grid of scatter plots that show pairwise relationships between the variables in the dataset, with each species represented by a different color."
   ]
  },
  {
   "cell_type": "markdown",
   "id": "5bde5834-d475-458e-a3aa-fea432100dfd",
   "metadata": {},
   "source": [
    "Que 6: Use the \"flights\" dataset from seaborn to plot a heatmap."
   ]
  },
  {
   "cell_type": "code",
   "execution_count": null,
   "id": "dd71ed5e-8ab1-4774-b237-94b159af8980",
   "metadata": {},
   "outputs": [],
   "source": [
    "To create a heatmap using the \"flights\" dataset from Seaborn, you can follow these steps:\n",
    "\n",
    "1. Import the required libraries and load the \"flights\" dataset:\n",
    "\n",
    "import seaborn as sns\n",
    "import matplotlib.pyplot as plt\n",
    "\n",
    "# Load the \"flights\" dataset\n",
    "flights_data = sns.load_dataset(\"flights\")\n",
    "```\n",
    "\n",
    "2. Reshape the data to create a pivot table that represents the data in a format suitable for a heatmap. You can use the `pivot()` method to do this:\n",
    "\n",
    "flights_pivot = flights_data.pivot(\"month\", \"year\", \"passengers\")\n",
    "```\n",
    "\n",
    "3. Create the heatmap using Seaborn's `heatmap()` function:\n",
    "\n",
    "# Create the heatmap\n",
    "sns.heatmap(flights_pivot, cmap=\"YlGnBu\", annot=True, fmt=\"d\")\n",
    "\n",
    "# Customize the plot\n",
    "plt.title(\"Passenger Counts Over Time\")\n",
    "plt.xlabel(\"Year\")\n",
    "plt.ylabel(\"Month\")\n",
    "\n",
    "# Show the plot\n",
    "plt.show()\n",
    "```\n",
    "\n",
    "In this code, we first load the \"flights\" dataset, then reshape it into a pivot table using the `pivot()` method to have months on the y-axis, years on the x-axis, and the number of passengers as the values. We create a heatmap using `sns.heatmap()`, specifying a colormap with `cmap`, and annotating the cells with the actual passenger counts using `annot=True`. The `fmt=\"d\"` argument is used to format the annotations as integers.\n",
    "\n",
    "The resulting heatmap will display how the number of passengers varies over time, with each cell representing passenger counts for a specific month and year. The colormap \"YlGnBu\" provides a color scale for visualizing the data."
   ]
  }
 ],
 "metadata": {
  "kernelspec": {
   "display_name": "Python 3 (ipykernel)",
   "language": "python",
   "name": "python3"
  },
  "language_info": {
   "codemirror_mode": {
    "name": "ipython",
    "version": 3
   },
   "file_extension": ".py",
   "mimetype": "text/x-python",
   "name": "python",
   "nbconvert_exporter": "python",
   "pygments_lexer": "ipython3",
   "version": "3.10.8"
  }
 },
 "nbformat": 4,
 "nbformat_minor": 5
}
