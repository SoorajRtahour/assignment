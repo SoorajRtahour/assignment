{
 "cells": [
  {
   "cell_type": "markdown",
   "id": "50467fb7-8d45-439f-ab52-c14ad45383ae",
   "metadata": {},
   "source": [
    "Q1. Load the \"titanic\" dataset using the load_dataset function of seaborn. Use Plotly express to plot a\n",
    "scatter plot for age and fare columns in the titanic dataset."
   ]
  },
  {
   "cell_type": "code",
   "execution_count": null,
   "id": "7af97f92-20b8-4a67-b8b3-f9f1ac21e114",
   "metadata": {},
   "outputs": [],
   "source": [
    "To create a scatter plot for the \"age\" and \"fare\" columns of the Titanic dataset using Plotly Express, you can follow these steps:\n",
    "\n",
    "1. First, make sure you have the necessary libraries installed. You will need seaborn and plotly.express.\n",
    "\n",
    "You can install them using pip if you haven't already:\n",
    "\n",
    "pip install seaborn plotly\n",
    "\n",
    "\n",
    "2. Next, you can use the following Python code to load the Titanic dataset and create the scatter plot:\n",
    "\n",
    "import seaborn as sns\n",
    "import plotly.express as px\n",
    "\n",
    "# Load the Titanic dataset from seaborn\n",
    "titanic = sns.load_dataset(\"titanic\")\n",
    "\n",
    "# Create a scatter plot using Plotly Express\n",
    "scatter_plot = px.scatter(titanic, x=\"age\", y=\"fare\", title=\"Scatter Plot of Age vs. Fare\")\n",
    "scatter_plot.show()\n",
    "```\n",
    "\n",
    "This code will load the Titanic dataset, create a scatter plot of the \"age\" and \"fare\" columns, and display the plot using Plotly Express.\n",
    "\n",
    "Make sure to have Plotly properly configured to display the plot in your Python environment. You might need to use `plotly.offline.init_notebook_mode()` for Jupyter Notebook or a similar setup if you are working in a different environment."
   ]
  },
  {
   "cell_type": "markdown",
   "id": "75965a05-9403-4d2f-83ca-869103b7bb3d",
   "metadata": {},
   "source": [
    "Q2. Using the tips dataset in the Plotly library, plot a box plot using Plotly express."
   ]
  },
  {
   "cell_type": "code",
   "execution_count": null,
   "id": "047e363e-e1c1-4e72-b5ac-06cb06c39ef2",
   "metadata": {},
   "outputs": [],
   "source": [
    "You can create a box plot for the \"tips\" dataset using Plotly Express. The \"tips\" dataset is available in the Plotly library, so you don't need to load it separately. Here's how you can create the box plot:\n",
    "\n",
    "import plotly.express as px\n",
    "\n",
    "# Load the tips dataset from Plotly\n",
    "df = px.data.tips\n",
    "\n",
    "# Create a box plot using Plotly Express\n",
    "box_plot = px.box(df, x=\"day\", y=\"total_bill\", title=\"Box Plot of Total Bill by Day\")\n",
    "box_plot.show()\n",
    "```\n",
    "\n",
    "This code will create a box plot showing the distribution of total bills by day in the \"tips\" dataset and display it using Plotly Express. You can customize the plot further by modifying the parameters in the `px.box()` function, such as changing the x and y columns, title, or any other style options to suit your preferences."
   ]
  },
  {
   "cell_type": "markdown",
   "id": "2ce04de6-6fd5-451b-9824-b4509c994038",
   "metadata": {},
   "source": [
    "Q3. Using the tips dataset in the Plotly library, Plot a histogram for x= \"sex\" and y=\"total_bill\" column in\n",
    "the tips dataset. Also, use the \"smoker\" column with the pattern_shape parameter and the \"day\"\n",
    "column with the color parameter."
   ]
  },
  {
   "cell_type": "code",
   "execution_count": null,
   "id": "4b2fd4c1-3d4c-4b4d-9a10-2f9f18c020ef",
   "metadata": {},
   "outputs": [],
   "source": [
    "You can create a histogram with pattern shapes and colored by the \"day\" column for the \"tips\" dataset in Plotly Express. Here's how you can do it:\n",
    "\n",
    "import plotly.express as px\n",
    "\n",
    "# Load the tips dataset from Plotly\n",
    "df = px.data.tips\n",
    "\n",
    "# Create a histogram with pattern shapes and colored by \"day\"\n",
    "histogram = px.histogram(df, x=\"sex\", y=\"total_bill\", color=\"day\", pattern_shape=\"smoker\",\n",
    "                         title=\"Histogram of Total Bill by Sex and Day\",\n",
    "                         labels={\"sex\": \"Sex\", \"total_bill\": \"Total Bill\"},\n",
    "                         histfunc=\"count\")\n",
    "histogram.show()\n",
    "```\n",
    "\n",
    "In this code, we use the `px.histogram()` function to create a histogram. We specify the \"sex\" column as the x-axis, \"total_bill\" as the y-axis, \"day\" as the color parameter, and \"smoker\" as the pattern_shape parameter. We also provide labels for the axes and set the histogram function to \"count.\"\n",
    "\n",
    "This will create a histogram that shows the distribution of total bills by sex, colored by day, and with different pattern shapes for smokers and non-smokers. You can customize the plot further by adjusting the parameters as needed."
   ]
  },
  {
   "cell_type": "markdown",
   "id": "571a8749-398f-44d5-901f-e169aacc0998",
   "metadata": {},
   "source": [
    "Q4. Using the iris dataset in the Plotly library, Plot a scatter matrix plot, using the \"species\" column for\n",
    "the color parameter.\n",
    "Note: Use \"sepal_length\", \"sepal_width\", \"petal_length\", \"petal_width\" columns only with the\n",
    "dimensions parameter."
   ]
  },
  {
   "cell_type": "code",
   "execution_count": null,
   "id": "d9cb400e-e18e-4710-a8d0-5d0e8ff93e98",
   "metadata": {},
   "outputs": [],
   "source": [
    "To create a scatter matrix plot for the Iris dataset in Plotly Express, using the \"species\" column for the color parameter and including only the specified columns as dimensions, you can follow these steps:\n",
    "\n",
    "import plotly.express as px\n",
    "\n",
    "# Load the Iris dataset from Plotly\n",
    "df = px.data.iris\n",
    "\n",
    "# Create a scatter matrix plot with specified dimensions and color by \"species\"\n",
    "scatter_matrix = px.scatter_matrix(df, dimensions=[\"sepal_length\", \"sepal_width\", \"petal_length\", \"petal_width\"], color=\"species\",\n",
    "                                   title=\"Scatter Matrix Plot of Iris Dataset\")\n",
    "scatter_matrix.show()\n",
    "```\n",
    "\n",
    "In this code, we use the `px.scatter_matrix()` function to create a scatter matrix plot. We specify the dimensions for the plot as the four numeric columns (\"sepal_length\", \"sepal_width\", \"petal_length\", and \"petal_width\"), and we use the \"species\" column for the color parameter. This will create a scatter matrix plot where each scatter plot is colored by the \"species\" column, and only the specified columns are used as dimensions.\n",
    "\n",
    "You can further customize the plot as needed."
   ]
  },
  {
   "cell_type": "markdown",
   "id": "e513dda9-d4bf-4742-b9f8-1e7d5e2d128c",
   "metadata": {},
   "source": [
    "Q5. What is Distplot? Using Plotly express, plot a distplot."
   ]
  },
  {
   "cell_type": "code",
   "execution_count": null,
   "id": "2f663d80-7fa1-4655-8a42-5dbb2d027388",
   "metadata": {},
   "outputs": [],
   "source": [
    "A distplot, short for distribution plot, is a graphical representation that combines a histogram and a kernel density estimate (KDE) to provide a visual representation of the univariate distribution of a dataset. It is useful for understanding the underlying distribution of a single variable. A distplot typically consists of a histogram that shows the distribution of data points and a smooth curve (KDE) that provides an estimate of the probability density function.\n",
    "\n",
    "To create a distplot using Plotly Express, you can use the `px.histogram()` function with the `marginal` parameter set to \"rug\" and the `marginal_y` parameter set to \"rug\" for a bivariate distribution, or \"box\" and \"violin\" for additional visualizations alongside the histogram and KDE.\n",
    "\n",
    "Here's an example of creating a distplot using Plotly Express:\n",
    "\n",
    "```python\n",
    "import plotly.express as px\n",
    "\n",
    "# Sample data (replace with your own dataset)\n",
    "data = [1.2, 1.5, 1.6, 2.0, 2.2, 2.5, 2.7, 3.0, 3.1, 3.5, 3.6, 3.8, 4.0]\n",
    "\n",
    "# Create a distplot\n",
    "distplot = px.histogram(data, nbins=10, marginal=\"rug\", marginal_y=\"rug\",\n",
    "                        title=\"Distribution Plot (Distplot)\")\n",
    "distplot.show()\n",
    "```\n",
    "\n",
    "In this example, we use the `px.histogram()` function to create a distplot for a sample dataset. We set the `marginal` and `marginal_y` parameters to \"rug\" to display tick marks along the axes, which is a common way to visualize individual data points. You can adjust the `data` variable with your own dataset or data of interest.\n",
    "\n",
    "You can further customize the distplot using various parameters in the `px.histogram()` function to adjust the number of bins, colors, titles, and more to suit your needs."
   ]
  }
 ],
 "metadata": {
  "kernelspec": {
   "display_name": "Python 3 (ipykernel)",
   "language": "python",
   "name": "python3"
  },
  "language_info": {
   "codemirror_mode": {
    "name": "ipython",
    "version": 3
   },
   "file_extension": ".py",
   "mimetype": "text/x-python",
   "name": "python",
   "nbconvert_exporter": "python",
   "pygments_lexer": "ipython3",
   "version": "3.10.8"
  }
 },
 "nbformat": 4,
 "nbformat_minor": 5
}
