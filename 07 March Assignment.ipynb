{
 "cells": [
  {
   "cell_type": "markdown",
   "id": "d0c317db-756c-43c5-ad08-616dc88f4217",
   "metadata": {},
   "source": [
    "Q1. What are the three measures of central tendency?"
   ]
  },
  {
   "cell_type": "code",
   "execution_count": null,
   "id": "d792542d-8e57-4cc6-8e38-c32c0b465b5b",
   "metadata": {},
   "outputs": [],
   "source": [
    "The three main measures of central tendency are:\n",
    "\n",
    "1. Mean: This is the average of a set of numbers. To calculate it, you sum up all the values and divide by the total count of values.\n",
    "\n",
    "2. Median: The median is the middle value in a dataset when the values are arranged in ascending or descending order. If there's an even number of values, the median is the average of the two middle values.\n",
    "\n",
    "3. Mode: The mode is the value that appears most frequently in a dataset. There can be one mode (unimodal), multiple modes (multimodal), or no mode at all if no value is repeated.\n"
   ]
  },
  {
   "cell_type": "markdown",
   "id": "53372087-106b-433d-9d88-d32c5c73b1df",
   "metadata": {},
   "source": [
    "Q2. What is the difference between the mean, median, and mode? How are they used to measure the\n",
    "central tendency of a dataset?"
   ]
  },
  {
   "cell_type": "code",
   "execution_count": null,
   "id": "c832a463-2408-495f-92ba-bd6d01e75590",
   "metadata": {},
   "outputs": [],
   "source": [
    "The mean, median, and mode are all measures of central tendency used to understand the typical or central value in a dataset. They differ in how they are calculated and what aspects of the data they emphasize:\n",
    "\n",
    "1. Mean: The mean is the average value of a dataset. It's calculated by summing up all the values in the dataset and dividing by the total number of values. It's sensitive to extreme values, often called outliers, as these can heavily influence the mean.\n",
    "\n",
    "2. Median: The median is the middle value in a dataset when arranged in ascending or descending order. If there's an even number of values, the median is the average of the two middle values. It's less affected by outliers compared to the mean. It's a good measure when the data has extreme values or is not symmetrically distributed.\n",
    "\n",
    "3. Mode: The mode is the value that appears most frequently in a dataset. A dataset can have one mode (unimodal), multiple modes (multimodal), or no mode if all values are unique. The mode can be helpful with categorical or discrete data, and it's not affected by outliers since it only focuses on the frequency of values.\n",
    "\n",
    " Example of , how used to measure the central tendency of a dataset:-\n",
    "    \n",
    "    In Python, you can compute these measures using libraries like NumPy or built-in functions. For example:\n",
    "\n",
    "import numpy as np\n",
    "\n",
    "data = [5, 7, 2, 8, 5, 9, 3, 5, 2, 7]\n",
    "\n",
    "# Mean\n",
    "mean = np.mean(data)\n",
    "\n",
    "# Median\n",
    "median = np.median(data)\n",
    "\n",
    "from scipy import stats\n",
    "\n",
    "# Mode\n",
    "mode = stats.mode(data)\n",
    "\n",
    "print(\"Mean:\", mean)\n",
    "print(\"Median:\", median)\n",
    "print(\"Mode:\", mode.mode)  # mode.mode for the actual mode value(s)\n",
    "\n",
    "This code snippet shows how you can find the mean, median, and mode of a dataset using NumPy and SciPy libraries in Python.\n",
    "    \n",
    "These measures help summarize a dataset by providing insight into its central value or typical value. Depending on the nature of the dataset and the presence of outliers or skewness, one measure might be more appropriate to use than the others. Analysts often use a combination of these measures to get a more complete understanding of the dataset's central tendency."
   ]
  },
  {
   "cell_type": "markdown",
   "id": "2d25aa5c-03f7-45cc-b9cc-d5b59b09cd5b",
   "metadata": {},
   "source": [
    "Q3. Measure the three measures of central tendency for the given height data:\n",
    "[178,177,176,177,178.2,178,175,179,180,175,178.9,176.2,177,172.5,178,176.5]"
   ]
  },
  {
   "cell_type": "code",
   "execution_count": 1,
   "id": "358f83ff-e308-4482-8841-255c32e896bd",
   "metadata": {},
   "outputs": [
    {
     "name": "stdout",
     "output_type": "stream",
     "text": [
      "Mean Height: 177.01875\n",
      "Median Height: 177.0\n",
      "Mode Height: 177.0\n"
     ]
    },
    {
     "name": "stderr",
     "output_type": "stream",
     "text": [
      "/tmp/ipykernel_173/2754985811.py:13: FutureWarning: Unlike other reduction functions (e.g. `skew`, `kurtosis`), the default behavior of `mode` typically preserves the axis it acts along. In SciPy 1.11.0, this behavior will change: the default value of `keepdims` will become False, the `axis` over which the statistic is taken will be eliminated, and the value None will no longer be accepted. Set `keepdims` to True or False to avoid this warning.\n",
      "  mode_result = stats.mode(height_data)\n"
     ]
    }
   ],
   "source": [
    "import numpy as np\n",
    "from scipy import stats\n",
    "\n",
    "height_data = [178, 177, 176, 177, 178.2, 178, 175, 179, 180, 175, 178.9, 176.2, 177, 172.5, 178, 176.5]\n",
    "\n",
    "# Mean\n",
    "mean_height = np.mean(height_data)\n",
    "\n",
    "# Median\n",
    "median_height = np.median(height_data)\n",
    "\n",
    "# Mode\n",
    "mode_result = stats.mode(height_data)\n",
    "mode_height = mode_result.mode[0]  # mode.mode for the actual mode value(s)\n",
    "\n",
    "print(\"Mean Height:\", mean_height)\n",
    "print(\"Median Height:\", median_height)\n",
    "print(\"Mode Height:\", mode_height)\n"
   ]
  },
  {
   "cell_type": "markdown",
   "id": "a4eaa1f0-cb8f-4086-b01b-266bae844d96",
   "metadata": {},
   "source": [
    "Q4. Find the standard deviation for the given data:\n",
    "[178,177,176,177,178.2,178,175,179,180,175,178.9,176.2,177,172.5,178,176.5]"
   ]
  },
  {
   "cell_type": "code",
   "execution_count": 2,
   "id": "a493612d-b85a-4d8a-9524-240c45303293",
   "metadata": {},
   "outputs": [
    {
     "name": "stdout",
     "output_type": "stream",
     "text": [
      "Standard Deviation of Height Data: 1.7885814036548633\n"
     ]
    }
   ],
   "source": [
    "import numpy as np\n",
    "\n",
    "height_data = [178, 177, 176, 177, 178.2, 178, 175, 179, 180, 175, 178.9, 176.2, 177, 172.5, 178, 176.5]\n",
    "\n",
    "# Calculate standard deviation\n",
    "std_dev_height = np.std(height_data)\n",
    "\n",
    "print(\"Standard Deviation of Height Data:\", std_dev_height)\n"
   ]
  },
  {
   "cell_type": "markdown",
   "id": "17f7266b-0afb-41dd-b3a4-74ec21b512cc",
   "metadata": {},
   "source": [
    "Q5. How are measures of dispersion such as range, variance, and standard deviation used to describe\n",
    "the spread of a dataset? Provide an example."
   ]
  },
  {
   "cell_type": "code",
   "execution_count": null,
   "id": "f9be5542-533d-4873-92cc-964b2eb32c75",
   "metadata": {},
   "outputs": [],
   "source": [
    "Measures of dispersion, such as range, variance, and standard deviation, are used to quantify the extent of variability or spread within a dataset. They provide insights into how much the individual data points differ from the central tendency measures (like mean, median, or mode).\n",
    "\n",
    "1. Range: It's the simplest measure of dispersion and represents the difference between the highest and lowest values in a dataset. It gives a basic idea of the spread but is sensitive to outliers and doesn't consider all values.\n",
    "\n",
    "2. Variance: Variance measures the average squared deviation of each data point from the mean. It considers all the data points and gives a more comprehensive view of the spread. However, it's not on the same scale as the original data.\n",
    "\n",
    "3. Standard Deviation: It's the square root of the variance and provides a measure of the amount of variation or dispersion of a set of values. It's beneficial as it's in the same units as the original data, making it more interpretable.\n",
    "\n",
    "Let's consider an example to illustrate their use:\n",
    "\n",
    "Suppose you have a dataset of test scores: `[75, 82, 90, 68, 95, 78, 88, 72, 98, 60]`.\n",
    "\n",
    "- Range: Calculate the range by subtracting the minimum value from the maximum value: `98 - 60 = 38`.\n",
    "- Variance and Standard Deviation: Use Python's NumPy library to calculate these measures:\n",
    "\n",
    "import numpy as np\n",
    "\n",
    "test_scores = [75, 82, 90, 68, 95, 78, 88, 72, 98, 60]\n",
    "\n",
    "# Variance and Standard Deviation\n",
    "variance_scores = np.var(test_scores)\n",
    "std_dev_scores = np.std(test_scores)\n",
    "\n",
    "print(\"Variance of Test Scores:\", variance_scores)\n",
    "print(\"Standard Deviation of Test Scores:\", std_dev_scores)\n",
    "\n",
    "In this example, the range gives a basic understanding of the spread (difference between the highest and lowest scores), while the variance and standard deviation provide a more precise measure of how much the scores deviate from the mean. The higher these values, the more spread out the data is from the average."
   ]
  },
  {
   "cell_type": "markdown",
   "id": "d3145d26-c1b5-4b73-a44e-97fb173c2886",
   "metadata": {},
   "source": [
    "Q6. What is a Venn diagram?"
   ]
  },
  {
   "cell_type": "code",
   "execution_count": null,
   "id": "a7c60ff2-4541-428b-a517-25cc53a99267",
   "metadata": {},
   "outputs": [],
   "source": [
    "A Venn diagram is a visual representation used to show the relationships between different groups or sets of data. It consists of overlapping circles (or other shapes) where each circle represents a set, and the overlap between circles shows the common elements between those sets.\n",
    "\n",
    "The primary purpose of a Venn diagram is to illustrate the similarities, differences, and intersections between various sets or groups. The areas where the circles overlap represent elements that belong to both sets, while the non-overlapping parts represent elements unique to each set.\n",
    "\n",
    "Venn diagrams are useful in various fields including mathematics, logic, statistics, and problem-solving. They help in understanding set theory, logical reasoning, categorization, and visualizing data relationships. They can be simple with two or three sets or more complex with multiple sets, displaying intricate relationships among different groups of data."
   ]
  },
  {
   "cell_type": "markdown",
   "id": "4258ebc0-d30a-4193-864a-943cade49bc5",
   "metadata": {},
   "source": [
    "Q7. For the two given sets A = (2,3,4,5,6,7) & B = (0,2,6,8,10). Find:\n",
    "(i) A B\n",
    "(ii) A ⋃ B"
   ]
  },
  {
   "cell_type": "code",
   "execution_count": null,
   "id": "d3c20361-ea84-46a7-a128-7e7f81ed2770",
   "metadata": {},
   "outputs": [],
   "source": [
    "Certainly! Let's find the union and intersection of sets A and B.\n",
    "\n",
    "Given:\n",
    "Set A = {2, 3, 4, 5, 6, 7}\n",
    "Set B = {0, 2, 6, 8, 10}\n",
    "\n",
    "(i) **A ∩ B (Intersection of A and B)**:\n",
    "The intersection of two sets contains only the elements that are common to both sets.\n",
    "\n",
    "A ∩ B = {2, 6}\n",
    "\n",
    "(ii) **A ⋃ B (Union of A and B)**:\n",
    "The union of two sets contains all unique elements from both sets.\n",
    "\n",
    "A ⋃ B = {0, 2, 3, 4, 5, 6, 7, 8, 10}\n",
    "\n",
    "In Python, you can represent these sets and perform operations using Python's set functionality:\n",
    "\n",
    "# Define the sets\n",
    "A = {2, 3, 4, 5, 6, 7}\n",
    "B = {0, 2, 6, 8, 10}\n",
    "\n",
    "# Intersection\n",
    "intersection_AB = A.intersection(B)\n",
    "print(\"Intersection of A and B:\", intersection_AB)\n",
    "\n",
    "# Union\n",
    "union_AB = A.union(B)\n",
    "print(\"Union of A and B:\", union_AB)\n",
    "\n",
    "Running this code will give you the intersection and union of sets A and B, which matches the manually calculated results."
   ]
  },
  {
   "cell_type": "markdown",
   "id": "9d148236-f426-48f0-900e-9e9907508978",
   "metadata": {},
   "source": [
    "Q8. What do you understand about skewness in data?"
   ]
  },
  {
   "cell_type": "code",
   "execution_count": null,
   "id": "68b3e673-e83b-4bd9-bccf-7663cdc2f9dd",
   "metadata": {},
   "outputs": [],
   "source": [
    "Skewness in data refers to the lack of symmetry in its distribution. It measures the degree of asymmetry of the probability distribution of a real-valued random variable about its mean.\n",
    "\n",
    "There are three types of skewness:\n",
    "\n",
    "1. Positive Skewness (Right Skewness): Also known as right skewness, it occurs when the tail of the distribution extends towards the higher positive values. In a positively skewed distribution, the mean is typically greater than the median, and the distribution has a long right tail.\n",
    "\n",
    "2. Negative Skewness (Left Skewness): Also called left skewness, it occurs when the tail of the distribution extends towards the lower negative values. In a negatively skewed distribution, the mean is typically less than the median, and the distribution has a long left tail.\n",
    "\n",
    "3. Zero Skewness: A distribution is considered to have zero skewness when it is perfectly symmetrical, meaning the right and left sides are mirror images of each other. This happens when the mean, median, and mode are all equal, and the data is evenly distributed.\n",
    "\n",
    "Skewness is essential because it affects the interpretation of data and the application of certain statistical techniques. For example:\n",
    "\n",
    "- In finance and economics, understanding skewness helps in analyzing returns on investments, as they might not always follow a normal distribution.\n",
    "- In risk assessment, skewness helps evaluate the probability of extreme events or outliers.\n",
    "\n",
    "Analyzing skewness aids in better understanding the shape of the data distribution and in selecting appropriate statistical methods for analysis. For instance, while mean and standard deviation are effective with symmetric distributions, skewed data might require the use of median and quartiles for a more accurate representation of central tendency and variability."
   ]
  },
  {
   "cell_type": "markdown",
   "id": "479a548f-72de-41f2-9f81-01e9ceb67f77",
   "metadata": {},
   "source": [
    "Q9. If a data is right skewed then what will be the position of median with respect to mean?"
   ]
  },
  {
   "cell_type": "markdown",
   "id": "bdf92dd4-45a0-4c0d-8f09-08d89cfe2fd3",
   "metadata": {},
   "source": [
    "In a right-skewed distribution:\n",
    "\n",
    "- The mean will typically be greater than the median.\n",
    "- The tail of the distribution extends towards the higher positive values, creating a longer right tail.\n",
    "- The median tends to be closer to the lower end of the distribution, pulled by the skewness towards the longer tail on the right side.\n",
    "\n",
    "So, in a right-skewed distribution, the median will be less than the mean. This happens because the mean is affected by the presence of the higher values in the longer right tail, pulling it away from the median towards the higher end of the distribution."
   ]
  },
  {
   "cell_type": "markdown",
   "id": "c58223b6-5cfd-4d21-8646-e9174e261577",
   "metadata": {},
   "source": [
    "Q10. Explain the difference between covariance and correlation. How are these measures used in\n",
    "statistical analysis?"
   ]
  },
  {
   "cell_type": "code",
   "execution_count": null,
   "id": "143733e1-3053-4a81-93e9-7b6870a449e9",
   "metadata": {},
   "outputs": [],
   "source": [
    "Certainly! Covariance and correlation are both measures used to understand the relationship and dependence between two variables in statistics. However, they differ in their scale and interpretation:\n",
    "\n",
    "1. Covariance:\n",
    "   - Covariance measures the degree to which two random variables vary together. It indicates the direction of the linear relationship between variables.\n",
    "   - It can take any value, positive, negative, or zero, representing the strength and direction of the relationship. A positive covariance indicates that the variables tend to move in the same direction, while a negative covariance indicates they move in opposite directions.\n",
    "   - However, the magnitude of covariance isn't standardized, making it challenging to interpret the strength of the relationship. It is sensitive to changes in scale and units of the variables.\n",
    "\n",
    "2. Correlation:\n",
    "   - Correlation is a standardized measure that ranges between -1 and +1, providing a clearer indication of the strength and direction of the linear relationship between variables.\n",
    "   - A correlation of +1 indicates a perfect positive linear relationship, -1 indicates a perfect negative linear relationship, and 0 indicates no linear relationship.\n",
    "   - Unlike covariance, correlation is not affected by the scale of the variables. It normalizes the values, making it easier to compare the strength of relationships between different pairs of variables.\n",
    "\n",
    "Usage in Statistical Analysis:\n",
    "- Covariance: It is used in various statistical calculations and formulae, particularly in estimating coefficients in regression analysis. However, due to its lack of standardization, interpreting its magnitude can be challenging.\n",
    "- Correlation: Correlation is widely used to determine the strength and direction of the linear relationship between two variables. It helps in understanding the degree to which changes in one variable predict changes in another. It's a fundamental tool in fields like finance, economics, biology, and social sciences for analyzing associations between variables.\n",
    "\n",
    "In summary, while covariance and correlation both measure the relationship between variables, correlation provides a standardized measure that is easier to interpret and compare, making it more commonly used in statistical analysis to understand and describe relationships between variables."
   ]
  },
  {
   "cell_type": "markdown",
   "id": "bd15be42-5d1f-43a7-a200-65668c275fd1",
   "metadata": {},
   "source": [
    "Q11. What is the formula for calculating the sample mean? Provide an example calculation for a\n",
    "dataset."
   ]
  },
  {
   "cell_type": "code",
   "execution_count": null,
   "id": "3beffd28-f54d-4bd3-8135-baae825ba7b1",
   "metadata": {},
   "outputs": [],
   "source": [
    "The formula to calculate the sample mean (average) of a dataset is:\n",
    "\n",
    "\\[ \\text{Sample Mean} = \\frac{\\text{Sum of all values in the dataset}}{\\text{Number of values in the dataset}} \\]\n",
    "\n",
    "Here's an example calculation using a dataset:\n",
    "\n",
    "Let's say we have the following dataset of exam scores: \\( \\{85, 90, 75, 88, 92, 80\\} \\).\n",
    "\n",
    "To calculate the sample mean:\n",
    "\n",
    "1. Add all the values in the dataset:\n",
    "   \\[ 85 + 90 + 75 + 88 + 92 + 80 = 510 \\]\n",
    "\n",
    "2. Count the number of values in the dataset:\n",
    "   There are 6 values in the dataset.\n",
    "\n",
    "3. Calculate the sample mean:\n",
    "   \\[ \\text{Sample Mean} = \\frac{510}{6} = 85 \\]\n",
    "\n",
    "Therefore, the sample mean of the given dataset is 85. This means, on average, the exam scores in the dataset are 85."
   ]
  },
  {
   "cell_type": "markdown",
   "id": "9cb96ca8-3486-4eac-982d-ebc9d41d3368",
   "metadata": {},
   "source": [
    "Q12. For a normal distribution data what is the relationship between its measure of central tendency?"
   ]
  },
  {
   "cell_type": "code",
   "execution_count": null,
   "id": "8361c49d-e11b-4a52-826a-a46476483bf2",
   "metadata": {},
   "outputs": [],
   "source": [
    "In a perfectly normal distribution:\n",
    "\n",
    "1. Mean, Median, and Mode:\n",
    "   - The mean, median, and mode are all equal.\n",
    "   - They occur at the same point in a symmetric bell-shaped curve.\n",
    "\n",
    "2. Symmetry:\n",
    "   - The distribution is symmetric, meaning the left and right halves mirror each other.\n",
    "   - The mean, median, and mode coincide at the center, and the distribution is perfectly balanced around this central point.\n",
    "\n",
    "However, in real-world scenarios, perfect normality might not be achieved due to various factors. Even if a distribution isn't perfectly normal, if it's approximately normal or close to a normal distribution, the mean, median, and mode tend to be very close to each other, although they might not be exactly equal.\n",
    "\n",
    "In cases where there's skewness or asymmetry in the distribution, the mean might slightly deviate from the median and mode. For example, in a positively skewed distribution, the mean tends to be greater than the median, while in a negatively skewed distribution, the mean tends to be smaller than the median.\n",
    "\n",
    "But in a true normal distribution, the mean, median, and mode converge at the same value, reflecting the symmetry and balance of the distribution."
   ]
  },
  {
   "cell_type": "markdown",
   "id": "8beefaf1-8ed5-4873-83cb-11099453f894",
   "metadata": {},
   "source": [
    "Q13. How is covariance different from correlation?"
   ]
  },
  {
   "cell_type": "code",
   "execution_count": null,
   "id": "69583d27-df6a-4ab8-9321-475e09e13dae",
   "metadata": {},
   "outputs": [],
   "source": [
    "Covariance and correlation are both measures used to understand the relationship between two variables, but they differ in several key aspects:\n",
    "\n",
    "1. Definition:\n",
    "   - Covariance measures the extent to which two variables change together. It indicates the direction of the linear relationship between variables.\n",
    "   - Correlation is a standardized measure that represents the strength and direction of the linear relationship between variables. It's a normalized version of covariance.\n",
    "\n",
    "2. Scale:\n",
    "   - Covariance can take any value, positive, negative, or zero. Its magnitude isn't standardized, so interpreting the strength of the relationship between variables can be challenging.\n",
    "   - Correlation is standardized and ranges between -1 and +1. A correlation of +1 indicates a perfect positive linear relationship, -1 indicates a perfect negative linear relationship, and 0 indicates no linear relationship.\n",
    "\n",
    "3. Units:\n",
    "   - Covariance is affected by changes in the scale or units of the variables being measured. Therefore, comparing covariances across different datasets or variables with different scales can be misleading.\n",
    "   - Correlation is dimensionless and not influenced by the scale of the variables. It standardizes the values, making comparisons between different pairs of variables more reliable.\n",
    "\n",
    "4. Interpretation:\n",
    "   - Covariance alone doesn't provide a clear understanding of the strength of the relationship between variables due to its unstandardized nature.\n",
    "   - Correlation provides a more interpretable measure of the strength and direction of the relationship between variables. It's commonly used to compare and analyze relationships between different pairs of variables.\n",
    "\n",
    "In summary, while covariance and correlation both measure the relationship between variables, correlation is more commonly used due to its standardized scale, which makes it easier to interpret and compare the strength and direction of relationships across different datasets and variables."
   ]
  },
  {
   "cell_type": "markdown",
   "id": "0edbc03c-9896-4f93-b98f-bcccb8cab1cd",
   "metadata": {},
   "source": [
    "Q14. How do outliers affect measures of central tendency and dispersion? Provide an example."
   ]
  },
  {
   "cell_type": "code",
   "execution_count": null,
   "id": "8f906876-d8ee-462f-87a3-b627aef1b174",
   "metadata": {},
   "outputs": [],
   "source": [
    "Outliers can significantly impact measures of central tendency and dispersion:\n",
    "\n",
    "1. Measures of Central Tendency:\n",
    "   - Mean: Outliers can heavily influence the mean because it considers all values in the dataset. A single extreme value can greatly shift the mean toward it, making it a less representative measure of the center.\n",
    "   - Median: The median is less affected by outliers as it's not influenced by extreme values. It represents the middle value, so unless the outlier falls within the middle position, it won't significantly affect the median.\n",
    "   - Mode: Outliers generally don't affect the mode because it represents the most frequently occurring value(s), and a single extreme value doesn't impact the mode unless it becomes the most frequent value.\n",
    "\n",
    "2. Measures of Dispersion:\n",
    "   - Range: Outliers can significantly increase the range by stretching the spread between the minimum and maximum values.\n",
    "   - Variance and Standard Deviation: These measures are highly sensitive to outliers because they involve squared differences from the mean. Outliers can increase the variance and standard deviation by enlarging the deviation of values from the mean.\n",
    "\n",
    "Let's consider an example to illustrate the impact of outliers on central tendency and dispersion:\n",
    "\n",
    "Dataset: \\( \\{ 10, 15, 12, 14, 16, 100\\} \\)\n",
    "\n",
    "- Mean: Without the outlier (100), the mean is \\( \\frac{10+15+12+14+16}{5} = 13.4 \\). With the outlier, the mean becomes \\( \\frac{10+15+12+14+16+100}{6} = 28.5 \\).\n",
    "- Median: The median remains the same (middle value) regardless of the outlier: \\( 13 \\).\n",
    "- Mode: There's no mode change since the outlier doesn't affect the most frequent value(s).\n",
    "- Range: Without the outlier, the range is \\( 16 - 10 = 6 \\). With the outlier, the range becomes \\( 100 - 10 = 90 \\).\n",
    "- Variance and Standard Deviation: These measures will significantly increase with the inclusion of the outlier due to the squared differences from the mean, making the dataset more dispersed.\n",
    "\n",
    "This example demonstrates how an outlier can distort the mean, increase the range, and substantially affect measures of dispersion while leaving the median and mode less affected."
   ]
  }
 ],
 "metadata": {
  "kernelspec": {
   "display_name": "Python 3 (ipykernel)",
   "language": "python",
   "name": "python3"
  },
  "language_info": {
   "codemirror_mode": {
    "name": "ipython",
    "version": 3
   },
   "file_extension": ".py",
   "mimetype": "text/x-python",
   "name": "python",
   "nbconvert_exporter": "python",
   "pygments_lexer": "ipython3",
   "version": "3.10.8"
  }
 },
 "nbformat": 4,
 "nbformat_minor": 5
}
