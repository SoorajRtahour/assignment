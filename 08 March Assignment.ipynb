{
 "cells": [
  {
   "cell_type": "markdown",
   "id": "4a8ae191-2771-4e81-855f-fd0339dee2f4",
   "metadata": {},
   "source": [
    "Q1. What is the Probability density function?"
   ]
  },
  {
   "cell_type": "code",
   "execution_count": null,
   "id": "080d46da-94b2-45fd-be3b-93e158964a09",
   "metadata": {},
   "outputs": [],
   "source": [
    "The Probability Density Function (PDF) is a function that describes the likelihood of a continuous random variable taking on a particular value. For a continuous random variable, the PDF represents the probability that the variable's value falls within a particular range. It's not the probability of a specific value (as in discrete distributions), but rather the probability density over an interval.\n",
    "\n",
    "Mathematically, for a continuous random variable \\(X\\), the PDF is represented as \\(f(x)\\), where:\n",
    "\n",
    "- \\(f(x)\\) ≥ 0 for all \\(x\\) (non-negative)\n",
    "- The area under the curve over a certain range gives the probability that \\(X\\) falls within that range.\n",
    "- The integral of the PDF over its entire range is equal to 1.\n",
    "\n",
    "For example, in the case of a normal distribution, the PDF gives the probability density of the variable taking on a specific value \\(x\\) at any point along the curve. It doesn't give the probability at that exact point, but rather the density of probability around that point.\n",
    "\n",
    "The PDF for different distributions takes different mathematical forms, allowing statisticians and analysts to understand the likelihood of different values occurring within the distribution."
   ]
  },
  {
   "cell_type": "markdown",
   "id": "cd3586f4-3c5a-405b-be77-e9f5b2d55ab7",
   "metadata": {},
   "source": [
    "Q2. What are the types of Probability distribution?"
   ]
  },
  {
   "cell_type": "code",
   "execution_count": null,
   "id": "d65d4475-e977-489d-87a7-db1d9571df0a",
   "metadata": {},
   "outputs": [],
   "source": [
    "There are several types of probability distributions, each with its own characteristics and applications. Here are some common ones:\n",
    "\n",
    "1. Discrete Probability Distributions:\n",
    "    - Bernoulli Distribution: Models a single trial with two outcomes (success or failure).\n",
    "    - Binomial Distribution: Describes the number of successes in a fixed number of independent trials.\n",
    "    - Poisson Distribution: Models the number of events occurring in a fixed interval of time or space when the events occur with a known constant rate and independently of the time since the last event.\n",
    "\n",
    "2. Continuous Probability Distributions:\n",
    "    - Normal Distribution (Gaussian Distribution): Symmetric, bell-shaped distribution used in various fields due to its prevalence in nature and the Central Limit Theorem.\n",
    "    - Exponential Distribution: Models the time between events in a Poisson process (events occur continuously and independently at a constant average rate).\n",
    "    - Uniform Distribution: All values within a range are equally likely.\n",
    "\n",
    "Each distribution has its own probability density function (PDF) or probability mass function (PMF) that characterizes the likelihood of different outcomes occurring. These distributions are used in statistics, sciences, engineering, finance, and many other fields to model and analyze random phenomena."
   ]
  },
  {
   "cell_type": "markdown",
   "id": "199c9d4c-aea8-4ed2-b4d7-7200488f5bcb",
   "metadata": {},
   "source": [
    "Q3. Write a Python function to calculate the probability density function of a normal distribution with\n",
    "given mean and standard deviation at a given point."
   ]
  },
  {
   "cell_type": "code",
   "execution_count": null,
   "id": "6c47a260-bbf5-40bd-afd8-875b40f1abb1",
   "metadata": {},
   "outputs": [],
   "source": [
    "Certainly! Here's a Python function that calculates the probability density function (PDF) of a normal distribution at a given point \\( x \\) with a specified mean (\\( \\mu \\)) and standard deviation (\\( \\sigma \\)):\n",
    "\n",
    "import math\n",
    "\n",
    "def normal_pdf(x, mean, std_dev):\n",
    "    # Calculate the exponent in the PDF formula\n",
    "    exponent = -(1/2) * ((x - mean) / std_dev) ** 2\n",
    "    \n",
    "    # Calculate the constant factor in the PDF formula\n",
    "    constant = 1 / (std_dev * math.sqrt(2 * math.pi))\n",
    "    \n",
    "    # Calculate and return the PDF value\n",
    "    pdf = constant * math.exp(exponent)\n",
    "    return pdf\n",
    "\n",
    "You can use this function by passing the value at which you want to calculate the PDF, along with the mean and standard deviation of the normal distribution. For instance:\n",
    "\n",
    "mean = 10  # Mean of the normal distribution\n",
    "std_dev = 2  # Standard deviation of the normal distribution\n",
    "point = 12  # Point at which to calculate the PDF\n",
    "\n",
    "pdf_value = normal_pdf(point, mean, std_dev)\n",
    "print(f\"The probability density function at {point} is: {pdf_value}\")\n",
    "\n",
    "Replace the `mean`, `std_dev`, and `point` variables with your desired values to calculate the PDF at a specific point for a normal distribution with the given mean and standard deviation."
   ]
  },
  {
   "cell_type": "markdown",
   "id": "c85ac47d-031a-458a-8f37-53ba6bb86142",
   "metadata": {},
   "source": [
    "Q4. What are the properties of Binomial distribution? Give two examples of events where binomial\n",
    "distribution can be applied."
   ]
  },
  {
   "cell_type": "code",
   "execution_count": null,
   "id": "2ee95722-2c47-4cd3-83a9-ec744a290f5b",
   "metadata": {},
   "outputs": [],
   "source": [
    "The Binomial distribution is characterized by several key properties:\n",
    "\n",
    "1. Fixed Number of Trials: The distribution models a fixed number of independent trials, denoted as \\( n \\).\n",
    "\n",
    "2. Two Possible Outcomes: Each trial results in one of two outcomes, usually termed as success (S) or failure (F).\n",
    "\n",
    "3. Constant Probability of Success: The probability of success, denoted as \\( p \\), remains constant across all trials.\n",
    "\n",
    "4. Independence: Each trial is independent of the others.\n",
    "\n",
    "5. Discreteness: The distribution is discrete, as it deals with a finite number of successes out of \\( n \\) trials.\n",
    "\n",
    "Examples where the Binomial distribution can be applied:\n",
    "\n",
    "1. Coin Flipping: Consider flipping a fair coin \\( n \\) times and counting the number of heads obtained. Each flip has two outcomes (heads or tails), the probability of getting heads (success) remains the same for each flip, and the trials are independent.\n",
    "\n",
    "2. Medical Testing: Suppose a new medical test correctly identifies a disease \\( p \\) percent of the time when the disease is present and incorrectly indicates the disease \\( 1 - p \\) percent of the time when the disease is absent. If \\( n \\) individuals are tested, the number of correct identifications of the disease can be modeled using a binomial distribution, where each test is independent and has two possible outcomes (correct identification or incorrect identification).\n",
    "\n",
    "In essence, the Binomial distribution finds application in scenarios involving a fixed number of independent trials, each with two possible outcomes and a constant probability of success."
   ]
  },
  {
   "cell_type": "markdown",
   "id": "29e90a55-b2ce-4b4f-9d37-58300980b340",
   "metadata": {},
   "source": [
    "Q5. Generate a random sample of size 1000 from a binomial distribution with probability of success 0.4\n",
    "and plot a histogram of the results using matplotlib."
   ]
  },
  {
   "cell_type": "code",
   "execution_count": null,
   "id": "5bd5754e-8530-466a-be64-0abf7e981e13",
   "metadata": {},
   "outputs": [],
   "source": [
    "Certainly! You can generate a random sample from a binomial distribution using Python's NumPy library and then plot a histogram of the results using Matplotlib. Here's an example:\n",
    "\n",
    "import numpy as np\n",
    "import matplotlib.pyplot as plt\n",
    "\n",
    "# Parameters for the binomial distribution\n",
    "probability_success = 0.4\n",
    "num_trials = 1000\n",
    "\n",
    "# Generate the random sample from the binomial distribution\n",
    "random_sample = np.random.binomial(1, probability_success, num_trials)\n",
    "\n",
    "# Plotting a histogram of the results\n",
    "plt.hist(random_sample, bins=2, edgecolor='black')  # Two bins for success and failure\n",
    "plt.xlabel('Outcome')\n",
    "plt.ylabel('Frequency')\n",
    "plt.title('Histogram of Binomial Distribution')\n",
    "plt.xticks([0, 1], ['Failure', 'Success'])  # Labeling x-axis ticks\n",
    "plt.show()\n",
    "\n",
    "This code snippet generates a random sample of size 1000 from a binomial distribution with a probability of success of 0.4 and plots a histogram to display the frequency of success and failure in the generated sample. Adjust the parameters (`probability_success`, `num_trials`) as needed for different distributions and sample sizes."
   ]
  },
  {
   "cell_type": "markdown",
   "id": "4d1ec5fc-fea2-45fb-b7ee-2cb602fea05b",
   "metadata": {},
   "source": [
    "Q6. Write a Python function to calculate the cumulative distribution function of a Poisson distribution\n",
    "with given mean at a given point."
   ]
  },
  {
   "cell_type": "code",
   "execution_count": null,
   "id": "7b2fa35e-1043-4d68-982a-4200bab21912",
   "metadata": {},
   "outputs": [],
   "source": [
    "Certainly! The cumulative distribution function (CDF) for a Poisson distribution with a given mean (\\(\\lambda\\)) at a specific point \\(k\\) can be calculated using the formula:\n",
    "\n",
    "\\[ \\text{CDF}(k, \\lambda) = \\sum_{i=0}^{k} \\frac{e^{-\\lambda} \\cdot \\lambda^i}{i!} \\]\n",
    "\n",
    "Here's a Python function to calculate the CDF of a Poisson distribution at a given point \\(k\\) with a specified mean \\(\\lambda\\):\n",
    "\n",
    "import math\n",
    "\n",
    "def poisson_cdf(k, lambd):\n",
    "    cdf = 0\n",
    "    for i in range(k + 1):\n",
    "        cdf += math.exp(-lambd) * (lambd ** i) / math.factorial(i)\n",
    "    return cdf\n",
    "\n",
    "You can use this function by passing the value at which you want to calculate the CDF and the mean of the Poisson distribution. For example:\n",
    "\n",
    "mean_lambda = 3.5  # Mean of the Poisson distribution\n",
    "point_k = 2  # Point at which to calculate the CDF\n",
    "\n",
    "cdf_value = poisson_cdf(point_k, mean_lambda)\n",
    "print(f\"The cumulative distribution function at {point_k} is: {cdf_value}\")\n",
    "\n",
    "Replace the `mean_lambda` and `point_k` variables with your desired values to calculate the CDF at a specific point for a Poisson distribution with the given mean."
   ]
  },
  {
   "cell_type": "markdown",
   "id": "e3afdc15-f6d0-465c-b412-7c5e538a4606",
   "metadata": {},
   "source": [
    "Q7. How Binomial distribution different from Poisson distribution?"
   ]
  },
  {
   "cell_type": "markdown",
   "id": "0be3ffb5-af07-4b78-bb23-81a463302234",
   "metadata": {},
   "source": [
    "The Binomial distribution and the Poisson distribution are both fundamental probability distributions, but they differ in several key aspects:\n",
    "\n",
    "1. Nature of Trials:\n",
    "   - Binomial Distribution: It models a fixed number of independent trials, each with two possible outcomes (success or failure).\n",
    "   - Poisson Distribution: It models the number of events occurring in a fixed interval of time or space, assuming a continuous process where events occur at a known average rate but independently of the time since the last event.\n",
    "\n",
    "2. Number of Possible Outcomes:\n",
    "   - Binomial Distribution: Has a finite number of trials with discrete outcomes.\n",
    "   - Poisson Distribution: Deals with an infinite number of potential occurrences within a continuous interval.\n",
    "\n",
    "3. Parameters:\n",
    "   - Binomial Distribution: Characterized by \\(n\\) (the number of trials) and \\(p\\) (the probability of success in each trial).\n",
    "   - Poisson Distribution: Characterized by a single parameter \\(\\lambda\\) (the average rate of occurrence).\n",
    "\n",
    "4. Assumptions:\n",
    "   - Binomial Distribution: Assumes a fixed number of trials and a constant probability of success in each trial.\n",
    "   - Poisson Distribution: Assumes events occur randomly and independently at a constant average rate.\n",
    "\n",
    "5. Applicability:\n",
    "   - Binomial Distribution: Often used when there's a fixed number of trials, such as coin flips, dice rolls, or the number of successes in a specific number of experiments.\n",
    "   - Poisson Distribution: Applied in scenarios where events occur continuously and independently at a known average rate, like the number of phone calls at a call center within a specific time frame or the number of arrivals at a service point within a given interval.\n",
    "\n",
    "In summary, while both distributions involve discrete counts, the Binomial distribution deals with a fixed number of trials and a limited number of potential outcomes, whereas the Poisson distribution deals with a continuous process and an unlimited number of potential occurrences within a fixed interval."
   ]
  },
  {
   "cell_type": "markdown",
   "id": "8d3967ce-dc4b-439b-a5a8-64f3bbd82596",
   "metadata": {},
   "source": [
    "Q8. Generate a random sample of size 1000 from a Poisson distribution with mean 5 and calculate the\n",
    "sample mean and variance."
   ]
  },
  {
   "cell_type": "code",
   "execution_count": null,
   "id": "113ec017-325f-41f9-8813-dcee220cf4b8",
   "metadata": {},
   "outputs": [],
   "source": [
    "To generate a random sample from a Poisson distribution with a mean of 5 and calculate the sample mean and variance using Python, you can use the NumPy library. Here's an example:\n",
    "\n",
    "import numpy as np\n",
    "\n",
    "# Parameters for the Poisson distribution\n",
    "mean = 5\n",
    "sample_size = 1000\n",
    "\n",
    "# Generate random sample from Poisson distribution\n",
    "random_sample = np.random.poisson(mean, sample_size)\n",
    "\n",
    "# Calculate sample mean and variance\n",
    "sample_mean = np.mean(random_sample)\n",
    "sample_variance = np.var(random_sample)\n",
    "\n",
    "print(f\"Sample Mean: {sample_mean}\")\n",
    "print(f\"Sample Variance: {sample_variance}\")\n",
    "\n",
    "This code snippet generates a random sample of size 1000 from a Poisson distribution with a mean of 5 using NumPy's `random.poisson()` function. Then, it calculates the sample mean and variance using NumPy's `mean()` and `var()` functions, respectively.\n",
    "\n",
    "The `sample_mean` variable will contain the calculated sample mean, while the `sample_variance` variable will contain the calculated sample variance of the generated random sample. Adjust the `mean` and `sample_size` variables as needed for different means and sample sizes."
   ]
  },
  {
   "cell_type": "markdown",
   "id": "09bce6e3-2ca2-479f-ba0c-41ec45a6227d",
   "metadata": {},
   "source": [
    "Q9. How mean and variance are related in Binomial distribution and Poisson distribution?"
   ]
  },
  {
   "cell_type": "code",
   "execution_count": null,
   "id": "982885fc-92ab-4780-ba20-94089589ed54",
   "metadata": {},
   "outputs": [],
   "source": [
    "In both Binomial and Poisson distributions, the mean and variance are related, but the specific relationships differ due to the nature of these distributions.\n",
    "\n",
    "Binomial Distribution:\n",
    "\n",
    "- Mean of a Binomial Distribution: For a Binomial distribution with parameters \\( n \\) (number of trials) and \\( p \\) (probability of success), the mean (\\( \\mu \\)) is given by \\( \\mu = np \\).\n",
    "  \n",
    "- Variance of a Binomial Distribution: The variance (\\( \\sigma^2 \\)) of a Binomial distribution is calculated using the formula \\( \\sigma^2 = np(1-p) \\).\n",
    "\n",
    "In a Binomial distribution, both the mean and the variance depend on the number of trials \\( n \\) and the probability of success \\( p \\). The variance increases as \\( np(1-p) \\) increases or when \\( p \\) is farther away from 0.5.\n",
    "\n",
    "Poisson Distribution:\n",
    "\n",
    "- Mean of a Poisson Distribution: For a Poisson distribution, the mean (\\( \\lambda \\)) and variance (\\( \\sigma^2 \\)) are equal and are both given by \\( \\lambda \\).\n",
    "\n",
    "In a Poisson distribution, the mean and variance are both solely determined by the average rate of occurrence (\\( \\lambda \\)). As \\( \\lambda \\) increases, both the mean and variance also increase, indicating a wider spread of the distribution.\n",
    "\n",
    "In summary, for a Binomial distribution, the variance depends on both the number of trials and the probability of success, whereas for a Poisson distribution, the variance is solely determined by the mean (\\( \\lambda \\)), and both the mean and variance are equal."
   ]
  },
  {
   "cell_type": "markdown",
   "id": "f78a57f9-ef31-47c0-a3de-46f5d3cb2dab",
   "metadata": {},
   "source": [
    "Q10. In normal distribution with respect to mean position, where does the least frequent data appear?"
   ]
  },
  {
   "cell_type": "code",
   "execution_count": null,
   "id": "dfed3a48-13f9-4e7b-82a8-9ae9cb7bde7a",
   "metadata": {},
   "outputs": [],
   "source": [
    "In a normal distribution, the least frequent data occurs at the tails of the distribution, farthest away from the mean. The tails of a normal distribution represent the extreme values, and these values are less likely to occur compared to the values closer to the mean.\n",
    "\n",
    "In a symmetric normal distribution:\n",
    "\n",
    "- The data at the extremes, both the far left (lower than the mean by multiple standard deviations) and far right (higher than the mean by multiple standard deviations), are the least frequent.\n",
    "- The probability decreases as you move away from the mean towards the tails of the distribution.\n",
    "\n",
    "This is in line with the properties of a normal distribution, where the majority of the data is concentrated around the mean, and as you move away from the mean towards the tails, the probability of occurrence decreases rapidly."
   ]
  }
 ],
 "metadata": {
  "kernelspec": {
   "display_name": "Python 3 (ipykernel)",
   "language": "python",
   "name": "python3"
  },
  "language_info": {
   "codemirror_mode": {
    "name": "ipython",
    "version": 3
   },
   "file_extension": ".py",
   "mimetype": "text/x-python",
   "name": "python",
   "nbconvert_exporter": "python",
   "pygments_lexer": "ipython3",
   "version": "3.10.8"
  }
 },
 "nbformat": 4,
 "nbformat_minor": 5
}
