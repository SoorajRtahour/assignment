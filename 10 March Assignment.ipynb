{
 "cells": [
  {
   "cell_type": "markdown",
   "id": "38754be0-cd82-44df-9f51-16fa7969ad33",
   "metadata": {},
   "source": [
    "Q1: What is Estimation Statistics? Explain point estimate and interval estimate."
   ]
  },
  {
   "cell_type": "code",
   "execution_count": null,
   "id": "1cb9f13a-b456-4454-b62a-ba8aa6a91b70",
   "metadata": {},
   "outputs": [],
   "source": [
    "In statistics, estimation refers to the process of using sample data to infer or estimate population parameters. Estimation provides insights into unknown population characteristics based on observed sample statistics.\n",
    "\n",
    "Point Estimate:\n",
    "- A point estimate is a single value that is calculated from sample data and is used to estimate an unknown population parameter. For instance, using the sample mean (\\(\\bar{X}\\)) to estimate the population mean (\\(\\mu\\)) or using the sample proportion (\\(p\\)) to estimate the population proportion (\\(P\\)) are examples of point estimates. Point estimates provide a specific value as an estimation of the population parameter but don't convey information about the accuracy or reliability of the estimate.\n",
    "\n",
    "Interval Estimate:\n",
    "- An interval estimate provides a range of values that is likely to contain the unknown population parameter. It includes both a lower and an upper limit within which the true population parameter is expected to fall with a certain level of confidence. This range is often expressed as a confidence interval (e.g., a 95% confidence interval for the population mean). Confidence intervals give an estimation of the precision or uncertainty around the point estimate and convey information about the reliability of the estimate.\n",
    "\n",
    "In summary, estimation statistics involves deriving estimators (point estimates) and constructing confidence intervals (interval estimates) to infer unknown population parameters from sample data. Point estimates provide specific values, while interval estimates give a range of values within which the true population parameter is expected to lie with a specified level of confidence."
   ]
  },
  {
   "cell_type": "markdown",
   "id": "d13ef823-e644-40ca-bcbc-405c6fe061d3",
   "metadata": {},
   "source": [
    "Q2. Write a Python function to estimate the population mean using a sample mean and standard\n",
    "deviation."
   ]
  },
  {
   "cell_type": "code",
   "execution_count": null,
   "id": "19f149e5-f27b-47bf-9627-b628c1d617b6",
   "metadata": {},
   "outputs": [],
   "source": [
    "Certainly! You can use the following Python function to estimate the population mean using a sample mean and standard deviation:\n",
    "\n",
    "def estimate_population_mean(sample_mean, sample_std, sample_size):\n",
    "    import math\n",
    "    # Calculate the standard error (standard deviation of the sample mean)\n",
    "    std_error = sample_std / math.sqrt(sample_size)\n",
    "    \n",
    "    # Calculate the margin of error for a 95% confidence interval (assuming normal distribution)\n",
    "    margin_of_error = 1.96 * std_error  # For a 95% confidence interval\n",
    "    \n",
    "    # Calculate the lower and upper bounds of the confidence interval\n",
    "    lower_bound = sample_mean - margin_of_error\n",
    "    upper_bound = sample_mean + margin_of_error\n",
    "    \n",
    "    return (lower_bound, upper_bound)\n",
    "\n",
    "# Example usage:\n",
    "# Replace these values with your sample mean, standard deviation, and sample size\n",
    "sample_mean = 75\n",
    "sample_std = 5\n",
    "sample_size = 100\n",
    "\n",
    "lower, upper = estimate_population_mean(sample_mean, sample_std, sample_size)\n",
    "print(f\"Estimated population mean is between {lower:.2f} and {upper:.2f} with 95% confidence.\")\n",
    "\n",
    "This function estimates the population mean based on the sample mean, standard deviation, and sample size, assuming a normal distribution and constructing a 95% confidence interval around the sample mean. Adjust the `sample_mean`, `sample_std`, and `sample_size` variables with your own sample data to obtain the estimated population mean within a confidence interval."
   ]
  },
  {
   "cell_type": "markdown",
   "id": "f564f812-f9c3-4807-a94d-259b477bc19f",
   "metadata": {},
   "source": [
    "Q3: What is Hypothesis testing? Why is it used? State the importance of Hypothesis testing."
   ]
  },
  {
   "cell_type": "code",
   "execution_count": null,
   "id": "7bf3048d-dd53-4444-b9c1-c5f4ef03d169",
   "metadata": {},
   "outputs": [],
   "source": [
    "Hypothesis testing is a statistical method used to make inferences or decisions about population parameters based on sample data. It involves testing a hypothesis by comparing sample data to what would be expected if a specific null hypothesis were true.\n",
    "\n",
    "Purpose and Importance of Hypothesis Testing:\n",
    "\n",
    "1. Formal Decision Making: It provides a structured framework for making decisions or drawing conclusions about population parameters based on observed sample data.\n",
    "\n",
    "2. Validation of Assumptions: Hypothesis testing allows researchers to validate or challenge assumptions about population parameters, relationships between variables, or the effect of interventions.\n",
    "\n",
    "3. Quantifying Uncertainty: It helps in quantifying the uncertainty associated with sample data and draws conclusions about the population from which the sample was drawn.\n",
    "\n",
    "4. Scientific Research: Crucial in scientific research to test theories, hypotheses, and predictions against empirical data, allowing for evidence-based conclusions.\n",
    "\n",
    "5. Business and Industry: Used in business and industry for decision-making processes, product development, quality control, and market research.\n",
    "\n",
    "6. Legal and Policy Decisions: Plays a role in legal cases, policy decisions, and healthcare to evaluate the effectiveness of treatments, interventions, or regulations.\n",
    "\n",
    "Overall, hypothesis testing is vital in statistical analysis as it provides a systematic way to evaluate evidence, make informed decisions, and draw valid conclusions about population parameters or the relationships between variables based on sample data. It helps ensure that conclusions drawn from data are backed by statistical evidence rather than mere observation or intuition."
   ]
  },
  {
   "cell_type": "markdown",
   "id": "eb096882-808d-4653-a364-0e2d5fc09af9",
   "metadata": {},
   "source": [
    "Q4. Create a hypothesis that states whether the average weight of male college students is greater than\n",
    "the average weight of female college students."
   ]
  },
  {
   "cell_type": "code",
   "execution_count": null,
   "id": "3c2fa896-ac65-4483-832e-bb09d234a5fa",
   "metadata": {},
   "outputs": [],
   "source": [
    "Certainly! Here's a hypothesis statement that addresses the difference in average weight between male and female college students:\n",
    "\n",
    "Null Hypothesis (H0):\n",
    "The average weight of male college students is equal to or less than the average weight of female college students.\n",
    "\\[ H_0: \\mu_{\\text{male}} \\leq \\mu_{\\text{female\n",
    "                                          \n",
    "Alternative Hypothesis (Ha):\n",
    "The average weight of male college students is greater than the average weight of female college students.\n",
    "\\[ H_a: \\mu_{\\text{male}} > \\mu_{\\text{female}} \\]\n",
    "\n",
    "In this case, \\( \\mu_{\\text{male}} \\) represents the average weight of male college students, and \\( \\mu_{\\text{female}} \\) represents the average weight of female college students. The null hypothesis assumes that there is no significant difference or that the average weight of male students is equal to or less than that of female students, while the alternative hypothesis suggests that the average weight of male students is greater than that of female students.\n",
    "\n",
    "This hypothesis can be tested using appropriate statistical methods and sample data collected from male and female college students to draw conclusions about the average weight differences between the two groups."
   ]
  },
  {
   "cell_type": "markdown",
   "id": "55127bc9-ca45-4484-8be8-920c782ca468",
   "metadata": {},
   "source": [
    "Q5. Write a Python script to conduct a hypothesis test on the difference between two population means,\n",
    "given a sample from each population."
   ]
  },
  {
   "cell_type": "code",
   "execution_count": null,
   "id": "6220dff5-9fef-441c-a19f-31798b166d9f",
   "metadata": {},
   "outputs": [],
   "source": [
    "Certainly! You can use a t-test to compare the means of two independent samples. Here's an example of conducting a two-sample t-test using Python's `scipy` library:\n",
    "\n",
    "from scipy import stats\n",
    "\n",
    "# Assuming you have two sample datasets: sample1 and sample2\n",
    "# Replace these with your actual sample data\n",
    "sample1 = [/* values from first sample */]\n",
    "sample2 = [/* values from second sample */]\n",
    "\n",
    "# Perform a two-sample t-test assuming unequal variances\n",
    "# Change equal_var=True if variances are assumed to be equal\n",
    "t_stat, p_value = stats.ttest_ind(sample1, sample2, equal_var=False)\n",
    "\n",
    "# Assuming alpha level of 0.05 for significance\n",
    "alpha = 0.05\n",
    "\n",
    "print(f\"T-statistic: {t_stat}\")\n",
    "print(f\"P-value: {p_value}\")\n",
    "\n",
    "if p_value < alpha:\n",
    "    print(\"Reject null hypothesis: There is a significant difference between the population means.\")\n",
    "else:\n",
    "    print(\"Fail to reject null hypothesis: There is no significant difference between the population means.\")\n",
    "\n",
    "Replace `sample1` and `sample2` with the actual sample data from your two populations. This script uses `scipy`'s `ttest_ind` function to perform a two-sample t-test assuming unequal variances between the populations. It calculates the t-statistic and p-value, which you can use to determine whether to reject the null hypothesis based on a chosen significance level (alpha), typically 0.05. Adjust the alpha level or test assumptions according to your specific requirements."
   ]
  },
  {
   "cell_type": "markdown",
   "id": "99e6bb67-8c02-4dc0-9710-534294ac70c8",
   "metadata": {},
   "source": [
    "Q6: What is a null and alternative hypothesis? Give some examples."
   ]
  },
  {
   "cell_type": "code",
   "execution_count": null,
   "id": "61093d96-b5ab-4a43-9b5c-f62ee426648c",
   "metadata": {},
   "outputs": [],
   "source": [
    "In statistical hypothesis testing, the null hypothesis (H0) and the alternative hypothesis (Ha) are two competing statements regarding a population parameter or the relationship between variables. They are used to make inferences or draw conclusions based on sample data.\n",
    "\n",
    "Null Hypothesis (H0):\n",
    "- The null hypothesis represents the default assumption, stating that there is no effect, no difference, or no relationship between variables. It's what we aim to test against and potentially reject if the evidence suggests otherwise.\n",
    "- For instance:\n",
    "  - The mean IQ of two groups is equal (H0: μ1 = μ2).\n",
    "  - A new drug has no effect on patient recovery time (H0: μ_before = μ_after).\n",
    "  - There is no association between smoking and lung cancer risk (H0: There is no association).\n",
    "\n",
    "Alternative Hypothesis (Ha):\n",
    "- The alternative hypothesis contradicts the null hypothesis and suggests the presence of an effect, a difference, or a relationship between variables.\n",
    "- Examples of alternative hypotheses corresponding to the examples above:\n",
    "  - The mean IQ of two groups is different (Ha: μ1 ≠ μ2).\n",
    "  - The new drug has a different effect on patient recovery time (Ha: μ_before ≠ μ_after).\n",
    "  - There is an association between smoking and increased lung cancer risk (Ha: There is an association).\n",
    "\n",
    "In summary, the null hypothesis typically assumes no effect or no difference, while the alternative hypothesis offers an opposing viewpoint, suggesting an effect, difference, or relationship of interest. Through statistical testing and analysis of sample data, the evidence is used to either reject or fail to reject the null hypothesis in favor of the alternative hypothesis."
   ]
  },
  {
   "cell_type": "markdown",
   "id": "98b424bd-aba9-4478-9512-f735a2d8c75b",
   "metadata": {},
   "source": [
    "Q7: Write down the steps involved in hypothesis testing."
   ]
  },
  {
   "cell_type": "code",
   "execution_count": null,
   "id": "01e6fe46-8689-4d10-963b-987e9324b821",
   "metadata": {},
   "outputs": [],
   "source": [
    "Certainly! Here are the general steps involved in hypothesis testing:\n",
    "\n",
    "1. Formulate Hypotheses:\n",
    "   - Define the null hypothesis (H0) and the alternative hypothesis (Ha) based on the research question and the parameter being tested.\n",
    "\n",
    "2. Choose Significance Level (α):\n",
    "   - Determine the desired level of significance (α), commonly set to 0.05, representing the probability threshold for rejecting the null hypothesis.\n",
    "\n",
    "3. Select a Test Statistic:\n",
    "   - Choose an appropriate statistical test (e.g., t-test, z-test, chi-square test) based on the type of data and the hypothesis being tested.\n",
    "\n",
    "4. Collect Sample Data:\n",
    "   - Collect relevant data from samples that are representative of the population being studied.\n",
    "\n",
    "5. Compute Test Statistic:\n",
    "   - Calculate the test statistic using the sample data and the chosen statistical test.\n",
    "\n",
    "6. Determine the P-value:\n",
    "   - Calculate the probability value (p-value) associated with the test statistic. This measures the strength of evidence against the null hypothesis.\n",
    "\n",
    "7. Make a Decision:\n",
    "   - Compare the p-value to the significance level (α).\n",
    "   - If p-value < α, reject the null hypothesis in favor of the alternative hypothesis. The results are considered statistically significant.\n",
    "   - If p-value ≥ α, fail to reject the null hypothesis. The results are not statistically significant.\n",
    "\n",
    "8. Draw Conclusion:\n",
    "   - Interpret the results based on the decision made in the previous step. Report findings and conclusions based on the evidence obtained from the hypothesis test.\n",
    "\n",
    "9. Consider Limitations and Assumptions:\n",
    "   - Reflect on the assumptions made and limitations of the hypothesis test. Consider how they might affect the interpretation of results.\n",
    "\n",
    "10. Repeat and Validate (If Necessary):\n",
    "    - If needed, replicate the study or conduct further analyses to validate the findings.\n",
    "\n",
    "These steps provide a structured framework for conducting hypothesis tests, allowing researchers to make informed decisions based on statistical evidence obtained from sample data."
   ]
  },
  {
   "cell_type": "markdown",
   "id": "940e7f6f-afb4-42ac-8963-a2f91b1131a2",
   "metadata": {},
   "source": [
    "Q8. Define p-value and explain its significance in hypothesis testing."
   ]
  },
  {
   "cell_type": "code",
   "execution_count": null,
   "id": "71f92309-2643-44b3-ae9e-6a0a19cd71e8",
   "metadata": {},
   "outputs": [],
   "source": [
    "The p-value, in the context of hypothesis testing, is a probability measure that indicates the strength of evidence against the null hypothesis (H0). It quantifies the likelihood of obtaining the observed results or more extreme results if the null hypothesis were true.\n",
    "\n",
    "Significance of the p-value in Hypothesis Testing:\n",
    "\n",
    "1. Decision Making: The p-value helps in making decisions about whether to reject or fail to reject the null hypothesis. It provides a criterion for determining the significance of the observed data.\n",
    "\n",
    "2. Interpretation: A smaller p-value suggests stronger evidence against the null hypothesis. If the p-value is below the chosen significance level (α), typically 0.05, it indicates that the observed data are unlikely under the assumption that the null hypothesis is true.\n",
    "\n",
    "3. Statistical Significance: If the p-value is less than α, it implies that the observed results are statistically significant. Therefore, the null hypothesis is rejected in favor of the alternative hypothesis, suggesting there is an effect, difference, or relationship between variables.\n",
    "\n",
    "4. Conclusion: Conversely, if the p-value is greater than α, it implies that the observed results are not statistically significant. In such cases, there's insufficient evidence to reject the null hypothesis.\n",
    "\n",
    "5. Support for Research Findings: The p-value provides a basis for supporting or refuting research hypotheses. It aids in drawing conclusions based on statistical evidence from sample data.\n",
    "\n",
    "In summary, the p-value is a crucial component in hypothesis testing, serving as a metric to assess the strength of evidence against the null hypothesis. It assists researchers and analysts in determining the significance of observed data and making informed decisions about the validity of research hypotheses based on statistical evidence."
   ]
  },
  {
   "cell_type": "markdown",
   "id": "12c37a42-f38e-4d93-82c6-1d8989e1522a",
   "metadata": {},
   "source": [
    "Q9. Generate a Student's t-distribution plot using Python's matplotlib library, with the degrees of freedom\n",
    "parameter set to 10."
   ]
  },
  {
   "cell_type": "code",
   "execution_count": null,
   "id": "4e96363b-9e08-4a74-b48e-e85dfc50756f",
   "metadata": {},
   "outputs": [],
   "source": [
    "Sure, here's an example of generating a Student's t-distribution plot with degrees of freedom set to 10 using Python's Matplotlib library:\n",
    "\n",
    "import matplotlib.pyplot as plt\n",
    "import numpy as np\n",
    "from scipy.stats import t\n",
    "\n",
    "# Define a range of x values\n",
    "x = np.linspace(-5, 5, 1000)\n",
    "\n",
    "# Degrees of freedom\n",
    "df = 10\n",
    "\n",
    "# Calculate the probability density function (PDF) for t-distribution\n",
    "pdf = t.pdf(x, df)\n",
    "\n",
    "# Plotting the t-distribution\n",
    "plt.figure(figsize=(8, 6))\n",
    "plt.plot(x, pdf, label=f'Student\\'s t-distribution (df={df})', color='blue')\n",
    "\n",
    "plt.title(\"Student's t-distribution\")\n",
    "plt.xlabel('x')\n",
    "plt.ylabel('Probability Density')\n",
    "plt.legend()\n",
    "plt.grid(True)\n",
    "plt.show()\n",
    "\n",
    "This code snippet creates a plot of the Student's t-distribution with degrees of freedom (df) set to 10. Adjust the range of x values (`np.linspace(-5, 5, 1000)`) and the degrees of freedom (`df`) as needed to suit your visualization requirements. The plot displays the probability density function (PDF) for the t-distribution with the specified degrees of freedom."
   ]
  },
  {
   "cell_type": "markdown",
   "id": "1d0e3983-f628-4228-b826-ff04b77850e7",
   "metadata": {},
   "source": [
    "Q10. Write a Python program to calculate the two-sample t-test for independent samples, given two\n",
    "random samples of equal size and a null hypothesis that the population means are equal.\n"
   ]
  },
  {
   "cell_type": "code",
   "execution_count": null,
   "id": "5ddb6aae-b474-4728-8f96-94c543281b26",
   "metadata": {},
   "outputs": [],
   "source": [
    "Certainly! Here's an example Python program using SciPy's `ttest_ind` function to perform a two-sample t-test for independent samples assuming equal population variances and a null hypothesis that the population means are equal:\n",
    "\n",
    "from scipy import stats\n",
    "import numpy as np\n",
    "\n",
    "# Generating two random samples of equal size\n",
    "np.random.seed(42)  # Setting seed for reproducibility\n",
    "sample_size = 50\n",
    "sample1 = np.random.normal(loc=5, scale=2, size=sample_size)\n",
    "sample2 = np.random.normal(loc=4.8, scale=2.2, size=sample_size)  # Slightly different means\n",
    "\n",
    "# Perform two-sample t-test assuming equal variances\n",
    "t_stat, p_value = stats.ttest_ind(sample1, sample2, equal_var=True)\n",
    "\n",
    "# Assuming alpha level of 0.05 for significance\n",
    "alpha = 0.05\n",
    "\n",
    "print(f\"T-statistic: {t_stat}\")\n",
    "print(f\"P-value: {p_value}\")\n",
    "\n",
    "if p_value < alpha:\n",
    "    print(\"Reject null hypothesis: There is a significant difference between the population means.\")\n",
    "else:\n",
    "    print(\"Fail to reject null hypothesis: There is no significant difference between the population means.\")\n",
    "\n",
    "This program generates two random samples of equal size and performs a two-sample t-test using `stats.ttest_ind`. Adjust the parameters of the random samples and modify the null hypothesis as needed for your specific scenario. The program compares the calculated p-value to the chosen significance level (alpha) to determine whether to reject or fail to reject the null hypothesis."
   ]
  },
  {
   "cell_type": "markdown",
   "id": "3eb8304a-1887-4c84-8669-f4b9813a891b",
   "metadata": {},
   "source": [
    "Q11: What is Student’s t distribution? When to use the t-Distribution."
   ]
  },
  {
   "cell_type": "code",
   "execution_count": null,
   "id": "b93f81cb-da04-4b38-85a9-659e6e44dbc8",
   "metadata": {},
   "outputs": [],
   "source": [
    "Student's t-distribution, also known as the t-distribution, is a probability distribution that is similar in shape to the standard normal distribution but has heavier tails. It's used in statistical hypothesis testing and confidence interval estimation, particularly when dealing with small sample sizes or when the population standard deviation is unknown.\n",
    "\n",
    "Characteristics of the t-Distribution:\n",
    "- Symmetric and bell-shaped, resembling the standard normal distribution.\n",
    "- Has a mean of 0 and wider tails compared to the normal distribution.\n",
    "- The shape of the t-distribution varies based on the degrees of freedom (df), where the degrees of freedom depend on the sample size.\n",
    "\n",
    "When to Use the t-Distribution:\n",
    "- Small Sample Sizes: When dealing with small sample sizes (typically less than 30) where the population standard deviation is unknown, the t-distribution is used instead of the standard normal distribution.\n",
    "- Population Standard Deviation Unknown: When the population standard deviation is unknown and is estimated from the sample, the t-distribution is used for inference and hypothesis testing.\n",
    "- Estimation and Confidence Intervals: It's used to construct confidence intervals for population means or differences between means.\n",
    "\n",
    "The t-distribution becomes closer to the standard normal distribution as the sample size increases, converging when the sample size is large (approaching infinity). Therefore, for larger sample sizes, using the t-distribution or the standard normal distribution yields similar results in statistical inference. However, the t-distribution remains important for smaller sample sizes or cases where the population standard deviation is unknown."
   ]
  },
  {
   "cell_type": "markdown",
   "id": "e8eb0124-e906-4676-8f4e-35339dd36f8b",
   "metadata": {},
   "source": [
    "Q12: What is t-statistic? State the formula for t-statistic."
   ]
  },
  {
   "cell_type": "code",
   "execution_count": null,
   "id": "d57ec55f-68e1-443a-a7e8-bd29d8991e75",
   "metadata": {},
   "outputs": [],
   "source": [
    "The t-statistic is a measure used in hypothesis testing to assess the significance of the difference between sample means or the relationship between sample data and a null hypothesis.\n",
    "\n",
    "Formula for t-Statistic:\n",
    "The formula for the t-statistic when comparing the means of two independent samples (for a two-sample t-test) is:\n",
    "\n",
    "\\[ t = \\frac{{\\bar{X}_1 - \\bar{X}_2}}{{\\sqrt{\\frac{{s_1^2}}{{n_1}} + \\frac{{s_2^2}}{{n_2}}}}} \\]\n",
    "\n",
    "Where:\n",
    "- \\( \\bar{X}_1 \\) and \\( \\bar{X}_2 \\) are the sample means of the two groups being compared.\n",
    "- \\( s_1^2 \\) and \\( s_2^2 \\) are the sample variances of the two groups.\n",
    "- \\( n_1 \\) and \\( n_2 \\) are the sample sizes of the two groups.\n",
    "\n",
    "For a one-sample t-test, comparing a sample mean to a known or hypothesized population mean, the formula for the t-statistic is:\n",
    "\n",
    "\\[ t = \\frac{{\\bar{X} - \\mu}}{{\\frac{{s}}{{\\sqrt{n}}}}} \\]\n",
    "\n",
    "Where:\n",
    "- \\( \\bar{X} \\) is the sample mean.\n",
    "- \\( \\mu \\) is the hypothesized population mean.\n",
    "- \\( s \\) is the sample standard deviation.\n",
    "- \\( n \\) is the sample size.\n",
    "\n",
    "The t-statistic measures the difference between sample means relative to the variation within the samples. A larger t-statistic indicates a greater difference between the sample means or between the sample mean and the hypothesized population mean, suggesting stronger evidence against the null hypothesis."
   ]
  },
  {
   "cell_type": "markdown",
   "id": "16f14adb-06ec-4b0d-a91a-dbc867e4f9fd",
   "metadata": {},
   "source": [
    "Q13. A coffee shop owner wants to estimate the average daily revenue for their shop. They take a random\n",
    "sample of 50 days and find the sample mean revenue to be $500 with a standard deviation of $50.\n",
    "Estimate the population mean revenue with a 95% confidence interval."
   ]
  },
  {
   "cell_type": "code",
   "execution_count": null,
   "id": "663fd698-31b1-457f-84c3-aaf23af0a4d3",
   "metadata": {},
   "outputs": [],
   "source": [
    "To estimate the population mean revenue with a 95% confidence interval based on the provided sample data, you can use the following formula:\n",
    "\n",
    "\\[ \\text{Confidence Interval} = \\text{Sample Mean} \\pm \\text{Margin of Error} \\]\n",
    "\n",
    "Where the margin of error (MOE) for a 95% confidence interval can be calculated using the formula:\n",
    "\n",
    "\\[ \\text{Margin of Error} = \\text{Critical Value} \\times \\frac{\\text{Sample Standard Deviation}}{\\sqrt{\\text{Sample Size}}} \\]\n",
    "\n",
    "For a 95% confidence level in a two-tailed test, the critical value (Z-value) from the standard normal distribution is approximately 1.96.\n",
    "\n",
    "Given:\n",
    "- Sample Mean (\\( \\bar{X} \\)) = $500\n",
    "- Sample Standard Deviation (\\( s \\)) = $50\n",
    "- Sample Size (\\( n \\)) = 50\n",
    "- Critical Value for 95% confidence level ≈ 1.96\n",
    "\n",
    "Let's calculate the confidence interval:\n",
    "\n",
    "\\[ \\text{Margin of Error} = 1.96 \\times \\frac{50}{\\sqrt{50}} \\]\n",
    "\n",
    "\\[ \\text{Margin of Error} \\approx 1.96 \\times \\frac{50}{\\sqrt{50}} \\approx 1.96 \\times \\frac{50}{7.07} \\approx 1.96 \\times 7.07 \\approx 13.85 \\]\n",
    "\n",
    "Now, construct the confidence interval:\n",
    "\n",
    "\\[ \\text{Confidence Interval} = 500 \\pm 13.85 \\]\n",
    "\n",
    "Therefore, the 95% confidence interval for the population mean revenue is approximately $486.15 to $513.85. This means we are 95% confident that the true population mean revenue falls within this range based on the sample data collected."
   ]
  },
  {
   "cell_type": "markdown",
   "id": "0193b933-d544-45ca-bcda-c706d3590c8d",
   "metadata": {},
   "source": [
    "Q14. A researcher hypothesizes that a new drug will decrease blood pressure by 10 mmHg. They conduct a\n",
    "clinical trial with 100 patients and find that the sample mean decrease in blood pressure is 8 mmHg with a\n",
    "standard deviation of 3 mmHg. Test the hypothesis with a significance level of 0.05."
   ]
  },
  {
   "cell_type": "code",
   "execution_count": null,
   "id": "3257a8a7-5032-4862-9e6f-e4da74029152",
   "metadata": {},
   "outputs": [],
   "source": [
    "To test the hypothesis that the new drug decreases blood pressure by 10 mmHg with a significance level of 0.05, we'll perform a one-sample t-test.\n",
    "\n",
    "Given:\n",
    "- Null Hypothesis (\\(H_0\\)): The new drug does not decrease blood pressure by 10 mmHg. (\\(\\mu = 10\\))\n",
    "- Alternative Hypothesis (\\(H_a\\)): The new drug decreases blood pressure by 10 mmHg. (\\(\\mu \\neq 10\\))\n",
    "- Sample Mean (\\(\\bar{X}\\)): 8 mmHg\n",
    "- Sample Standard Deviation (\\(s\\)): 3 mmHg\n",
    "- Sample Size (\\(n\\)): 100\n",
    "- Significance Level (\\(\\alpha\\)): 0.05\n",
    "\n",
    "Let's calculate the t-statistic and the corresponding p-value to test the hypothesis:\n",
    "\n",
    "\\[ t = \\frac{\\bar{X} - \\mu}{\\frac{s}{\\sqrt{n}}} \\]\n",
    "\n",
    "\\[ t = \\frac{8 - 10}{\\frac{3}{\\sqrt{100}}} \\]\n",
    "\\[ t = \\frac{-2}{\\frac{3}{10}} \\]\n",
    "\\[ t = -6.67 \\]\n",
    "\n",
    "Now, we'll use the t-statistic to find the corresponding p-value.\n",
    "\n",
    "Using a statistical calculator or software, the two-tailed p-value for \\(t = -6.67\\) and degrees of freedom (\\(df\\) = \\(n - 1\\) = 99) is extremely small, much smaller than 0.0001.\n",
    "\n",
    "Given the very small p-value (much less than 0.05), we reject the null hypothesis. This suggests strong evidence that the new drug decreases blood pressure, indicating that the mean decrease in blood pressure is significantly different from the hypothesized value of 10 mmHg."
   ]
  },
  {
   "cell_type": "markdown",
   "id": "94347a04-3aca-4e7a-801b-be161290dc2f",
   "metadata": {},
   "source": [
    "Q15. An electronics company produces a certain type of product with a mean weight of 5 pounds and a\n",
    "standard deviation of 0.5 pounds. A random sample of 25 products is taken, and the sample mean weight\n",
    "is found to be 4.8 pounds. Test the hypothesis that the true mean weight of the products is less than 5\n",
    "pounds with a significance level of 0.01."
   ]
  },
  {
   "cell_type": "code",
   "execution_count": null,
   "id": "1188e842-4cb1-4315-bf2e-9e4329562540",
   "metadata": {},
   "outputs": [],
   "source": [
    "To test the hypothesis that the true mean weight of the products is less than 5 pounds with a significance level of 0.01, we'll perform a one-sample t-test.\n",
    "\n",
    "Given:\n",
    "- Null Hypothesis (\\(H_0\\)): The true mean weight of the products is 5 pounds or more. (\\(\\mu \\geq 5\\))\n",
    "- Alternative Hypothesis (\\(H_a\\)): The true mean weight of the products is less than 5 pounds. (\\(\\mu < 5\\))\n",
    "- Population Mean (\\(\\mu\\)): 5 pounds\n",
    "- Sample Mean (\\(\\bar{X}\\)): 4.8 pounds\n",
    "- Population Standard Deviation (\\(\\sigma\\)): 0.5 pounds\n",
    "- Sample Size (\\(n\\)): 25\n",
    "- Significance Level (\\(\\alpha\\)): 0.01\n",
    "\n",
    "Let's calculate the t-statistic and the corresponding p-value to test the hypothesis:\n",
    "\n",
    "\\[ t = \\frac{\\bar{X} - \\mu}{\\frac{\\sigma}{\\sqrt{n}}} \\]\n",
    "\n",
    "\\[ t = \\frac{4.8 - 5}{\\frac{0.5}{\\sqrt{25}}} \\]\n",
    "\\[ t = \\frac{-0.2}{\\frac{0.5}{5}} \\]\n",
    "\\[ t = -2 \\]\n",
    "\n",
    "Now, let's find the corresponding p-value for the one-tailed test using a t-distribution table or statistical software.\n",
    "\n",
    "Given the t-statistic of -2 and degrees of freedom (\\(df\\) = \\(n - 1\\) = 24), the p-value is found to be approximately 0.025.\n",
    "\n",
    "Since the p-value (0.025) is less than the significance level (\\(\\alpha = 0.01\\)), we reject the null hypothesis. This suggests sufficient evidence that the true mean weight of the products is less than 5 pounds, based on the sample data collected."
   ]
  },
  {
   "cell_type": "markdown",
   "id": "aba4000e-bcf2-4945-97ee-89c265f58919",
   "metadata": {},
   "source": [
    "Q16. Two groups of students are given different study materials to prepare for a test. The first group (n1 =\n",
    "30) has a mean score of 80 with a standard deviation of 10, and the second group (n2 = 40) has a mean\n",
    "score of 75 with a standard deviation of 8. Test the hypothesis that the population means for the two\n",
    "groups are equal with a significance level of 0.01."
   ]
  },
  {
   "cell_type": "code",
   "execution_count": null,
   "id": "cffd3e07-4f9a-42ab-a2f6-bec7dda1b547",
   "metadata": {},
   "outputs": [],
   "source": [
    "To test the hypothesis that the population means for the two groups are equal with a significance level of 0.01, we'll perform an independent two-sample t-test.\n",
    "\n",
    "Given:\n",
    "- Group 1: \\(n_1 = 30\\), \\(\\bar{X}_1 = 80\\), \\(s_1 = 10\\)\n",
    "- Group 2: \\(n_2 = 40\\), \\(\\bar{X}_2 = 75\\), \\(s_2 = 8\\)\n",
    "- Null Hypothesis (\\(H_0\\)): The population means for the two groups are equal. (\\(\\mu_1 = \\mu_2\\))\n",
    "- Alternative Hypothesis (\\(H_a\\)): The population means for the two groups are not equal. (\\(\\mu_1 \\neq \\mu_2\\))\n",
    "- Significance Level (\\(\\alpha\\)): 0.01\n",
    "\n",
    "The formula for the two-sample t-test is:\n",
    "\n",
    "\\[ t = \\frac{{\\bar{X}_1 - \\bar{X}_2}}{{\\sqrt{\\frac{{s_1^2}}{{n_1}} + \\frac{{s_2^2}}{{n_2}}}}} \\]\n",
    "\n",
    "Let's calculate the t-statistic and the corresponding p-value to test the hypothesis:\n",
    "\n",
    "\\[ t = \\frac{{80 - 75}}{{\\sqrt{\\frac{{10^2}}{{30}} + \\frac{{8^2}}{{40}}}}} \\]\n",
    "\\[ t = \\frac{{5}}{{\\sqrt{\\frac{{100}}{{30}} + \\frac{{64}}{{40}}}}} \\]\n",
    "\\[ t = \\frac{{5}}{{\\sqrt{3.33 + 1.6}}} \\]\n",
    "\\[ t ≈ \\frac{{5}}{{\\sqrt{4.93}}} \\]\n",
    "\\[ t ≈ \\frac{{5}}{{2.22}} \\]\n",
    "\\[ t ≈ 2.25 \\]\n",
    "\n",
    "Now, using a t-distribution table or statistical software, find the two-tailed p-value for \\(t ≈ 2.25\\) with degrees of freedom \\((df) = n_1 + n_2 - 2 = 30 + 40 - 2 = 68\\).\n",
    "\n",
    "Given the p-value (approximate) as 0.027 (which is higher than the significance level of 0.01), we fail to reject the null hypothesis. This suggests that there is not sufficient evidence to conclude that the population means for the two groups are different based on the sample data collected at the 0.01 significance level."
   ]
  },
  {
   "cell_type": "markdown",
   "id": "17864898-4d06-4178-a5af-10a1bdfe914f",
   "metadata": {},
   "source": [
    "Q17. A marketing company wants to estimate the average number of ads watched by viewers during a TV\n",
    "program. They take a random sample of 50 viewers and find that the sample mean is 4 with a standard\n",
    "deviation of 1.5. Estimate the population mean with a 99% confidence interval."
   ]
  },
  {
   "cell_type": "code",
   "execution_count": null,
   "id": "e45b6b66-d6d0-45e6-b056-2823b5374596",
   "metadata": {},
   "outputs": [],
   "source": [
    "To estimate the population mean with a 99% confidence interval based on the provided sample data, you can use the following formula:\n",
    "\n",
    "\\[ \\text{Confidence Interval} = \\text{Sample Mean} \\pm \\text{Margin of Error} \\]\n",
    "\n",
    "Where the margin of error (MOE) for a 99% confidence interval can be calculated using the formula:\n",
    "\n",
    "\\[ \\text{Margin of Error} = \\text{Critical Value} \\times \\frac{\\text{Sample Standard Deviation}}{\\sqrt{\\text{Sample Size}}} \\]\n",
    "\n",
    "For a 99% confidence level in a two-tailed test, the critical value from the standard normal distribution is approximately 2.576.\n",
    "\n",
    "Given:\n",
    "- Sample Mean (\\( \\bar{X} \\)): 4\n",
    "- Sample Standard Deviation (\\( s \\)): 1.5\n",
    "- Sample Size (\\( n \\)): 50\n",
    "- Critical Value for 99% confidence level ≈ 2.576\n",
    "\n",
    "Let's calculate the confidence interval:\n",
    "\n",
    "\\[ \\text{Margin of Error} = 2.576 \\times \\frac{1.5}{\\sqrt{50}} \\]\n",
    "\n",
    "\\[ \\text{Margin of Error} \\approx 2.576 \\times \\frac{1.5}{\\sqrt{50}} \\approx 2.576 \\times \\frac{1.5}{7.07} \\approx 2.576 \\times 0.212 \\approx 0.544 \\]\n",
    "\n",
    "Now, construct the confidence interval:\n",
    "\n",
    "\\[ \\text{Confidence Interval} = 4 \\pm 0.544 \\]\n",
    "\n",
    "Therefore, the 99% confidence interval for the population mean number of ads watched by viewers during a TV program is approximately \\(3.456\\) to \\(4.544\\). This means we are 99% confident that the true population mean falls within this range based on the sample data collected."
   ]
  }
 ],
 "metadata": {
  "kernelspec": {
   "display_name": "Python 3 (ipykernel)",
   "language": "python",
   "name": "python3"
  },
  "language_info": {
   "codemirror_mode": {
    "name": "ipython",
    "version": 3
   },
   "file_extension": ".py",
   "mimetype": "text/x-python",
   "name": "python",
   "nbconvert_exporter": "python",
   "pygments_lexer": "ipython3",
   "version": "3.10.8"
  }
 },
 "nbformat": 4,
 "nbformat_minor": 5
}
