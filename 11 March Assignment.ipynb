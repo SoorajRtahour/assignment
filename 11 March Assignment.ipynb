{
 "cells": [
  {
   "cell_type": "markdown",
   "id": "05af4929-9b90-4a4c-8ff5-c2eadd620845",
   "metadata": {},
   "source": [
    "Q1: What is the difference between a t-test and a z-test? Provide an example scenario where you would\n",
    "use each type of test."
   ]
  },
  {
   "cell_type": "code",
   "execution_count": null,
   "id": "bbd3c762-17a7-4141-8d02-96df664f932e",
   "metadata": {},
   "outputs": [],
   "source": [
    "The primary difference between a t-test and a z-test lies in the situations and assumptions related to their application.\n",
    "\n",
    "- Z-test:\n",
    "  - Scenario: Used when the population standard deviation is known and the sample size is relatively large (typically n > 30).\n",
    "  - Assumption: Assumes a known population standard deviation.\n",
    "  - Example: Suppose you're testing the mean height of adult males in a city where the population standard deviation for heights is known to be 4 inches. You collect a large sample (n > 30) and want to determine if the mean height of your sample significantly differs from the known population mean.\n",
    "\n",
    "- T-test:\n",
    "  - Scenario: Appropriate when the population standard deviation is unknown or when the sample size is small (typically n < 30).\n",
    "  - Assumption: Assumes an unknown population standard deviation and uses the sample standard deviation as an estimate.\n",
    "  - Example: You're studying the effect of a new teaching method on student performance. You gather a small sample of 20 students and want to test if the mean exam scores of students taught using the new method differ significantly from the population mean score.\n",
    "\n",
    "In summary, Z-tests are utilized with larger samples (n > 30) and a known population standard deviation, while t-tests are suitable for smaller samples (n < 30) or when the population standard deviation is unknown."
   ]
  },
  {
   "cell_type": "markdown",
   "id": "fe686285-1e6a-481c-bebf-67bbf2b45451",
   "metadata": {},
   "source": [
    "Q2: Differentiate between one-tailed and two-tailed tests."
   ]
  },
  {
   "cell_type": "code",
   "execution_count": null,
   "id": "75880933-14c8-47bc-9f6d-dab55be0cbd6",
   "metadata": {},
   "outputs": [],
   "source": [
    "One-tailed and two-tailed tests refer to the directional nature of the hypothesis being tested and the area considered in the distribution for rejecting the null hypothesis.\n",
    "\n",
    "- **One-tailed test:\n",
    "  - **Directionality: Assesses whether the sample statistic is significantly greater than or less than a certain value, but not both.\n",
    "  - **Hypothesis: Has either a > or < symbol in the alternative hypothesis.\n",
    "  - **Rejection Region: The critical region for rejecting the null hypothesis is located entirely in one tail of the distribution.\n",
    "  - Example: Testing if a new drug improves performance (one-tailed >) or decreases performance (one-tailed <) compared to a standard drug.\n",
    "\n",
    "- Two-tailed test:\n",
    "  - Directionality: Assesses whether the sample statistic is significantly different from a certain value in either direction.\n",
    "  - Hypothesis: Uses a ≠ symbol in the alternative hypothesis.\n",
    "  - Rejection Region: The critical region for rejecting the null hypothesis is split between both tails of the distribution.\n",
    "  - Example: Testing if a coin is biased (two-tailed ≠), indicating that it's neither fair (50% heads) nor unfair (biased toward heads or tails).\n",
    "\n",
    "In essence, one-tailed tests focus on a specific direction of change, while two-tailed tests consider any significant deviation from the null hypothesis in both directions. The choice between one-tailed and two-tailed tests depends on the research question and the direction of the effect being investigated."
   ]
  },
  {
   "cell_type": "markdown",
   "id": "66c7c232-7b1b-4682-992f-44c0a18d0684",
   "metadata": {},
   "source": [
    "Q3: Explain the concept of Type 1 and Type 2 errors in hypothesis testing. Provide an example scenario for\n",
    "each type of error."
   ]
  },
  {
   "cell_type": "code",
   "execution_count": null,
   "id": "50a3c061-c62a-447b-a4a4-c6de58b7dbf9",
   "metadata": {},
   "outputs": [],
   "source": [
    "Type I and Type II errors are associated with hypothesis testing and represent the two potential mistakes that can occur when making decisions based on statistical testing.\n",
    "\n",
    "- **Type I error (False Positive):** Occurs when the null hypothesis is incorrectly rejected when it is actually true. It signifies concluding that there is an effect or difference when, in reality, there isn't.\n",
    "\n",
    "- **Type II error (False Negative):** Occurs when the null hypothesis is not rejected when it is actually false. It implies failing to detect an effect or difference that genuinely exists.\n",
    "\n",
    "**Example Scenarios:**\n",
    "\n",
    "- **Type I Error:** Imagine a pharmaceutical company testing a new drug for a disease. The null hypothesis is that the drug has no effect. A Type I error would occur if the company erroneously concludes that the drug is effective (rejecting the null) when, in fact, it's not, leading to the drug being marketed but having no actual impact on the disease.\n",
    "\n",
    "- **Type II Error:** Using the same drug scenario, a Type II error would occur if the company fails to recognize the drug's efficacy (fails to reject the null) when it actually does have a beneficial effect on the disease. Consequently, the company decides not to proceed with the drug, missing a potential treatment opportunity.\n",
    "\n",
    "Both errors are important in hypothesis testing, as minimizing one type of error can increase the likelihood of the other occurring. The balance between Type I and Type II errors is often managed by choosing an appropriate significance level (α) and considering the power of the test to detect effects."
   ]
  },
  {
   "cell_type": "markdown",
   "id": "6d944b81-2c7f-4a92-baf8-291e4042dbe4",
   "metadata": {},
   "source": [
    "Q4: Explain Bayes's theorem with an example."
   ]
  },
  {
   "cell_type": "code",
   "execution_count": null,
   "id": "21cd06c8-d788-4867-bb01-8cf61f9eb6c0",
   "metadata": {},
   "outputs": [],
   "source": [
    "Bayes' theorem is a fundamental concept in probability theory that describes the probability of an event based on prior knowledge of conditions that might be related to the event. It's a way to update or revise beliefs about the probability of an event as new evidence or information becomes available.\n",
    "\n",
    "The theorem can be expressed as:\n",
    "\n",
    "\\[ P(A|B) = \\frac{P(B|A) \\times P(A)}{P(B)} \\]\n",
    "\n",
    "Where:\n",
    "- \\( P(A|B) \\) is the probability of event A occurring given that event B has occurred.\n",
    "- \\( P(B|A) \\) is the probability of event B occurring given that event A has occurred.\n",
    "- \\( P(A) \\) and \\( P(B) \\) are the probabilities of events A and B occurring independently.\n",
    "\n",
    "**Example:**\n",
    "\n",
    "Consider a scenario involving a medical test for a rare disease, where the disease affects 1 in 1000 people (0.1% prevalence). The test correctly identifies the disease in 99% of cases and produces a false positive result in 5% of healthy individuals.\n",
    "\n",
    "Let:\n",
    "- Event A: Having the disease\n",
    "- Event B: Testing positive\n",
    "\n",
    "Using Bayes' theorem, we can calculate the probability of having the disease given a positive test result:\n",
    "\n",
    "- \\( P(A) = 0.001 \\) (prevalence of the disease)\n",
    "- \\( P(B|A) = 0.99 \\) (probability of testing positive given having the disease)\n",
    "- \\( P(\\neg A) = 1 - P(A) = 0.999 \\) (probability of not having the disease)\n",
    "- \\( P(B|\\neg A) = 0.05 \\) (probability of testing positive given not having the disease)\n",
    "\n",
    "Now, applying Bayes' theorem:\n",
    "\n",
    "\\[ P(A|B) = \\frac{P(B|A) \\times P(A)}{P(B)} \\]\n",
    "\n",
    "\\[ P(A|B) = \\frac{0.99 \\times 0.001}{(0.001 \\times 0.99) + (0.999 \\times 0.05)} \\]\n",
    "\n",
    "After calculation, the probability of actually having the disease given a positive test result might be much lower than expected due to the test's false positive rate, even though the test is quite accurate in detecting the disease."
   ]
  },
  {
   "cell_type": "markdown",
   "id": "908c16ad-b908-4158-befb-a7ffb3a4bdfa",
   "metadata": {},
   "source": [
    "Q5: What is a confidence interval? How to calculate the confidence interval, explain with an example."
   ]
  },
  {
   "cell_type": "code",
   "execution_count": null,
   "id": "4158997b-550e-420b-ab63-ed97feb733a9",
   "metadata": {},
   "outputs": [],
   "source": [
    "A confidence interval is a range of values derived from sample data that is used to estimate an unknown population parameter, such as the population mean or proportion, with a specified level of confidence. It provides a range of plausible values for the parameter instead of a single point estimate.\n",
    "\n",
    "The formula for calculating a confidence interval for the population mean (\\( \\mu \\)) using sample data when the population standard deviation (\\( \\sigma \\)) is known is:\n",
    "\n",
    "\\[ \\text{Confidence Interval} = \\bar{x} \\pm Z \\times \\frac{\\sigma}{\\sqrt{n}} \\]\n",
    "\n",
    "Where:\n",
    "- \\( \\bar{x} \\) is the sample mean\n",
    "- \\( Z \\) is the Z-score corresponding to the desired confidence level (e.g., for 95% confidence, \\( Z \\approx 1.96 \\))\n",
    "- \\( \\sigma \\) is the population standard deviation\n",
    "- \\( n \\) is the sample size\n",
    "\n",
    "**Example:**\n",
    "\n",
    "Suppose you want to estimate the average weight of apples in a farm. You collect a random sample of 50 apples and find the sample mean weight to be 150 grams. You know from past data that the population standard deviation of apple weights is 20 grams. You want to calculate a 95% confidence interval for the average weight of all apples on the farm.\n",
    "\n",
    "Given:\n",
    "- Sample Mean (\\( \\bar{x} \\)): 150 grams\n",
    "- Population Standard Deviation (\\( \\sigma \\)): 20 grams\n",
    "- Sample Size (\\( n \\)): 50\n",
    "- Confidence Level: 95% (corresponds to a Z-score of approximately 1.96)\n",
    "\n",
    "Substitute the values into the formula:\n",
    "\n",
    "\\[ \\text{Confidence Interval} = 150 \\pm 1.96 \\times \\frac{20}{\\sqrt{50}} \\]\n",
    "\n",
    "\\[ \\text{Confidence Interval} = 150 \\pm 1.96 \\times \\frac{20}{\\sqrt{50}} \\approx 150 \\pm 5.54 \\]\n",
    "\n",
    "Therefore, the 95% confidence interval for the average weight of apples on the farm is approximately \\( (144.46, 155.54) \\) grams. This means we are 95% confident that the true average weight of all apples on the farm lies within this range based on the sample data collected."
   ]
  },
  {
   "cell_type": "markdown",
   "id": "18575ce4-c8b6-4732-9500-9d30870936d7",
   "metadata": {},
   "source": [
    "Q6. Use Bayes' Theorem to calculate the probability of an event occurring given prior knowledge of the\n",
    "event's probability and new evidence. Provide a sample problem and solution."
   ]
  },
  {
   "cell_type": "code",
   "execution_count": null,
   "id": "da6d1905-3d12-46b6-a8aa-4003839d8053",
   "metadata": {},
   "outputs": [],
   "source": [
    "Certainly! Let's consider a scenario involving a diagnostic test for a rare disease.\n",
    "\n",
    "Suppose a disease affects 1 in 5000 people (0.02% prevalence) in a population. A test for the disease is known to correctly identify the disease in 98% of cases and produce a false positive result in 3% of healthy individuals.\n",
    "\n",
    "Let:\n",
    "- Event A: Having the disease\n",
    "- Event B: Testing positive\n",
    "\n",
    "We want to calculate the probability of an individual having the disease given a positive test result using Bayes' theorem:\n",
    "\n",
    "\\[ P(A|B) = \\frac{P(B|A) \\times P(A)}{P(B)} \\]\n",
    "\n",
    "Where:\n",
    "- \\( P(A) \\) is the probability of having the disease (prevalence) = 0.0002\n",
    "- \\( P(B|A) \\) is the probability of testing positive given having the disease = 0.98\n",
    "- \\( P(\\neg A) \\) is the probability of not having the disease = 1 - \\( P(A) \\) = 0.9998\n",
    "- \\( P(B|\\neg A) \\) is the probability of testing positive given not having the disease = 0.03\n",
    "\n",
    "Now, let's calculate \\( P(A|B) \\) using Bayes' theorem:\n",
    "\n",
    "\\[ P(A|B) = \\frac{P(B|A) \\times P(A)}{P(B)} \\]\n",
    "\\[ P(A|B) = \\frac{0.98 \\times 0.0002}{(0.98 \\times 0.0002) + (0.03 \\times 0.9998)} \\]\n",
    "\\[ P(A|B) = \\frac{0.000196}{0.000196 + 0.029994} \\]\n",
    "\\[ P(A|B) = \\frac{0.000196}{0.03019} \\]\n",
    "\\[ P(A|B) \\approx 0.00649 \\]\n",
    "\n",
    "Therefore, even with a positive test result, the probability of an individual actually having the disease is approximately 0.65% or 0.00649, demonstrating the impact of the test's false positive rate on the final probability estimation."
   ]
  },
  {
   "cell_type": "markdown",
   "id": "7f0c05b9-11a1-47a8-b3dd-bb9d476c7e99",
   "metadata": {},
   "source": [
    "Q7. Calculate the 95% confidence interval for a sample of data with a mean of 50 and a standard deviation\n",
    "of 5. Interpret the results."
   ]
  },
  {
   "cell_type": "code",
   "execution_count": null,
   "id": "167a7c69-21d5-4c93-9d5d-297dde274833",
   "metadata": {},
   "outputs": [],
   "source": [
    "To calculate the 95% confidence interval for a sample with a mean of 50 and a standard deviation of 5, we'll use the formula for a confidence interval for the population mean when the population standard deviation is known:\n",
    "\n",
    "\\[ \\text{Confidence Interval} = \\bar{x} \\pm Z \\times \\frac{\\sigma}{\\sqrt{n}} \\]\n",
    "\n",
    "Where:\n",
    "- \\( \\bar{x} \\) = sample mean = 50\n",
    "- \\( \\sigma \\) = standard deviation = 5\n",
    "- \\( Z \\) for a 95% confidence interval ≈ 1.96 (from the standard normal distribution table)\n",
    "- \\( n \\) is the sample size (unknown in this case, but not needed for calculating the interval)\n",
    "\n",
    "Substituting the values into the formula:\n",
    "\n",
    "\\[ \\text{Confidence Interval} = 50 \\pm 1.96 \\times \\frac{5}{\\sqrt{n}} \\]\n",
    "\n",
    "The value of \\( n \\) is required to calculate the exact width of the interval. However, based on the given information, we can still compute the interval using the formula.\n",
    "\n",
    "\\[ \\text{Confidence Interval} = 50 \\pm 1.96 \\times \\frac{5}{\\sqrt{n}} \\]\n",
    "\n",
    "For a known sample size, the calculation would provide the precise confidence interval, for instance:\n",
    "\n",
    "- If \\( n = 100 \\), then \\( \\text{Confidence Interval} = 50 \\pm 1.96 \\times \\frac{5}{\\sqrt{100}} = 50 \\pm 0.98 \\)\n",
    "\n",
    "Interpretation:\n",
    "The 95% confidence interval for the population mean is \\( (49.02, 50.98) \\) with a given sample mean of 50 and standard deviation of 5. This implies that we are 95% confident that the true population mean falls within this range based on the sample data collected."
   ]
  },
  {
   "cell_type": "markdown",
   "id": "fbc61430-4845-466d-80b9-e1bbec121e4b",
   "metadata": {},
   "source": [
    "Q8. What is the margin of error in a confidence interval? How does sample size affect the margin of error?\n",
    "Provide an example of a scenario where a larger sample size would result in a smaller margin of error."
   ]
  },
  {
   "cell_type": "code",
   "execution_count": null,
   "id": "344cc7e4-6db4-4bc3-99d1-5daebd43e3f8",
   "metadata": {},
   "outputs": [],
   "source": [
    "The margin of error in a confidence interval represents the amount of uncertainty or variability around an estimate from a sample that could be attributed to chance. It indicates the potential difference between the sample statistic (like the sample mean) and the true population parameter (like the population mean).\n",
    "\n",
    "The formula for the margin of error in a confidence interval for a population mean (\\( \\mu \\)) when the population standard deviation (\\( \\sigma \\)) is known is:\n",
    "\n",
    "\\[ \\text{Margin of Error} = Z \\times \\frac{\\sigma}{\\sqrt{n}} \\]\n",
    "\n",
    "Where:\n",
    "- \\( Z \\) is the critical value from the standard normal distribution corresponding to the desired confidence level.\n",
    "- \\( \\sigma \\) is the population standard deviation.\n",
    "- \\( n \\) is the sample size.\n",
    "\n",
    "Regarding the impact of sample size on the margin of error:\n",
    "- **Larger Sample Size:** As the sample size (\\( n \\)) increases, the margin of error decreases. A larger sample provides more precise estimates of the population parameter, resulting in a narrower confidence interval and reduced uncertainty.\n",
    "\n",
    "**Example:**\n",
    "Suppose you want to estimate the average height of students in a school. With a smaller sample size, say 25 students, the margin of error might be around 3 inches using a 95% confidence interval. However, if you increase the sample size to 100 students, the margin of error might reduce to 1.5 inches, resulting in a more precise estimation of the true average height of all students in the school."
   ]
  },
  {
   "cell_type": "markdown",
   "id": "31ca05c4-ed1c-4ce8-a791-a754eb716268",
   "metadata": {},
   "source": [
    "Q9. Calculate the z-score for a data point with a value of 75, a population mean of 70, and a population\n",
    "standard deviation of 5. Interpret the results."
   ]
  },
  {
   "cell_type": "code",
   "execution_count": null,
   "id": "4f43200b-1bbb-4c6d-8a9f-1013718746ca",
   "metadata": {},
   "outputs": [],
   "source": [
    "The formula to calculate the z-score, which measures how many standard deviations a data point is from the mean in a normal distribution, is:\n",
    "\n",
    "\\[ \\text{Z-score} = \\frac{\\text{data point} - \\text{mean}}{\\text{standard deviation}} \\]\n",
    "\n",
    "Given:\n",
    "- Data point = 75\n",
    "- Population mean = 70\n",
    "- Population standard deviation = 5\n",
    "\n",
    "Using the formula:\n",
    "\n",
    "\\[ \\text{Z-score} = \\frac{75 - 70}{5} = \\frac{5}{5} = 1 \\]\n",
    "\n",
    "Interpretation:\n",
    "A z-score of 1 indicates that the data point of 75 is exactly 1 standard deviation above the population mean of 70 in the distribution. In other words, the value of 75 falls one standard deviation above the mean in the context of the population's distribution."
   ]
  },
  {
   "cell_type": "markdown",
   "id": "3d389324-25f6-42c7-ae47-524426a48b53",
   "metadata": {},
   "source": [
    "Q10. In a study of the effectiveness of a new weight loss drug, a sample of 50 participants lost an average\n",
    "of 6 pounds with a standard deviation of 2.5 pounds. Conduct a hypothesis test to determine if the drug is\n",
    "significantly effective at a 95% confidence level using a t-test."
   ]
  },
  {
   "cell_type": "code",
   "execution_count": null,
   "id": "d92a5800-be57-4bf2-bcf5-47217a7addcd",
   "metadata": {},
   "outputs": [],
   "source": [
    "To conduct a hypothesis test for the effectiveness of the weight loss drug using a t-test, we'll assess whether the sample mean weight loss is significantly different from zero (indicating no effect) at a 95% confidence level.\n",
    "\n",
    "Given:\n",
    "- Sample size (\\( n \\)) = 50\n",
    "- Sample mean (\\( \\bar{x} \\)) = 6 pounds\n",
    "- Sample standard deviation (\\( s \\)) = 2.5 pounds\n",
    "\n",
    "The null hypothesis (\\( H_0 \\)) is that the drug has no effect, which can be expressed as \\( H_0: \\mu = 0 \\).\n",
    "The alternative hypothesis (\\( H_1 \\)) is that the drug is effective, which is two-tailed and can be expressed as \\( H_1: \\mu \\neq 0 \\).\n",
    "\n",
    "The formula for the t-statistic for testing the population mean when the population standard deviation is unknown is:\n",
    "\n",
    "\\[ t = \\frac{\\bar{x} - \\mu_0}{\\frac{s}{\\sqrt{n}}} \\]\n",
    "\n",
    "Where:\n",
    "- \\( \\bar{x} \\) is the sample mean\n",
    "- \\( \\mu_0 \\) is the hypothesized population mean under the null hypothesis (0 in this case)\n",
    "- \\( s \\) is the sample standard deviation\n",
    "- \\( n \\) is the sample size\n",
    "\n",
    "Substitute the values into the formula:\n",
    "\n",
    "\\[ t = \\frac{6 - 0}{\\frac{2.5}{\\sqrt{50}}} = \\frac{6}{\\frac{2.5}{\\sqrt{50}}} \\approx \\frac{6}{0.3536} \\approx 16.98 \\]\n",
    "\n",
    "At a 95% confidence level for a two-tailed test with 49 degrees of freedom (sample size - 1), the critical t-value is approximately ±2.009.\n",
    "\n",
    "As the calculated t-statistic (16.98) is far larger than the critical t-value (±2.009), we reject the null hypothesis. This suggests strong evidence that the weight loss drug has a significant effect on weight reduction at a 95% confidence level based on the sample data."
   ]
  },
  {
   "cell_type": "markdown",
   "id": "cd8fe8df-6f2b-4bff-b93e-84220a5994d9",
   "metadata": {},
   "source": [
    "Q11. In a survey of 500 people, 65% reported being satisfied with their current job. Calculate the 95%\n",
    "confidence interval for the true proportion of people who are satisfied with their job."
   ]
  },
  {
   "cell_type": "code",
   "execution_count": null,
   "id": "db598228-2a30-40f4-96b4-84dccb3683b0",
   "metadata": {},
   "outputs": [],
   "source": [
    "To calculate the confidence interval for a proportion, we can use the formula for the confidence interval of a population proportion:\n",
    "\n",
    "\\[ \\text{Confidence Interval} = \\hat{p} \\pm Z \\times \\sqrt{\\frac{\\hat{p}(1-\\hat{p})}{n}} \\]\n",
    "\n",
    "Where:\n",
    "- \\( \\hat{p} \\) is the sample proportion\n",
    "- \\( Z \\) for a 95% confidence interval is approximately 1.96 (corresponding to the standard normal distribution for a 95% confidence level)\n",
    "- \\( n \\) is the sample size\n",
    "\n",
    "Given:\n",
    "- Sample proportion (\\( \\hat{p} \\)) = 0.65\n",
    "- Sample size (\\( n \\)) = 500\n",
    "\n",
    "Substitute the values into the formula:\n",
    "\n",
    "\\[ \\text{Confidence Interval} = 0.65 \\pm 1.96 \\times \\sqrt{\\frac{0.65 \\times (1-0.65)}{500}} \\]\n",
    "\n",
    "\\[ \\text{Confidence Interval} = 0.65 \\pm 1.96 \\times \\sqrt{\\frac{0.65 \\times 0.35}{500}} \\]\n",
    "\n",
    "\\[ \\text{Confidence Interval} = 0.65 \\pm 1.96 \\times \\sqrt{\\frac{0.2275}{500}} \\]\n",
    "\n",
    "\\[ \\text{Confidence Interval} = 0.65 \\pm 1.96 \\times \\sqrt{0.000455} \\]\n",
    "\n",
    "\\[ \\text{Confidence Interval} = 0.65 \\pm 1.96 \\times 0.02134 \\]\n",
    "\n",
    "\\[ \\text{Confidence Interval} = 0.65 \\pm 0.04185 \\]\n",
    "\n",
    "The 95% confidence interval for the true proportion of people satisfied with their job is approximately \\( (0.608, 0.692) \\). This means that we can be 95% confident that the true proportion of people satisfied with their job falls within this range based on the survey data."
   ]
  },
  {
   "cell_type": "markdown",
   "id": "84a123fc-559f-4e19-a034-68cbb6db5df1",
   "metadata": {},
   "source": [
    "Q12. A researcher is testing the effectiveness of two different teaching methods on student performance.\n",
    "Sample A has a mean score of 85 with a standard deviation of 6, while sample B has a mean score of 82\n",
    "with a standard deviation of 5. Conduct a hypothesis test to determine if the two teaching methods have a\n",
    "significant difference in student performance using a t-test with a significance level of 0.01."
   ]
  },
  {
   "cell_type": "code",
   "execution_count": null,
   "id": "bfd58d81-a89f-4a1a-a8bd-074d635773e6",
   "metadata": {},
   "outputs": [],
   "source": [
    "To test if there's a significant difference in student performance between the two teaching methods, we'll conduct an independent samples t-test. Given the two samples (Sample A and Sample B), we'll compare their means.\n",
    "\n",
    "The hypotheses for the t-test are:\n",
    "- Null Hypothesis (\\(H_0\\)): The means of the two samples are equal. (\\(\\mu_1 = \\mu_2\\))\n",
    "- Alternative Hypothesis (\\(H_1\\)): The means of the two samples are different. (\\(\\mu_1 \\neq \\mu_2\\))\n",
    "\n",
    "Given:\n",
    "- Sample A: Mean (\\(\\bar{x}_1\\)) = 85, Standard Deviation (\\(s_1\\)) = 6\n",
    "- Sample B: Mean (\\(\\bar{x}_2\\)) = 82, Standard Deviation (\\(s_2\\)) = 5\n",
    "- Significance level = 0.01\n",
    "\n",
    "We'll use a two-sample independent t-test assuming unequal variances (Welch's t-test) due to different standard deviations.\n",
    "\n",
    "The formula for the t-statistic for independent samples t-test is:\n",
    "\n",
    "\\[ t = \\frac{\\bar{x}_1 - \\bar{x}_2}{\\sqrt{\\frac{s_1^2}{n_1} + \\frac{s_2^2}{n_2}}} \\]\n",
    "\n",
    "Where:\n",
    "- \\(\\bar{x}_1\\) and \\(\\bar{x}_2\\) are the sample means\n",
    "- \\(s_1\\) and \\(s_2\\) are the sample standard deviations\n",
    "- \\(n_1\\) and \\(n_2\\) are the sample sizes\n",
    "\n",
    "Substitute the given values into the formula:\n",
    "\n",
    "\\[ t = \\frac{85 - 82}{\\sqrt{\\frac{6^2}{n_1} + \\frac{5^2}{n_2}}} \\]\n",
    "\n",
    "Since the sample sizes are not provided, the degrees of freedom will be calculated based on the size of each sample. However, without the exact sample sizes, we cannot compute the t-statistic or determine the critical t-value for the significance level of 0.01.\n",
    "\n",
    "Once the sample sizes are known, plug the values into the formula and compare the calculated t-statistic to the critical t-value at the given significance level. If the calculated t-statistic exceeds the critical t-value, we reject the null hypothesis and conclude that there is a significant difference in the performance of the two teaching methods."
   ]
  },
  {
   "cell_type": "markdown",
   "id": "2e078096-00f6-42f5-8f1e-9159d1bb6b98",
   "metadata": {},
   "source": [
    "Q13. A population has a mean of 60 and a standard deviation of 8. A sample of 50 observations has a mean\n",
    "of 65. Calculate the 90% confidence interval for the true population mean."
   ]
  },
  {
   "cell_type": "code",
   "execution_count": null,
   "id": "3745cd95-fe79-412e-9795-fcf033a7029a",
   "metadata": {},
   "outputs": [],
   "source": [
    "To calculate the confidence interval for the population mean when the population standard deviation is known, we'll use the formula:\n",
    "\n",
    "\\[ \\text{Confidence Interval} = \\bar{x} \\pm Z \\times \\frac{\\sigma}{\\sqrt{n}} \\]\n",
    "\n",
    "Where:\n",
    "- \\(\\bar{x}\\) is the sample mean\n",
    "- \\(Z\\) for a 90% confidence interval is approximately 1.645 (corresponding to the standard normal distribution for a 90% confidence level)\n",
    "- \\(\\sigma\\) is the population standard deviation\n",
    "- \\(n\\) is the sample size\n",
    "\n",
    "Given:\n",
    "- Population mean (\\(\\mu\\)) = 60\n",
    "- Population standard deviation (\\(\\sigma\\)) = 8\n",
    "- Sample size (\\(n\\)) = 50\n",
    "- Sample mean (\\(\\bar{x}\\)) = 65\n",
    "\n",
    "Substitute the values into the formula:\n",
    "\n",
    "\\[ \\text{Confidence Interval} = 65 \\pm 1.645 \\times \\frac{8}{\\sqrt{50}} \\]\n",
    "\n",
    "\\[ \\text{Confidence Interval} = 65 \\pm 1.645 \\times \\frac{8}{\\sqrt{50}} \\]\n",
    "\n",
    "\\[ \\text{Confidence Interval} = 65 \\pm 1.645 \\times \\frac{8}{7.071} \\]\n",
    "\n",
    "\\[ \\text{Confidence Interval} = 65 \\pm 1.645 \\times 1.133 \\]\n",
    "\n",
    "\\[ \\text{Confidence Interval} = 65 \\pm 1.863 \\]\n",
    "\n",
    "The 90% confidence interval for the true population mean is approximately \\( (63.137, 66.863) \\). This means that we are 90% confident that the true population mean falls within this range based on the sample data collected."
   ]
  },
  {
   "cell_type": "markdown",
   "id": "92af41e8-373f-4e0e-9755-3ee6b3c6b665",
   "metadata": {},
   "source": [
    "Q14. In a study of the effects of caffeine on reaction time, a sample of 30 participants had an average\n",
    "reaction time of 0.25 seconds with a standard deviation of 0.05 seconds. Conduct a hypothesis test to\n",
    "determine if the caffeine has a significant effect on reaction time at a 90% confidence level using a t-test."
   ]
  },
  {
   "cell_type": "code",
   "execution_count": null,
   "id": "06f7a731-cef4-4086-99b5-4dae53ddb135",
   "metadata": {},
   "outputs": [],
   "source": [
    "To conduct a hypothesis test to determine if caffeine has a significant effect on reaction time, we'll perform a one-sample t-test with the given sample data.\n",
    "\n",
    "Given:\n",
    "- Sample size (\\(n\\)) = 30\n",
    "- Sample mean (\\(\\bar{x}\\)) = 0.25 seconds\n",
    "- Sample standard deviation (\\(s\\)) = 0.05 seconds\n",
    "- Confidence level = 90%\n",
    "\n",
    "The hypotheses for the one-sample t-test are:\n",
    "- Null Hypothesis (\\(H_0\\)): Caffeine has no significant effect on reaction time (\\(\\mu = \\mu_0\\))\n",
    "- Alternative Hypothesis (\\(H_1\\)): Caffeine has a significant effect on reaction time (\\(\\mu \\neq \\mu_0\\))\n",
    "\n",
    "Where \\(\\mu_0\\) is the hypothesized population mean.\n",
    "\n",
    "The formula for the t-statistic for testing the population mean when the population standard deviation is unknown is:\n",
    "\n",
    "\\[ t = \\frac{\\bar{x} - \\mu_0}{\\frac{s}{\\sqrt{n}}} \\]\n",
    "\n",
    "Where:\n",
    "- \\(\\bar{x}\\) is the sample mean\n",
    "- \\(\\mu_0\\) is the hypothesized population mean under the null hypothesis\n",
    "- \\(s\\) is the sample standard deviation\n",
    "- \\(n\\) is the sample size\n",
    "\n",
    "Substitute the given values into the formula:\n",
    "\n",
    "\\[ t = \\frac{0.25 - \\mu_0}{\\frac{0.05}{\\sqrt{30}}} \\]\n",
    "\n",
    "Since the population mean (\\(\\mu_0\\)) is not explicitly given, we can't calculate the exact t-statistic without it. The t-statistic will be compared to the critical t-value for a two-tailed test at a 90% confidence level with 29 degrees of freedom.\n",
    "\n",
    "Once \\(\\mu_0\\) is provided or assumed, we can calculate the t-statistic and compare it to the critical t-value to determine if there's a significant effect of caffeine on reaction time at a 90% confidence level. If the calculated t-statistic exceeds the critical t-value, we reject the null hypothesis, indicating a significant effect of caffeine on reaction time."
   ]
  }
 ],
 "metadata": {
  "kernelspec": {
   "display_name": "Python 3 (ipykernel)",
   "language": "python",
   "name": "python3"
  },
  "language_info": {
   "codemirror_mode": {
    "name": "ipython",
    "version": 3
   },
   "file_extension": ".py",
   "mimetype": "text/x-python",
   "name": "python",
   "nbconvert_exporter": "python",
   "pygments_lexer": "ipython3",
   "version": "3.10.8"
  }
 },
 "nbformat": 4,
 "nbformat_minor": 5
}
