{
 "cells": [
  {
   "cell_type": "markdown",
   "id": "63b5958a-2ae1-4366-83b2-17926896ea4f",
   "metadata": {},
   "source": [
    "Q1. Explain why we have to use the Exception class while creating a custom Exception.\n",
    "Note: Here Exception Class refers to the base class for all the exceptions."
   ]
  },
  {
   "cell_type": "code",
   "execution_count": null,
   "id": "3e3023c8-949b-4232-86c3-13aaa871dfd9",
   "metadata": {},
   "outputs": [],
   "source": [
    "When creating custom exceptions in programming languages like Python, it is essential to inherit from the built-in Exception class (or its subclass) to ensure that your custom exception behaves consistently with the language's exception hierarchy and error-handling mechanisms. The Exception class is the base class for all built-in exceptions in Python, and it provides certain functionalities that are crucial for a proper exception handling system:\n",
    "\n",
    "1. Consistent Behavior: By inheriting from Exception, your custom exception will be treated as part of the standard exception hierarchy. It allows other developers (including yourself) to understand that your custom exception is meant to be used for error handling in a way similar to built-in exceptions.\n",
    "\n",
    "2. Catching Specific Exceptions: When you raise a custom exception derived from Exception, you can catch it using a try-except block with your custom exception's type. This allows you to handle specific types of errors separately and take appropriate actions based on the error.\n",
    "\n",
    "python\n",
    "\n",
    "try:\n",
    "    # Some code that may raise your custom exception\n",
    "except YourCustomException as e:\n",
    "    # Handle YourCustomException\n",
    "except SomeOtherException as e:\n",
    "    # Handle SomeOtherException\n",
    "3. Polymorphism: Inheriting from Exception ensures that your custom exception can be used interchangeably with any other exception in the exception hierarchy. This is important when writing generic error-handling code that handles multiple types of exceptions.\n",
    "\n",
    "4. Built-in Methods: The Exception class comes with several useful methods like __str__ and __repr__, which allow you to define the string representation of your exception and customize how it appears when printed or logged.\n",
    "\n",
    "5. Hierarchy and Organized Error Handling: By leveraging the exception hierarchy, you can design your custom exceptions to be more specific and granular, making it easier to handle different types of errors in a more organized manner.\n",
    "\n",
    "6. Code Clarity and Readability: Utilizing the built-in Exception class and its subclasses follows common programming conventions and best practices. It makes your code more understandable for other developers and helps maintain consistency across different projects.\n",
    "\n",
    "In summary, using the Exception class as the base for your custom exception ensures that your exceptions integrate seamlessly with the language's error-handling mechanisms and promotes code clarity, maintainability, and ease of use.\n"
   ]
  },
  {
   "cell_type": "markdown",
   "id": "63df8e62-c6bc-41d5-8607-d3420d3a400f",
   "metadata": {},
   "source": [
    "Q2. Write a python program to print python Exception Hierarcy."
   ]
  },
  {
   "cell_type": "code",
   "execution_count": null,
   "id": "3b420db4-1f90-4880-848d-3ecac3c76336",
   "metadata": {},
   "outputs": [],
   "source": [
    "To print the Python exception hierarchy, you can use the help() function with the Exception class as an argument. This will display the entire hierarchy of exceptions in Python. Here's a Python program to achieve that:\n",
    "\n",
    "python\n",
    "\n",
    "def print_exception_hierarchy():\n",
    "    try:\n",
    "        # Raise a dummy exception to get access to the exception hierarchy\n",
    "        raise Exception(\"Dummy exception\")\n",
    "    except Exception as e:\n",
    "        # Print the exception hierarchy\n",
    "        help(type(e))\n",
    "\n",
    "\n",
    "if __name__ == \"__main__\":\n",
    "    print_exception_hierarchy()\n",
    "When you run this program, it will print the entire Python exception hierarchy, starting from the base class BaseException to the more specific built-in exception classes like ArithmeticError, LookupError, IOError, ValueError, and so on. The output will be quite extensive, so you might want to redirect it to a file or scroll through the terminal to explore the hierarchy.\n"
   ]
  },
  {
   "cell_type": "markdown",
   "id": "f675269f-f014-441a-b69f-2412c0a782b1",
   "metadata": {},
   "source": [
    "Q3. What errors are defined in the ArithmaticError class? Explain any two with an example."
   ]
  },
  {
   "cell_type": "code",
   "execution_count": null,
   "id": "b6d4886b-65fc-48eb-b3fb-b3c0ae3ee7d4",
   "metadata": {},
   "outputs": [],
   "source": [
    "The ArithmeticError class is a base class for arithmetic-related exceptions in Python. It represents errors that occur during arithmetic operations, such as division by zero or numeric overflow. Some of the common errors defined in the ArithmeticError class include:\n",
    "\n",
    "1.ZeroDivisionError: This exception is raised when an attempt is made to divide a number by zero.\n",
    "\n",
    "Example:\n",
    "\n",
    "python\n",
    "\n",
    "def divide_numbers(a, b):\n",
    "    try:\n",
    "        result = a / b\n",
    "        return result\n",
    "    except ZeroDivisionError as e:\n",
    "        return \"Error: Division by zero is not allowed.\"\n",
    "\n",
    "\n",
    "print(divide_numbers(10, 2))    # Output: 5.0\n",
    "print(divide_numbers(8, 0))     # Output: Error: Division by zero is not allowed.\n",
    "\n",
    "2. OverflowError: This exception is raised when an arithmetic operation results in a value that exceeds the maximum representable value for a numeric type.\n",
    "\n",
    "Example:\n",
    "\n",
    "python\n",
    "\n",
    "def multiply_numbers(a, b):\n",
    "    try:\n",
    "        result = a * b\n",
    "        return result\n",
    "    except OverflowError as e:\n",
    "        return \"Error: Numeric overflow occurred.\"\n",
    "\n",
    "\n",
    "print(multiply_numbers(1000, 1000))    # Output: 1000000\n",
    "print(multiply_numbers(10**100, 10**100))    # Output: Error: Numeric overflow occurred.\n",
    "In the first example, the divide_numbers function divides two numbers a and b. If b is zero, a ZeroDivisionError is raised, and the function catches the exception to handle it gracefully and return an appropriate error message.\n",
    "\n",
    "In the second example, the multiply_numbers function multiplies two numbers a and b. If the result exceeds the maximum representable value for the numeric type (in this case, the default Python int type), an OverflowError is raised, and the function catches the exception to provide an error message.\n",
    "\n",
    "These examples demonstrate how specific arithmetic-related exceptions like ZeroDivisionError and OverflowError can be handled separately to improve the robustness of your code and provide meaningful error messages to users when dealing with arithmetic operations."
   ]
  },
  {
   "cell_type": "markdown",
   "id": "4699abd3-f121-4781-a72d-a8eca3729dff",
   "metadata": {},
   "source": [
    "Q4. Why LookupError class is used? Explain with an Example KeyError and IndexError. "
   ]
  },
  {
   "cell_type": "code",
   "execution_count": null,
   "id": "055bb4c6-5426-47f4-84f1-86820e4c8c6e",
   "metadata": {},
   "outputs": [],
   "source": [
    "The LookupError class in Python is used as a base class for exceptions that occur when an attempt to access a key or index in a collection (like a dictionary or a list) fails because the key or index does not exist. It is a subclass of the Exception class and provides a common ancestor for specific lookup-related exceptions, such as KeyError and IndexError.\n",
    "\n",
    "1. KeyError:\n",
    "KeyError is a specific exception that is derived from LookupError. It is raised when a dictionary key is not found during a lookup operation.\n",
    "\n",
    "Example:\n",
    "\n",
    "python\n",
    "\n",
    "my_dict = {'a': 1, 'b': 2, 'c': 3}\n",
    "\n",
    "try:\n",
    "    value = my_dict['d']  # 'd' key does not exist in the dictionary\n",
    "    print(\"Value:\", value)\n",
    "except KeyError as e:\n",
    "    print(\"Error: The key 'd' does not exist in the dictionary.\")\n",
    "In this example, we attempt to access the key 'd' in the my_dict dictionary, but it does not exist in the dictionary. As a result, a KeyError is raised. The program catches the exception and prints a custom error message indicating that the key 'd' does not exist in the dictionary.\n",
    "\n",
    "2. IndexError:\n",
    "IndexError is another specific exception derived from LookupError. It is raised when attempting to access an index in a sequence (like a list or a tuple) that is out of range or does not exist.\n",
    "\n",
    "Example:\n",
    "\n",
    "python\n",
    "\n",
    "my_list = [10, 20, 30]\n",
    "\n",
    "try:\n",
    "    value = my_list[3]  # Index 3 is out of range (valid indices are 0, 1, and 2)\n",
    "    print(\"Value:\", value)\n",
    "except IndexError as e:\n",
    "    print(\"Error: Index 3 is out of range.\")\n",
    "In this example, we try to access the element at index 3 in the my_list list. However, the list only has elements at indices 0, 1, and 2, so accessing index 3 leads to an IndexError. The program catches the exception and prints a custom error message indicating that index 3 is out of range.\n",
    "\n",
    "In summary, LookupError is used as a base class for exceptions related to lookup operations, such as KeyError (for dictionaries) and IndexError (for sequences). These exceptions help you handle cases where you are trying to access keys or indices that do not exist, allowing you to gracefully handle such situations in your code.\n"
   ]
  },
  {
   "cell_type": "markdown",
   "id": "332daef2-a3d2-4b6f-a8a9-a169d88516fa",
   "metadata": {},
   "source": [
    "Q5. Explain ImportError. What is ModuleNotFoundError?"
   ]
  },
  {
   "cell_type": "code",
   "execution_count": null,
   "id": "1bb0b9f3-8441-4745-9a8d-5c8460fbbf5b",
   "metadata": {},
   "outputs": [],
   "source": [
    "ImportError and ModuleNotFoundError are both exceptions related to importing modules in Python. Let's explain each of them:\n",
    "\n",
    "1. ImportError:\n",
    "ImportError is a built-in exception that is raised when there is an issue with importing a module or a package. It is a superclass of several more specific import-related exceptions. Common situations that can trigger an ImportError include:\n",
    "\n",
    "The module or package is not found in the system or is not accessible from the current environment.\n",
    "There is a circular import, where two or more modules depend on each other, creating a deadlock during the import process.\n",
    "There is an error in the module itself (e.g., syntax error) that prevents successful import.\n",
    "Example:\n",
    "\n",
    "python\n",
    "\n",
    "try:\n",
    "    import non_existent_module\n",
    "except ImportError as e:\n",
    "    print(\"Error: The module 'non_existent_module' could not be imported.\")\n",
    "In this example, an attempt is made to import a non-existent module, which results in an ImportError. The program catches the exception and prints a custom error message.\n",
    "\n",
    "2. ModuleNotFoundError:\n",
    "ModuleNotFoundError is a subclass of ImportError introduced in Python 3.6. It is raised when a specific module or package cannot be found during the import process. It is more specific than the generic ImportError and provides clearer information about the nature of the error.\n",
    "\n",
    "Example:\n",
    "\n",
    "python\n",
    "\n",
    "try:\n",
    "    import non_existent_module\n",
    "except ModuleNotFoundError as e:\n",
    "    print(\"Error: The module 'non_existent_module' could not be found.\")\n",
    "In this example, the same scenario as the previous one leads to a ModuleNotFoundError, which is a more specialized exception for situations when a module is not found during import.\n",
    "\n",
    "In summary, ImportError is a broader category of exceptions related to importing modules, while ModuleNotFoundError is a specific type of ImportError that is raised when a particular module or package is not found during import. Both exceptions are useful for handling and providing informative feedback when issues occur during the import process in Python.\n",
    "\n",
    "\n",
    "\n",
    "\n"
   ]
  },
  {
   "cell_type": "markdown",
   "id": "22f2b324-3c05-45fa-9b1f-fdfcbeee324b",
   "metadata": {},
   "source": [
    "Q6. List down some best practices for exception handling in python."
   ]
  },
  {
   "cell_type": "code",
   "execution_count": null,
   "id": "b10eb7cf-ea0a-4f66-a470-f3286dd3b5df",
   "metadata": {},
   "outputs": [],
   "source": [
    "Exception handling is an essential aspect of writing robust and maintainable Python code. Here are some best practices for exception handling in Python:\n",
    "\n",
    "1. Be Specific with Exception Handling: Catch only the exceptions you expect and handle them appropriately. Avoid using a broad except block to catch all exceptions, as it may hide unexpected errors and make debugging difficult.\n",
    "\n",
    "2. Use Multiple Except Blocks: Use separate except blocks for different types of exceptions you want to handle differently. This allows you to provide specific error messages or actions for each type of exception.\n",
    "\n",
    "3. Avoid Bare except: Avoid using a bare except without specifying the exception type, as it can catch and hide unexpected errors. Always prefer specifying the specific exception(s) you want to catch.\n",
    "\n",
    "4. Use finally for Cleanup: Use the finally block to perform cleanup operations that need to run regardless of whether an exception occurred or not, such as closing files or releasing resources.\n",
    "\n",
    "5. Avoid Catching KeyboardInterrupt: Avoid catching KeyboardInterrupt (generated by pressing Ctrl+C) unless you have a good reason to do so. Letting KeyboardInterrupt propagate will allow users to interrupt long-running processes gracefully.\n",
    "\n",
    "6. Log Exceptions: Consider logging exceptions along with relevant information like stack trace, variables' values, etc. This helps in debugging and understanding the root cause of issues.\n",
    "\n",
    "7. Don't Suppress Exceptions: Avoid catching exceptions without handling or raising them again, as this can lead to silent errors and make it hard to diagnose problems.\n",
    "\n",
    "8. Keep try Blocks Minimal: Keep the try blocks as small as possible to only include the code that can raise the expected exceptions. This makes it easier to identify the source of the exceptions.\n",
    "\n",
    "9. Use Custom Exceptions: Create custom exception classes for specific error conditions in your application. This can make your code more readable and provide more context about the error.\n",
    "\n",
    "10. Reraise Exceptions with Context: When catching exceptions, consider adding context information before re-raising them. This can be achieved with raise ... from ... to chain exceptions, preserving the original traceback.\n",
    "\n",
    "11. Use Context Managers (with Statements): Use context managers (via the with statement) for resource management, like file handling, to ensure that resources are properly closed or released even if exceptions occur.\n",
    "\n",
    "12. Consider Graceful Degradation: Handle exceptions gracefully when interacting with external services or resources. Provide meaningful feedback to users and handle transient failures gracefully.\n",
    "\n",
    "13. Test Exception Handling: Include unit tests that specifically test your exception handling scenarios to ensure your code handles exceptions as expected.\n",
    "\n",
    "By following these best practices, you can improve the reliability and maintainability of your Python code and make it easier to understand and troubleshoot errors."
   ]
  }
 ],
 "metadata": {
  "kernelspec": {
   "display_name": "Python 3 (ipykernel)",
   "language": "python",
   "name": "python3"
  },
  "language_info": {
   "codemirror_mode": {
    "name": "ipython",
    "version": 3
   },
   "file_extension": ".py",
   "mimetype": "text/x-python",
   "name": "python",
   "nbconvert_exporter": "python",
   "pygments_lexer": "ipython3",
   "version": "3.10.8"
  }
 },
 "nbformat": 4,
 "nbformat_minor": 5
}
