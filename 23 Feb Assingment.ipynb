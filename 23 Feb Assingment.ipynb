{
 "cells": [
  {
   "cell_type": "markdown",
   "id": "42818553-36c9-46ae-a47b-4cbe1dc66414",
   "metadata": {},
   "source": [
    "Q1. Create a Pandas Series that contains the following data: 4, 8, 15, 16, 23, and 42. Then, print the series."
   ]
  },
  {
   "cell_type": "code",
   "execution_count": 1,
   "id": "c27cff3e-9f55-4947-87c6-0a810d313d74",
   "metadata": {},
   "outputs": [
    {
     "name": "stdout",
     "output_type": "stream",
     "text": [
      "0     4\n",
      "1     8\n",
      "2    15\n",
      "3    16\n",
      "4    23\n",
      "5    42\n",
      "dtype: int64\n"
     ]
    }
   ],
   "source": [
    "import pandas as pd\n",
    "\n",
    "data = [4, 8, 15, 16, 23, 42]\n",
    "series = pd.Series(data)\n",
    "print(series)"
   ]
  },
  {
   "cell_type": "markdown",
   "id": "8695d2f3-0ae7-4f1e-a148-bb23dc8c03b7",
   "metadata": {},
   "source": [
    "Q2. Create a variable of list type containing 10 elements in it, and apply pandas.Series function on the\n",
    "variable print it."
   ]
  },
  {
   "cell_type": "code",
   "execution_count": 2,
   "id": "a609e652-2a84-49fc-a412-49bc38a80bda",
   "metadata": {},
   "outputs": [
    {
     "name": "stdout",
     "output_type": "stream",
     "text": [
      "0     10\n",
      "1     20\n",
      "2     30\n",
      "3     40\n",
      "4     50\n",
      "5     60\n",
      "6     70\n",
      "7     80\n",
      "8     90\n",
      "9    100\n",
      "dtype: int64\n"
     ]
    }
   ],
   "source": [
    "import pandas as pd\n",
    "\n",
    "my_list = [10, 20, 30, 40, 50, 60, 70, 80, 90, 100]\n",
    "series = pd.Series(my_list)\n",
    "print(series)"
   ]
  },
  {
   "cell_type": "markdown",
   "id": "eee84a36-16eb-40ec-ba5f-40f7451f0ecf",
   "metadata": {},
   "source": [
    "Q3. Create a Pandas DataFrame that contains the following data:\n",
    "     Name    Age    Gender\n",
    "     Alice   25     Female\n",
    "     Bob     30     Male\n",
    "     Claire  27     Female"
   ]
  },
  {
   "cell_type": "code",
   "execution_count": 3,
   "id": "f8c03417-1f23-4bae-abbf-216a0280bb09",
   "metadata": {},
   "outputs": [
    {
     "name": "stdout",
     "output_type": "stream",
     "text": [
      "     Name  Age  Gender\n",
      "0   Alice   25  Female\n",
      "1     Bob   30    Male\n",
      "2  Claire   27  Female\n"
     ]
    }
   ],
   "source": [
    "import pandas as pd\n",
    "\n",
    "data = {\n",
    "    'Name': ['Alice', 'Bob', 'Claire'],\n",
    "    'Age': [25, 30, 27],\n",
    "    'Gender': ['Female', 'Male', 'Female']\n",
    "}\n",
    "\n",
    "df = pd.DataFrame(data)\n",
    "print(df)"
   ]
  },
  {
   "cell_type": "markdown",
   "id": "0ec87dca-26cf-4aec-95f3-32d590dbe8d0",
   "metadata": {},
   "source": [
    "Q4. What is ‘DataFrame’ in pandas and how is it different from pandas.series? Explain with an example."
   ]
  },
  {
   "cell_type": "code",
   "execution_count": null,
   "id": "e6d1aa70-f8f7-4bb2-9321-3742ab8b7e13",
   "metadata": {},
   "outputs": [],
   "source": [
    "In Pandas, a DataFrame is a two-dimensional, size-mutable, and heterogeneous tabular data structure with labeled axes (rows and columns). It is one of the core data structures provided by Pandas and is designed to hold and manipulate structured data.\n",
    "\n",
    "Here are the key characteristics of a Pandas DataFrame:\n",
    "\n",
    "1. Tabular Structure: A DataFrame represents data in a tabular form, where data is organized into rows and columns, similar to a spreadsheet or a SQL table.\n",
    "\n",
    "2. Heterogeneous Data: Each column in a DataFrame can hold data of different data types (e.g., integers, floats, strings). This allows you to work with mixed data types within the same DataFrame.\n",
    "\n",
    "3. Labeled Axes: Both rows and columns in a DataFrame have labels or index values, making it easy to access and manipulate specific data points.\n",
    "\n",
    "4. Size Mutable: You can add, remove, or modify rows and columns in a DataFrame.\n",
    "\n",
    "Now, let's compare a DataFrame with a Pandas Series using an example:\n",
    "\n",
    "python\n",
    "\n",
    "import pandas as pd\n",
    "\n",
    "# Creating a Pandas Series\n",
    "ser = pd.Series([10, 20, 30, 40, 50], name='Numbers')\n",
    "\n",
    "# Creating a Pandas DataFrame\n",
    "data = {\n",
    "    'Name': ['Alice', 'Bob', 'Claire'],\n",
    "    'Age': [25, 30, 27],\n",
    "    'Gender': ['Female', 'Male', 'Female']\n",
    "}\n",
    "df = pd.DataFrame(data)\n",
    "\n",
    "print(\"Pandas Series:\")\n",
    "print(ser)\n",
    "print(\"\\nPandas DataFrame:\")\n",
    "print(df)\n",
    "\n",
    "In this example:\n",
    "\n",
    "The ser variable represents a Pandas Series. It's a one-dimensional labeled array, and in this case, it contains a list of numbers.\n",
    "\n",
    "The df variable represents a Pandas DataFrame. It's a two-dimensional structure with labeled columns ('Name', 'Age', 'Gender') and rows (0, 1, 2). It holds more structured data, including not just numbers but also strings (names and genders), making it suitable for tabular data like a dataset of people's information.\n",
    "\n",
    "In summary, the key difference between a Pandas Series and a DataFrame is that a Series is one-dimensional and typically used for a single column of data, whereas a DataFrame is two-dimensional, tabular, and designed to handle multiple columns of data, making it suitable for working with structured datasets like spreadsheets or database tables"
   ]
  },
  {
   "cell_type": "markdown",
   "id": "520db840-87cd-492f-90c6-a9c151e66cfb",
   "metadata": {},
   "source": [
    "Q5. What are some common functions you can use to manipulate data in a Pandas DataFrame? Can\n",
    "you give an example of when you might use one of these functions?"
   ]
  },
  {
   "cell_type": "code",
   "execution_count": null,
   "id": "164ce1b1-581e-4975-8809-faf48585cf9a",
   "metadata": {},
   "outputs": [],
   "source": [
    "Pandas provides a wide range of functions and methods for manipulating data in a DataFrame. Here are some common functions and methods you can use to manipulate data in a Pandas DataFrame along with examples of when you might use them:\n",
    "\n",
    "1.Selecting Data:\n",
    "df[column]: Select a single column.\n",
    "df[[col1, col2]]: Select multiple columns.\n",
    "df.loc[row_label]: Select rows by label.\n",
    "df.iloc[row_index]: Select rows by integer index.\n",
    "Example: Selecting specific columns from a DataFrame.\n",
    "\n",
    "python\n",
    "\n",
    "selected_columns = df[['Name', 'Age']]\n",
    "\n",
    "2. Filtering Data:\n",
    "df[df['column'] > value]: Filter rows based on a condition.\n",
    "Example: Filtering rows where Age is greater than 25.\n",
    "\n",
    "python\n",
    "\n",
    "filtered_data = df[df['Age'] > 25]\n",
    "\n",
    "3. Sorting Data:\n",
    "df.sort_values('column'): Sort the DataFrame by a specific column.\n",
    "df.sort_values(['col1', 'col2']): Sort by multiple columns.\n",
    "Example: Sorting a DataFrame by Age in ascending order.\n",
    "\n",
    "python\n",
    "\n",
    "sorted_data = df.sort_values('Age')\n",
    "\n",
    "4. Grouping and Aggregating Data:\n",
    "df.groupby('column').agg({'other_column': 'function'}): Group data by a column and perform aggregation functions.\n",
    "Example: Calculate the average age for each gender.\n",
    "\n",
    "python\n",
    "\n",
    "avg_age_by_gender = df.groupby('Gender').agg({'Age': 'mean'})\n",
    "\n",
    "5. Adding and Removing Columns:\n",
    "df['new_column'] = values: Add a new column.\n",
    "df.drop('column', axis=1): Remove a column.\n",
    "Example: Adding a new column for calculating years until retirement.\n",
    "\n",
    "python\n",
    "\n",
    "df['Years_until_retirement'] = 65 - df['Age']\n",
    "\n",
    "6. Handling Missing Data:\n",
    "df.dropna(): Remove rows with missing values.\n",
    "df.fillna(value): Fill missing values with a specified value.\n",
    "Example: Removing rows with missing values.\n",
    "\n",
    "python\n",
    "\n",
    "df_cleaned = df.dropna()\n",
    "\n",
    "7. Merging and Joining DataFrames:\n",
    "pd.concat([df1, df2]): Concatenate DataFrames vertically or horizontally.\n",
    "pd.merge(df1, df2, on='key'): Merge DataFrames based on a common column.\n",
    "Example: Merging two DataFrames based on a common key column.\n",
    "\n",
    "python\n",
    "\n",
    "merged_data = pd.merge(df1, df2, on='ID')\n",
    "\n",
    "These are just a few of the many functions and methods available in Pandas for data manipulation. Depending on your specific data analysis needs, you can use these functions to clean, transform, analyze, and visualize your data effectively in a Pandas DataFrame."
   ]
  },
  {
   "cell_type": "markdown",
   "id": "30887854-6c82-42cd-8bb6-e6d23ea99b89",
   "metadata": {},
   "source": [
    "Q6. Which of the following is mutable in nature Series, DataFrame, Panel?"
   ]
  },
  {
   "cell_type": "code",
   "execution_count": null,
   "id": "4382e1c1-af68-42a4-b831-11438c9d97aa",
   "metadata": {},
   "outputs": [],
   "source": [
    "In Pandas, among the options you mentioned (Series, DataFrame, Panel), only the DataFrame is mutable in nature.\n",
    "\n",
    "A DataFrame is a two-dimensional data structure that can be modified after its creation. You can add, remove, or modify columns and rows in a DataFrame. This mutability is a key feature of DataFrames, making them suitable for various data manipulation tasks.\n",
    "\n",
    "Both Series and Panel are relatively less mutable:\n",
    "\n",
    "Series is generally considered immutable. Once you create a Series, you cannot change its values or index directly. You would typically need to create a new Series if you want to modify the data.\n",
    "\n",
    "Panel, which used to be a data structure in earlier versions of Pandas, is now deprecated in favor of using MultiIndex DataFrames. Panels were less commonly used and are no longer actively maintained.\n",
    "\n",
    "So, if you need a mutable data structure in Pandas for working with tabular data, you should use a DataFrame."
   ]
  },
  {
   "cell_type": "markdown",
   "id": "0816d969-7447-4c6c-9458-62b93fdd9fff",
   "metadata": {},
   "source": [
    "Q7. Create a DataFrame using multiple Series. Explain with an example."
   ]
  },
  {
   "cell_type": "code",
   "execution_count": null,
   "id": "c0b3d15d-e23b-48bf-9a05-762d845f6ee9",
   "metadata": {},
   "outputs": [],
   "source": [
    "You can create a Pandas DataFrame using multiple Series by combining these Series into a dictionary, where each Series becomes a column in the DataFrame. Here's an example:\n",
    "\n",
    "python\n",
    "\n",
    "import pandas as pd\n",
    "\n",
    "# Creating multiple Series\n",
    "names = pd.Series(['Alice', 'Bob', 'Claire'])\n",
    "ages = pd.Series([25, 30, 27])\n",
    "genders = pd.Series(['Female', 'Male', 'Female'])\n",
    "\n",
    "# Combining the Series into a DataFrame\n",
    "data = {\n",
    "    'Name': names,\n",
    "    'Age': ages,\n",
    "    'Gender': genders\n",
    "}\n",
    "\n",
    "df = pd.DataFrame(data)\n",
    "\n",
    "# Printing the DataFrame\n",
    "print(df)\n",
    "\n",
    "In this example:\n",
    "\n",
    "We create three Pandas Series: names, ages, and genders, each containing data for a specific column.\n",
    "\n",
    "We create a dictionary data, where the keys are the column names ('Name', 'Age', 'Gender') and the values are the corresponding Series.\n",
    "\n",
    "We use the pd.DataFrame constructor to combine the Series into a DataFrame named df. Each Series becomes a column in the DataFrame.\n",
    "\n",
    "Finally, we print the resulting DataFrame df, which will look like this:\n",
    "\n",
    "markdown\n",
    "\n",
    "     Name  Age  Gender\n",
    "0   Alice   25  Female\n",
    "1     Bob   30    Male\n",
    "2  Claire   27  Female\n",
    "\n",
    "So, you can create a DataFrame by using multiple Series, and this is a common approach when you have different sets of data that you want to combine into a single tabular structure for analysis."
   ]
  }
 ],
 "metadata": {
  "kernelspec": {
   "display_name": "Python 3 (ipykernel)",
   "language": "python",
   "name": "python3"
  },
  "language_info": {
   "codemirror_mode": {
    "name": "ipython",
    "version": 3
   },
   "file_extension": ".py",
   "mimetype": "text/x-python",
   "name": "python",
   "nbconvert_exporter": "python",
   "pygments_lexer": "ipython3",
   "version": "3.10.8"
  }
 },
 "nbformat": 4,
 "nbformat_minor": 5
}
