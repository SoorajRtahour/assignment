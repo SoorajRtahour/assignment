{
 "cells": [
  {
   "cell_type": "markdown",
   "id": "493438a8-227c-4402-8f60-eba14efc5b42",
   "metadata": {},
   "source": [
    "Consider following code to answer further questions:\n",
    "\n",
    "import pandas as pd\n",
    "course_name = [‘Data Science’, ‘Machine Learning’, ‘Big Data’, ‘Data Engineer’]\n",
    "duration = [2,3,6,4]\n",
    "df = pd.DataFrame(data = {‘course_name’ : course_name, ‘duration’ : duration})"
   ]
  },
  {
   "cell_type": "markdown",
   "id": "9331439a-dcbd-47a2-8967-d579f9900444",
   "metadata": {},
   "source": [
    "Q1. Write a code to print the data present in the second row of the dataframe, df."
   ]
  },
  {
   "cell_type": "code",
   "execution_count": null,
   "id": "dfc5a373-adb5-4374-9dc6-22ce69bb5d27",
   "metadata": {},
   "outputs": [],
   "source": [
    "You can print the data present in the second row of the DataFrame df using the .iloc method with index 1, since Python uses 0-based indexing for rows. Here's the code to do that:\n",
    "\n",
    "import pandas as pd\n",
    "course_name = [‘Data Science’, ‘Machine Learning’, ‘Big Data’, ‘Data Engineer’]\n",
    "duration = [2,3,6,4]\n",
    "df = pd.DataFrame(data = {‘course_name’ : course_name, ‘duration’ : duration})\n",
    "\n",
    "print(df.iloc[1])\n",
    "\n",
    "This will print the second row of the DataFrame, including both the 'course_name' and 'duration' columns.\n"
   ]
  },
  {
   "cell_type": "markdown",
   "id": "d2625ad1-8b05-4659-8f88-4fbf4ff87dff",
   "metadata": {},
   "source": [
    "Q2. What is the difference between the functions loc and iloc in pandas.DataFrame?"
   ]
  },
  {
   "cell_type": "code",
   "execution_count": null,
   "id": "c0caa7ab-3a33-471f-831d-b0b82c58e983",
   "metadata": {},
   "outputs": [],
   "source": [
    "In pandas, both loc and iloc are used for selecting data from a DataFrame, but they have different ways of specifying the selection:\n",
    "\n",
    "1. loc (Label-based selection):\n",
    "\n",
    "loc is primarily label-based and uses labels (i.e., row and column names) for selection.\n",
    "You specify rows and columns using their labels or boolean indexing.\n",
    "It includes the endpoint when slicing using labels, meaning the end label is included in the selection.\n",
    "\n",
    "2. iloc (Integer-based selection):\n",
    "\n",
    "iloc is primarily integer-based and uses integer positions to select data.\n",
    "You specify rows and columns using integer indices.\n",
    "It follows the Python convention of excluding the endpoint when slicing using integer positions. So, the end position is not included in the selection.\n",
    "Here's a brief example to illustrate the difference:\n",
    "\n",
    "import pandas as pd\n",
    "\n",
    "# Create a sample DataFrame\n",
    "data = {'A': [1, 2, 3, 4, 5], 'B': ['one', 'two', 'three', 'four', 'five']}\n",
    "df = pd.DataFrame(data)\n",
    "\n",
    "# Using loc to select by labels (include endpoint)\n",
    "print(df.loc[1:3, 'A'])  # Select rows 1 through 3 (inclusive) in column 'A'\n",
    "\n",
    "# Using iloc to select by integer positions (exclude endpoint)\n",
    "print(df.iloc[1:3, 0])    # Select rows 1 through 2 (excluding 3) in the first column (position 0)\n",
    "\n",
    "In the example above, df.loc[1:3, 'A'] selects rows with labels 1, 2, and 3 in column 'A', while df.iloc[1:3, 0] selects rows at integer positions 1 and 2 (excluding 3) in the first column (position 0). The key distinction is whether the endpoint is included in the selection and whether you use labels or integer positions to make the selection."
   ]
  },
  {
   "cell_type": "raw",
   "id": "864172e6-d7e5-4681-9a2e-e28f5f6ee819",
   "metadata": {},
   "source": [
    "Q3. Reindex the given dataframe using a variable, reindex = [3,0,1,2] and store it in the variable, new_df\n",
    "then find the output for both new_df.loc[2] and new_df.iloc[2].\n",
    "Did you observe any difference in both the outputs? If so then explain it."
   ]
  },
  {
   "cell_type": "code",
   "execution_count": null,
   "id": "d48454a7-e864-4652-80c5-fdf6e480221c",
   "metadata": {},
   "outputs": [],
   "source": [
    "Sure, let's reindex the DataFrame df using the provided list reindex = [3,0,1,2] and store it in the variable new_df. Then, we'll check the output for both new_df.loc[2] and new_df.iloc[2].\n",
    "\n",
    "Here's how you can do it:\n",
    "\n",
    "import pandas as pd\n",
    "\n",
    "# Original DataFrame\n",
    "course_name = ['Data Science', 'Machine Learning', 'Big Data', 'Data Engineer']\n",
    "duration = [2, 3, 6, 4]\n",
    "df = pd.DataFrame(data={'course_name': course_name, 'duration': duration})\n",
    "\n",
    "# Reindex the DataFrame using the provided list\n",
    "reindex = [3, 0, 1, 2]\n",
    "new_df = df.reindex(reindex)\n",
    "\n",
    "# Now, let's check the output for new_df.loc[2] and new_df.iloc[2]\n",
    "print(\"Output for new_df.loc[2]:\")\n",
    "print(new_df.loc[2])\n",
    "\n",
    "print(\"\\nOutput for new_df.iloc[2]:\")\n",
    "print(new_df.iloc[2])\n",
    "The output for new_df.loc[2] and new_df.iloc[2] will be:\n",
    "\n",
    "Output for new_df.loc[2]:\n",
    "\n",
    "course_name    Big Data\n",
    "duration              6\n",
    "Name: 2, dtype: object\n",
    "Output for new_df.iloc[2]:\n",
    "\n",
    "course_name    Machine Learning\n",
    "duration                     3\n",
    "Name: 1, dtype: object\n",
    "\n",
    "As you can see, there is a difference in the outputs:\n",
    "\n",
    "new_df.loc[2] uses label-based indexing and returns the row with the label/index '2', which corresponds to the row with the label '2' in the reindexed DataFrame. It returns the row for 'Big Data' with a duration of '6'.\n",
    "\n",
    "new_df.iloc[2] uses integer-based indexing and returns the row at the integer position '2', which corresponds to the row at the third position in the reindexed DataFrame. It returns the row for 'Machine Learning' with a duration of '3'.\n",
    "\n",
    "The key difference is in how they interpret the index or position, where loc uses labels, and iloc uses integer positions."
   ]
  },
  {
   "cell_type": "markdown",
   "id": "16e0b934-6c5f-4579-b17a-76b41f15ebd3",
   "metadata": {},
   "source": [
    "Consider the below code to answer further questions:\n",
    "    \n",
    "import pandas as pd\n",
    "import numpy as np\n",
    "columns = ['column_1', 'column_2', 'column_3', 'column_4', 'column_5', 'column_6']\n",
    "indices = [1,2,3,4,5,6]\n",
    "#Creating a dataframe:\n",
    "df1 = pd.DataFrame(np.random.rand(6,6), columns = columns, index = indices)"
   ]
  },
  {
   "cell_type": "markdown",
   "id": "8ec67572-8eb9-452e-b0d2-9066ebeda2c1",
   "metadata": {},
   "source": [
    "Q4. Write a code to find the following statistical measurements for the above dataframe df1:\n",
    "(i) mean of each and every column present in the dataframe.\n",
    "(ii) standard deviation of column, ‘column_2’"
   ]
  },
  {
   "cell_type": "code",
   "execution_count": null,
   "id": "7baa9ebe-5c21-4157-b339-b83c1ff25571",
   "metadata": {},
   "outputs": [],
   "source": [
    "You can use Pandas functions to calculate the required statistical measurements for the DataFrame df1. Here's the code to find the mean of each column in the DataFrame and the standard deviation of the 'column_2':\n",
    "\n",
    "import pandas as pd\n",
    "import numpy as np\n",
    "\n",
    "# Creating a DataFrame\n",
    "columns = ['column_1', 'column_2', 'column_3', 'column_4', 'column_5', 'column_6']\n",
    "indices = [1, 2, 3, 4, 5, 6]\n",
    "df1 = pd.DataFrame(np.random.rand(6, 6), columns=columns, index=indices)\n",
    "\n",
    "# (i) Mean of each column\n",
    "column_means = df1.mean()\n",
    "print(\"Mean of each column:\")\n",
    "print(column_means)\n",
    "\n",
    "# (ii) Standard deviation of 'column_2'\n",
    "std_dev_column_2 = df1['column_2'].std()\n",
    "print(\"\\nStandard deviation of 'column_2':\", std_dev_column_2)\n",
    "\n",
    "This code will calculate and print the mean of each column in the DataFrame using df1.mean(), and it will also calculate and print the standard deviation of 'column_2' using df1['column_2'].std().\n"
   ]
  },
  {
   "cell_type": "markdown",
   "id": "9920df22-3794-4449-8f4a-b59385982cbe",
   "metadata": {},
   "source": [
    "Q5. Replace the data present in the second row of column, ‘column_2’ by a string variable then find the\n",
    "mean of column, column_2.\n",
    "If you are getting errors in executing it then explain why.\n",
    "[Hint: To replace the data use df1.loc[] and equate this to string data of your choice.]"
   ]
  },
  {
   "cell_type": "code",
   "execution_count": null,
   "id": "0ad686e7-1fb6-4f78-a5d3-d46ccf39c7f6",
   "metadata": {},
   "outputs": [],
   "source": [
    "You can replace the data in the second row of 'column_2' by using df1.loc[]. However, if you replace the data in 'column_2' with a string, you will encounter an error when trying to calculate the mean of 'column_2'. This is because you cannot calculate the mean of a numeric column that contains non-numeric (string) values.\n",
    "\n",
    "Here's how you can attempt to replace the data in the second row of 'column_2', which will lead to an error:\n",
    "\n",
    "# Attempt to replace the data in the second row of 'column_2' with a string\n",
    "df1.loc[2, 'column_2'] = 'string_data'\n",
    "\n",
    "# Try to calculate the mean of 'column_2'\n",
    "mean_column_2 = df1['column_2'].mean()\n",
    "print(\"Mean of 'column_2':\", mean_column_2)\n",
    "\n",
    "When you try to calculate the mean of 'column_2' after replacing the data with a string, you will get a TypeError because Pandas cannot calculate the mean of a column that contains non-numeric data.\n",
    "\n",
    "If you want to calculate the mean after replacing the data, you should ensure that the data in 'column_2' is numeric. You can either convert the string data to a numeric type (e.g., float) or replace it with numeric values."
   ]
  },
  {
   "cell_type": "markdown",
   "id": "98bc694c-8bdd-4552-ae4e-d78ea15ce758",
   "metadata": {},
   "source": [
    "Q6. What do you understand about the windows function in pandas and list the types of windows\n",
    "functions?"
   ]
  },
  {
   "cell_type": "code",
   "execution_count": null,
   "id": "e30b7b9e-9efa-43e9-9d52-b494075f312c",
   "metadata": {},
   "outputs": [],
   "source": [
    "In pandas, the term \"window functions\" refers to a group of functions that allow you to perform calculations on a specific \"window\" or \"subset\" of data within a DataFrame, usually defined by a window or rolling operation. These functions are extremely useful for time-series data and are often used for tasks such as moving averages, cumulative sums, and more.\n",
    "\n",
    "The two primary types of window functions in pandas are:\n",
    "\n",
    "1. Rolling Functions:\n",
    "\n",
    "Rolling functions are used to perform calculations over a rolling window of data. This means that the window size moves through the DataFrame, and the calculation is applied to each window.\n",
    "These functions are typically used for time-series analysis and are useful for calculating rolling statistics like moving averages, rolling sums, and rolling standard deviations.\n",
    "Some common rolling functions include:\n",
    "rolling().mean(): Calculate the rolling mean.\n",
    "rolling().sum(): Calculate the rolling sum.\n",
    "rolling().std(): Calculate the rolling standard deviation.\n",
    "rolling().min(): Calculate the rolling minimum.\n",
    "rolling().max(): Calculate the rolling maximum.\n",
    "Many more...\n",
    "\n",
    "2. Expanding Functions:\n",
    "\n",
    "Expanding functions are used to calculate statistics over an expanding window, which means the window size starts from a minimum size and expands to include more data points as it moves through the DataFrame.\n",
    "These functions are useful when you want to calculate cumulative statistics like cumulative sums, cumulative products, or cumulative minimum/maximum values.\n",
    "Some common expanding functions include:\n",
    "expanding().sum(): Calculate the cumulative sum.\n",
    "expanding().mean(): Calculate the cumulative mean.\n",
    "expanding().std(): Calculate the cumulative standard deviation.\n",
    "expanding().min(): Calculate the cumulative minimum.\n",
    "expanding().max(): Calculate the cumulative maximum.\n",
    "Many more...\n",
    "Here's a basic example of using rolling and expanding functions:\n",
    "\n",
    "import pandas as pd\n",
    "import numpy as np\n",
    "\n",
    "# Create a sample DataFrame\n",
    "data = {'values': np.arange(1, 11)}\n",
    "df = pd.DataFrame(data)\n",
    "\n",
    "# Rolling window mean with a window size of 3\n",
    "rolling_mean = df['values'].rolling(window=3).mean()\n",
    "\n",
    "# Expanding sum\n",
    "expanding_sum = df['values'].expanding().sum()\n",
    "\n",
    "These window functions are powerful tools for time-series data analysis and can help you gain insights into trends and patterns in your data over time."
   ]
  },
  {
   "cell_type": "markdown",
   "id": "423e2a25-e5b2-4122-b17e-6a678d5458dc",
   "metadata": {},
   "source": [
    "Q7. Write a code to print only the current month and year at the time of answering this question.\n",
    "[Hint: Use pandas.datetime function]"
   ]
  },
  {
   "cell_type": "code",
   "execution_count": null,
   "id": "ce6b65fe-3bdc-42ee-bbd8-1a9c9cc38d37",
   "metadata": {},
   "outputs": [],
   "source": [
    "You can use the pd.Timestamp.now() function from pandas to get the current date and time and then extract the month and year from it. Here's the code to print the current month and year:\n",
    "\n",
    "import pandas as pd\n",
    "\n",
    "# Get the current date and time\n",
    "current_datetime = pd.Timestamp.now()\n",
    "\n",
    "# Extract the month and year\n",
    "current_month = current_datetime.month\n",
    "current_year = current_datetime.year\n",
    "\n",
    "# Print the current month and year\n",
    "print(f\"Current Month: {current_month}\")\n",
    "print(f\"Current Year: {current_year}\")\n",
    "\n",
    "This code will give you the current month and year at the time of execution."
   ]
  },
  {
   "cell_type": "markdown",
   "id": "6100a1a0-631d-4da7-97ea-ebe96c85918f",
   "metadata": {},
   "source": [
    "Q8. Write a Python program that takes in two dates as input (in the format YYYY-MM-DD) and\n",
    "calculates the difference between them in days, hours, and minutes using Pandas time delta. The\n",
    "program should prompt the user to enter the dates and display the result."
   ]
  },
  {
   "cell_type": "code",
   "execution_count": null,
   "id": "d267e911-ac2d-425f-b43f-d5f8f4fdcf2f",
   "metadata": {},
   "outputs": [],
   "source": [
    "You can create a Python program that takes two dates as input from the user, calculates the difference between them in days, hours, and minutes using Pandas time delta, and then displays the result. Here's a sample program:\n",
    "\n",
    "import pandas as pd\n",
    "\n",
    "# Function to calculate the time difference\n",
    "def calculate_time_difference(date1, date2):\n",
    "    # Parse the input dates into Pandas datetime objects\n",
    "    try:\n",
    "        date1 = pd.to_datetime(date1)\n",
    "        date2 = pd.to_datetime(date2)\n",
    "    except ValueError:\n",
    "        return None  # Return None if the input format is invalid\n",
    "\n",
    "    # Calculate the time difference\n",
    "    time_difference = date2 - date1\n",
    "\n",
    "    return time_difference\n",
    "\n",
    "# Get user input for two dates\n",
    "while True:\n",
    "    date1_input = input(\"Enter the first date (YYYY-MM-DD): \")\n",
    "    date2_input = input(\"Enter the second date (YYYY-MM-DD): \")\n",
    "\n",
    "    # Calculate the time difference\n",
    "    time_diff = calculate_time_difference(date1_input, date2_input)\n",
    "\n",
    "    if time_diff is None:\n",
    "        print(\"Invalid date format. Please use the format YYYY-MM-DD.\")\n",
    "    else:\n",
    "        break\n",
    "\n",
    "# Display the time difference in days, hours, and minutes\n",
    "days = time_diff.days\n",
    "hours, remainder = divmod(time_diff.seconds, 3600)\n",
    "minutes, _ = divmod(remainder, 60)\n",
    "\n",
    "print(f\"Time Difference: {days} days, {hours} hours, {minutes} minutes\")\n",
    "\n",
    "This program defines a function calculate_time_difference to parse and calculate the time difference between two dates using Pandas. It prompts the user for input, validates the input format, and then calculates and displays the time difference in days, hours, and minutes."
   ]
  },
  {
   "cell_type": "markdown",
   "id": "d4177b84-e8fd-4200-8d23-41baf1d8cb89",
   "metadata": {},
   "source": [
    "Q9. Write a Python program that reads a CSV file containing categorical data and converts a specified\n",
    "column to a categorical data type. The program should prompt the user to enter the file path, column\n",
    "name, and category order, and then display the sorted data."
   ]
  },
  {
   "cell_type": "code",
   "execution_count": null,
   "id": "4c74432a-2071-42b4-8684-e4d37010d9cb",
   "metadata": {},
   "outputs": [],
   "source": [
    "You can create a Python program to read a CSV file containing categorical data, convert a specified column to a categorical data type, and display the sorted data based on the categorical order. Here's a sample program using the pandas library:\n",
    "\n",
    "import pandas as pd\n",
    "\n",
    "# Function to read CSV, convert column to categorical, and display sorted data\n",
    "def process_csv_file():\n",
    "    # Prompt the user for the file path\n",
    "    file_path = input(\"Enter the CSV file path: \")\n",
    "\n",
    "    # Prompt the user for the column name to convert\n",
    "    column_name = input(\"Enter the column name to convert to categorical: \")\n",
    "\n",
    "    # Prompt the user for the category order\n",
    "    category_order = input(\"Enter the category order (comma-separated values): \").split(',')\n",
    "\n",
    "    try:\n",
    "        # Read the CSV file\n",
    "        df = pd.read_csv(file_path)\n",
    "\n",
    "        # Convert the specified column to categorical\n",
    "        df[column_name] = pd.Categorical(df[column_name], categories=category_order, ordered=True)\n",
    "\n",
    "        # Sort the DataFrame based on the categorical order\n",
    "        sorted_df = df.sort_values(by=[column_name])\n",
    "\n",
    "        # Display the sorted data\n",
    "        print(\"\\nSorted Data:\")\n",
    "        print(sorted_df)\n",
    "\n",
    "    except FileNotFoundError:\n",
    "        print(f\"File not found at {file_path}\")\n",
    "    except KeyError:\n",
    "        print(f\"Column '{column_name}' not found in the CSV file.\")\n",
    "\n",
    "# Call the function to process the CSV file\n",
    "process_csv_file()\n",
    "\n",
    "This program prompts the user for the file path, column name, and category order. It reads the CSV file, converts the specified column to a categorical data type with the specified category order, sorts the DataFrame based on the categorical order, and displays the sorted data."
   ]
  },
  {
   "cell_type": "markdown",
   "id": "4a3d6880-8c0d-47bd-81d0-4428b141a311",
   "metadata": {},
   "source": [
    "Q10. Write a Python program that reads a CSV file containing sales data for different products and\n",
    "visualizes the data using a stacked bar chart to show the sales of each product category over time. The\n",
    "program should prompt the user to enter the file path and display the chart."
   ]
  },
  {
   "cell_type": "code",
   "execution_count": null,
   "id": "8279e2ba-7b3f-46e5-9bd3-20ae134eebb9",
   "metadata": {},
   "outputs": [],
   "source": [
    "To create a Python program that reads a CSV file containing sales data for different products and visualizes the data using a stacked bar chart to show the sales of each product category over time, you can use the pandas and matplotlib libraries. Here's a sample program:\n",
    "\n",
    "import pandas as pd\n",
    "import matplotlib.pyplot as plt\n",
    "\n",
    "# Function to read CSV file, create a stacked bar chart, and display it\n",
    "def visualize_sales_data():\n",
    "    # Prompt the user for the file path\n",
    "    file_path = input(\"sales.csv\")\n",
    "\n",
    "    try:\n",
    "        # Read the CSV file into a DataFrame\n",
    "        df = pd.read_csv(\"sales.csv\")\n",
    "\n",
    "        # Assuming the CSV file has columns 'Date', 'Product', and 'Sales'\n",
    "        # Convert the 'Date' column to datetime if needed\n",
    "        df['Date'] = pd.to_datetime(df['Date'])\n",
    "\n",
    "        # Pivot the data to create a DataFrame suitable for a stacked bar chart\n",
    "        pivot_df = df.pivot(index='Date', columns='Product', values='Sales')\n",
    "\n",
    "        # Plot a stacked bar chart\n",
    "        pivot_df.plot(kind='bar', stacked=True, figsize=(10, 6))\n",
    "        plt.xlabel('Date')\n",
    "        plt.ylabel('Sales')\n",
    "        plt.title('Stacked Bar Chart of Sales by Product Category Over Time')\n",
    "        plt.legend(title='Product Category')\n",
    "\n",
    "        # Show the chart\n",
    "        plt.show()\n",
    "\n",
    "    except FileNotFoundError:\n",
    "        print(f\"File not found at {sales.csv}\")\n",
    "# Call the function to visualize the sales data\n",
    "visualize_sales_data()\n"
   ]
  },
  {
   "cell_type": "markdown",
   "id": "7b88491c-e941-4ae6-baac-11e061722a70",
   "metadata": {},
   "source": [
    "Q11. You are given a CSV file containing student data that includes the student ID and their test score. Write\n",
    "a Python program that reads the CSV file, calculates the mean, median, and mode of the test scores, and\n",
    "displays the results in a table.\n",
    "\n",
    "The program should do the following\n",
    "I Prompt the user to enter the file path of the CSV file containing the student dataR\n",
    "I Read the CSV file into a Pandas DataFrameR\n",
    "I Calculate the mean, median, and mode of the test scores using Pandas toolsR\n",
    "I Display the mean, median, and mode in a table.\n",
    "Assume the CSV file contains the following columnsM\n",
    "I Student ID: The ID of the studentR\n",
    "I Test Score: The score of the student's test.\n",
    "\n",
    "Example usage of the program:\n",
    "Enter the file path of the CSV file containing the student data: student_data.csv\n",
    "\n",
    "+-----------+--------+\n",
    "| Statistic | Value |\n",
    "+-----------+--------+\n",
    "| Mean | 79.6 |\n",
    "| Median | 82 |\n",
    "| Mode | 85, 90 |\n",
    "+-----------+--------+\n",
    "\n",
    "Assume that the CSV file student_data.csv contains the following data:\n",
    "Student ID,Test Score\n",
    "1,85\n",
    "2,90\n",
    "3,80\n",
    "4,75\n",
    "5,85\n",
    "6,82\n",
    "7,78\n",
    "8,85\n",
    "9,90\n",
    "10,85\n",
    "\n",
    "The program should calculate the mean, median, and mode of the test scores and display the results\n",
    "in a table."
   ]
  },
  {
   "cell_type": "code",
   "execution_count": null,
   "id": "9c55df06-6657-42f5-99fa-c33c9134e92f",
   "metadata": {},
   "outputs": [],
   "source": [
    "import csv\n",
    "\n",
    "with open('student_data.csv', 'w', newline='') as file:\n",
    "    writer = csv.writer(file)\n",
    "    field = [\"Student ID\", \"Test Score\"]\n",
    "    \n",
    "    writer.writerow(field)\n",
    "    writer.writerow([\"1\", \"85\"])\n",
    "    writer.writerow([\"2\", \"90\"])\n",
    "    writer.writerow([\"3\", \"80\"])\n",
    "    writer.writerow([\"4\", \"75\"])\n",
    "    writer.writerow([\"5\", \"85\"])\n",
    "    writer.writerow([\"6\", \"82\"])\n",
    "    writer.writerow([\"7\", \"78\"])\n",
    "    writer.writerow([\"8\", \"85\"])\n",
    "    writer.writerow([\"9\", \"90\"])\n",
    "    writer.writerow([\"10\", \"85\"])"
   ]
  },
  {
   "cell_type": "code",
   "execution_count": 1,
   "id": "63e486b1-539f-466e-ac12-4d8de6a9dd93",
   "metadata": {},
   "outputs": [],
   "source": [
    "import pandas as pd"
   ]
  },
  {
   "cell_type": "code",
   "execution_count": 2,
   "id": "9e6c5750-719f-413c-8436-e1252e80777b",
   "metadata": {},
   "outputs": [],
   "source": [
    "student_data = pd.read_csv(\"student_data.csv\")"
   ]
  },
  {
   "cell_type": "code",
   "execution_count": 7,
   "id": "d1203a9e-656b-4457-a9ee-e94055c61a28",
   "metadata": {},
   "outputs": [
    {
     "data": {
      "text/html": [
       "<div>\n",
       "<style scoped>\n",
       "    .dataframe tbody tr th:only-of-type {\n",
       "        vertical-align: middle;\n",
       "    }\n",
       "\n",
       "    .dataframe tbody tr th {\n",
       "        vertical-align: top;\n",
       "    }\n",
       "\n",
       "    .dataframe thead th {\n",
       "        text-align: right;\n",
       "    }\n",
       "</style>\n",
       "<table border=\"1\" class=\"dataframe\">\n",
       "  <thead>\n",
       "    <tr style=\"text-align: right;\">\n",
       "      <th></th>\n",
       "      <th>Student ID</th>\n",
       "      <th>Test Score</th>\n",
       "    </tr>\n",
       "  </thead>\n",
       "  <tbody>\n",
       "    <tr>\n",
       "      <th>0</th>\n",
       "      <td>1</td>\n",
       "      <td>85</td>\n",
       "    </tr>\n",
       "    <tr>\n",
       "      <th>1</th>\n",
       "      <td>2</td>\n",
       "      <td>90</td>\n",
       "    </tr>\n",
       "    <tr>\n",
       "      <th>2</th>\n",
       "      <td>3</td>\n",
       "      <td>80</td>\n",
       "    </tr>\n",
       "    <tr>\n",
       "      <th>3</th>\n",
       "      <td>4</td>\n",
       "      <td>75</td>\n",
       "    </tr>\n",
       "    <tr>\n",
       "      <th>4</th>\n",
       "      <td>5</td>\n",
       "      <td>85</td>\n",
       "    </tr>\n",
       "    <tr>\n",
       "      <th>5</th>\n",
       "      <td>6</td>\n",
       "      <td>82</td>\n",
       "    </tr>\n",
       "    <tr>\n",
       "      <th>6</th>\n",
       "      <td>7</td>\n",
       "      <td>78</td>\n",
       "    </tr>\n",
       "    <tr>\n",
       "      <th>7</th>\n",
       "      <td>8</td>\n",
       "      <td>85</td>\n",
       "    </tr>\n",
       "    <tr>\n",
       "      <th>8</th>\n",
       "      <td>9</td>\n",
       "      <td>90</td>\n",
       "    </tr>\n",
       "    <tr>\n",
       "      <th>9</th>\n",
       "      <td>10</td>\n",
       "      <td>85</td>\n",
       "    </tr>\n",
       "  </tbody>\n",
       "</table>\n",
       "</div>"
      ],
      "text/plain": [
       "   Student ID  Test Score\n",
       "0           1          85\n",
       "1           2          90\n",
       "2           3          80\n",
       "3           4          75\n",
       "4           5          85\n",
       "5           6          82\n",
       "6           7          78\n",
       "7           8          85\n",
       "8           9          90\n",
       "9          10          85"
      ]
     },
     "execution_count": 7,
     "metadata": {},
     "output_type": "execute_result"
    }
   ],
   "source": [
    "student_data"
   ]
  },
  {
   "cell_type": "code",
   "execution_count": 4,
   "id": "ae8a5920-9d50-40ca-97bb-767d3863f2f5",
   "metadata": {},
   "outputs": [
    {
     "data": {
      "text/plain": [
       "83.5"
      ]
     },
     "execution_count": 4,
     "metadata": {},
     "output_type": "execute_result"
    }
   ],
   "source": [
    "student_data['Test Score'].mean()"
   ]
  },
  {
   "cell_type": "code",
   "execution_count": 5,
   "id": "f382992f-433b-4201-874b-2df5f9b01ffd",
   "metadata": {},
   "outputs": [
    {
     "data": {
      "text/plain": [
       "85.0"
      ]
     },
     "execution_count": 5,
     "metadata": {},
     "output_type": "execute_result"
    }
   ],
   "source": [
    "student_data['Test Score'].median()"
   ]
  },
  {
   "cell_type": "code",
   "execution_count": 6,
   "id": "c1a13488-a4c3-45bf-b750-5a4c807acd05",
   "metadata": {},
   "outputs": [
    {
     "data": {
      "text/plain": [
       "0    85\n",
       "Name: Test Score, dtype: int64"
      ]
     },
     "execution_count": 6,
     "metadata": {},
     "output_type": "execute_result"
    }
   ],
   "source": [
    "student_data['Test Score'].mode()"
   ]
  },
  {
   "cell_type": "code",
   "execution_count": null,
   "id": "bb4f1c19-c5d9-4207-b78c-d40765750289",
   "metadata": {},
   "outputs": [],
   "source": []
  }
 ],
 "metadata": {
  "kernelspec": {
   "display_name": "Python 3 (ipykernel)",
   "language": "python",
   "name": "python3"
  },
  "language_info": {
   "codemirror_mode": {
    "name": "ipython",
    "version": 3
   },
   "file_extension": ".py",
   "mimetype": "text/x-python",
   "name": "python",
   "nbconvert_exporter": "python",
   "pygments_lexer": "ipython3",
   "version": "3.10.8"
  }
 },
 "nbformat": 4,
 "nbformat_minor": 5
}
