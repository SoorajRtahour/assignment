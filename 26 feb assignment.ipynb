{
 "cells": [
  {
   "cell_type": "markdown",
   "id": "235a1918-45ba-4a38-b91d-6ba3dc6bdf9b",
   "metadata": {},
   "source": [
    "Consider the below code to answer further questions:\n",
    "\n",
    "import numpy as np\n",
    "\n",
    "list_ = [ ‘1’ , ’2’ , ‘3’ , ‘4’ , ‘5’ ]\n",
    "\n",
    "array_list = np.array(object = list_)"
   ]
  },
  {
   "cell_type": "markdown",
   "id": "29e77827-499c-4511-b503-c11c7b8de301",
   "metadata": {},
   "source": [
    "Q1. Is there any difference in the data type of variables list_ and array_list? If there is then write a code\n",
    "to print the data types of both the variables."
   ]
  },
  {
   "cell_type": "code",
   "execution_count": null,
   "id": "0c629c96-9cca-4334-831f-184ff76d06e5",
   "metadata": {},
   "outputs": [],
   "source": [
    "Yes, there is a difference in the data type of the list_ and array_list variables. The list_ variable is a Python list containing strings, while the array_list variable is a NumPy array that has its own data type determined by NumPy.\n",
    "\n",
    "You can print the data types of both variables using the dtype attribute of NumPy arrays and the type() function for Python lists. Here's the code to do that:\n",
    "\n",
    "python\n",
    "\n",
    "import numpy as np\n",
    "\n",
    "list_ = ['1', '2', '3', '4', '5']\n",
    "array_list = np.array(object=list_)\n",
    "\n",
    "# Print the data types of both variables\n",
    "print(\"Data type of 'list_':\", type(list_[0]))\n",
    "print(\"Data type of 'array_list':\", array_list.dtype)\n",
    "\n",
    "This code will print the data type of the first element in the Python list list_ (which is a string) and the data type of the NumPy array array_list, which will be determined by the data type of its elements (in this case, it will likely be str as well due to the string elements in the list)."
   ]
  },
  {
   "cell_type": "markdown",
   "id": "bc6775b1-8825-4213-9902-b7f0b705c56e",
   "metadata": {},
   "source": [
    "Q2. Write a code to print the data type of each and every element of both the variables list_ and\n",
    "arra_list."
   ]
  },
  {
   "cell_type": "code",
   "execution_count": null,
   "id": "7c042e5d-191e-4981-895a-192c48f5d788",
   "metadata": {},
   "outputs": [],
   "source": [
    "To print the data type of each and every element of both the list_ and array_list variables, you can loop through the elements and use the type() function for the Python list and the dtype attribute for the NumPy array. Here's the code to do that:\n",
    "\n",
    "python\n",
    "\n",
    "import numpy as np\n",
    "\n",
    "list_ = ['1', '2', '3', '4', '5']\n",
    "array_list = np.array(object=list_)\n",
    "\n",
    "# Print the data type of each element in 'list_'\n",
    "print(\"Data types of elements in 'list_':\")\n",
    "for item in list_:\n",
    "    print(type(item))\n",
    "\n",
    "# Print the data type of each element in 'array_list'\n",
    "print(\"\\nData types of elements in 'array_list':\")\n",
    "for item in array_list:\n",
    "    print(item.dtype)\n",
    "    \n",
    "This code will loop through each element in list_ and print its data type using the type() function, and it will loop through each element in array_list and print its data type using the dtype attribute. Since all the elements in both list_ and array_list are strings in this example, you will see that the data types are all str (string)."
   ]
  },
  {
   "cell_type": "markdown",
   "id": "4728808f-ac32-4626-af4d-16b6f0c256ae",
   "metadata": {},
   "source": [
    "Q3. Considering the following changes in the variable, array_list:\n",
    "\n",
    "array_list = np.array(object = list_, dtype = int)\n",
    "\n",
    "Will there be any difference in the data type of the elements present in both the variables, list_ and\n",
    "arra_list? If so then print the data types of each and every element present in both the variables, list_\n",
    "and arra_list."
   ]
  },
  {
   "cell_type": "code",
   "execution_count": null,
   "id": "2d74670f-0137-4da3-b0f2-931f3ef7e5da",
   "metadata": {},
   "outputs": [],
   "source": [
    "Yes, there will be a difference in the data type of the elements present in list_ and array_list when you create array_list with the dtype=int. In this case, array_list will be a NumPy array with integer data type (int), while list_ will remain a Python list with string data type (str).\n",
    "\n",
    "Here's the code to print the data types of each and every element present in both variables:\n",
    "\n",
    "python\n",
    "\n",
    "import numpy as np\n",
    "\n",
    "list_ = ['1', '2', '3', '4', '5']\n",
    "array_list = np.array(object=list_, dtype=int)\n",
    "\n",
    "# Print the data types of elements in 'list_'\n",
    "print(\"Data types of elements in 'list_':\")\n",
    "for item in list_:\n",
    "    print(type(item))\n",
    "\n",
    "# Print the data types of elements in 'array_list'\n",
    "print(\"\\nData types of elements in 'array_list':\")\n",
    "for item in array_list:\n",
    "    print(item.dtype)\n",
    "    \n",
    "With dtype=int, the elements in array_list will have an integer data type (int), while the elements in list_ will remain strings (str)."
   ]
  },
  {
   "cell_type": "markdown",
   "id": "cdf8ddab-6567-47fc-8ea2-b28325288bf7",
   "metadata": {},
   "source": [
    "Consider the below code to answer further questions:\n",
    "\n",
    "import numpy as np\n",
    "\n",
    "num_list = [ [ 1 , 2 , 3 ] , [ 4 , 5 , 6 ] ]\n",
    "\n",
    "num_array = np.array(object = num_list)"
   ]
  },
  {
   "cell_type": "markdown",
   "id": "6c856939-d16a-43e3-becd-ac1ba56d956c",
   "metadata": {},
   "source": [
    "Q4. Write a code to find the following characteristics of variable, num_array:\n",
    "(i) shape\n",
    "(ii) size"
   ]
  },
  {
   "cell_type": "code",
   "execution_count": null,
   "id": "5d089077-8c63-44eb-abe3-ab371883adf6",
   "metadata": {},
   "outputs": [],
   "source": [
    "You can find the shape and size of the NumPy array num_array using the shape and size attributes, respectively. Here's the code to do that:\n",
    "\n",
    "python\n",
    "\n",
    "import numpy as np\n",
    "\n",
    "num_list = [[1, 2, 3], [4, 5, 6]]\n",
    "num_array = np.array(object=num_list)\n",
    "\n",
    "# Find the shape of num_array\n",
    "shape = num_array.shape\n",
    "\n",
    "# Find the size of num_array\n",
    "size = num_array.size\n",
    "\n",
    "print(\"Shape of num_array:\", shape)\n",
    "print(\"Size of num_array:\", size)\n",
    "\n",
    "This code will output the shape and size of the num_array, which represents a 2D array with a shape of (2, 3) (2 rows and 3 columns) and a size of 6 (total number of elements in the array)."
   ]
  },
  {
   "cell_type": "markdown",
   "id": "b5d4fd84-886a-46c7-a27c-875f1602efee",
   "metadata": {},
   "source": [
    "Q5. Write a code to create numpy array of 3*3 matrix containing zeros only, using a numpy array\n",
    "creation function.\n",
    "[Hint: The size of the array will be 9 and the shape will be (3,3).]"
   ]
  },
  {
   "cell_type": "code",
   "execution_count": null,
   "id": "c29ae18c-9796-42de-9443-1cf92f9c292b",
   "metadata": {},
   "outputs": [],
   "source": [
    "You can create a NumPy array of a 3x3 matrix containing zeros using the numpy.zeros() function. Here's the code to do that:\n",
    "\n",
    "python\n",
    "\n",
    "import numpy as np\n",
    "\n",
    "# Create a 3x3 matrix of zeros\n",
    "zero_matrix = np.zeros((3, 3))\n",
    "\n",
    "print(zero_matrix)\n",
    "\n",
    "This code will create a NumPy array named zero_matrix with a shape of (3, 3) and fill it with zeros."
   ]
  },
  {
   "cell_type": "markdown",
   "id": "9bb3dcae-fc8c-4771-9a5e-168b06508a9d",
   "metadata": {},
   "source": [
    "Q6. Create an identity matrix of shape (5,5) using numpy functions?\n",
    "[Hint: An identity matrix is a matrix containing 1 diagonally and other elements will be 0.]"
   ]
  },
  {
   "cell_type": "code",
   "execution_count": null,
   "id": "4479f8fe-3ebb-43ff-a4eb-675f163b9fa5",
   "metadata": {},
   "outputs": [],
   "source": [
    "You can create a 5x5 identity matrix using the numpy.eye() function. Here's how to do it:\n",
    "\n",
    "python\n",
    "\n",
    "import numpy as np\n",
    "\n",
    "# Create a 5x5 identity matrix\n",
    "identity_matrix = np.eye(5)\n",
    "\n",
    "print(identity_matrix)\n",
    "\n",
    "The np.eye(5) function call will create a 5x5 identity matrix with 1s on the main diagonal and 0s elsewhere."
   ]
  }
 ],
 "metadata": {
  "kernelspec": {
   "display_name": "Python 3 (ipykernel)",
   "language": "python",
   "name": "python3"
  },
  "language_info": {
   "codemirror_mode": {
    "name": "ipython",
    "version": 3
   },
   "file_extension": ".py",
   "mimetype": "text/x-python",
   "name": "python",
   "nbconvert_exporter": "python",
   "pygments_lexer": "ipython3",
   "version": "3.10.8"
  }
 },
 "nbformat": 4,
 "nbformat_minor": 5
}
